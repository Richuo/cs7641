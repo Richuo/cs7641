{
 "cells": [
  {
   "cell_type": "markdown",
   "metadata": {},
   "source": [
    "# Supervised Learning \n",
    "\n",
    "\n",
    "- Decision trees with some form of pruning\n",
    "- Neural networks\n",
    "- Boosting\n",
    "- Support Vector Machines\n",
    "- k-nearest neighbors\n",
    "\n",
    "\n",
    "## Table of contents <a name=\"menu\"></a>\n",
    "\n",
    "1. [Data Pre-processing](#dataprocess)\n",
    "    1. [Label Encoding](#labelencode)\n",
    "    2. [Scale and change dtype](#scale)\n",
    "    3. [Splitting the data (no CV)](#split)\n",
    "2. [Feature Engineering](#featureengi)\n",
    "    1. [Feature importance](#featureimportance)\n",
    "3. [Models](#models)\n",
    "4. [Learning curves for \"one-shot\" algorithms](#learningcurves)\n",
    "5. [Cross-validation](#crossval)"
   ]
  },
  {
   "cell_type": "code",
   "execution_count": 1,
   "metadata": {},
   "outputs": [],
   "source": [
    "import time\n",
    "import datetime\n",
    "\n",
    "import copy\n",
    "import random\n",
    "import numpy as np\n",
    "import pandas as pd\n",
    "\n",
    "import matplotlib.pyplot as plt\n",
    "import seaborn as sns\n",
    "\n",
    "from sklearn.model_selection import train_test_split\n",
    "from sklearn.model_selection import StratifiedKFold\n",
    "from sklearn.preprocessing import LabelEncoder\n",
    "from sklearn.preprocessing import StandardScaler\n",
    "from sklearn.metrics import mean_squared_error\n",
    "from sklearn.metrics import classification_report\n",
    "from sklearn.metrics import confusion_matrix\n",
    "from sklearn.metrics import log_loss\n",
    "\n",
    "import torch\n",
    "import torch.nn as nn\n",
    "from torch.nn import functional as F\n",
    "import torch.optim as optim\n",
    "from torch.optim import lr_scheduler"
   ]
  },
  {
   "cell_type": "code",
   "execution_count": 2,
   "metadata": {},
   "outputs": [],
   "source": [
    "INPUT_DATA = 'bank_marketing_data/'\n",
    "TRAIN_CSV = 'bank.csv'\n",
    "\n",
    "FIG_PATH = 'figures/bank/'\n",
    "\n",
    "RANDOM_STATE = 17"
   ]
  },
  {
   "cell_type": "code",
   "execution_count": 3,
   "metadata": {},
   "outputs": [
    {
     "name": "stdout",
     "output_type": "stream",
     "text": [
      "(11162, 17)\n"
     ]
    },
    {
     "data": {
      "text/html": [
       "<div>\n",
       "<style scoped>\n",
       "    .dataframe tbody tr th:only-of-type {\n",
       "        vertical-align: middle;\n",
       "    }\n",
       "\n",
       "    .dataframe tbody tr th {\n",
       "        vertical-align: top;\n",
       "    }\n",
       "\n",
       "    .dataframe thead th {\n",
       "        text-align: right;\n",
       "    }\n",
       "</style>\n",
       "<table border=\"1\" class=\"dataframe\">\n",
       "  <thead>\n",
       "    <tr style=\"text-align: right;\">\n",
       "      <th></th>\n",
       "      <th>age</th>\n",
       "      <th>job</th>\n",
       "      <th>marital</th>\n",
       "      <th>education</th>\n",
       "      <th>default</th>\n",
       "      <th>balance</th>\n",
       "      <th>housing</th>\n",
       "      <th>loan</th>\n",
       "      <th>contact</th>\n",
       "      <th>day</th>\n",
       "      <th>month</th>\n",
       "      <th>duration</th>\n",
       "      <th>campaign</th>\n",
       "      <th>pdays</th>\n",
       "      <th>previous</th>\n",
       "      <th>poutcome</th>\n",
       "      <th>deposit</th>\n",
       "    </tr>\n",
       "  </thead>\n",
       "  <tbody>\n",
       "    <tr>\n",
       "      <th>0</th>\n",
       "      <td>59</td>\n",
       "      <td>admin.</td>\n",
       "      <td>married</td>\n",
       "      <td>secondary</td>\n",
       "      <td>no</td>\n",
       "      <td>2343</td>\n",
       "      <td>yes</td>\n",
       "      <td>no</td>\n",
       "      <td>unknown</td>\n",
       "      <td>5</td>\n",
       "      <td>may</td>\n",
       "      <td>1042</td>\n",
       "      <td>1</td>\n",
       "      <td>-1</td>\n",
       "      <td>0</td>\n",
       "      <td>unknown</td>\n",
       "      <td>yes</td>\n",
       "    </tr>\n",
       "    <tr>\n",
       "      <th>1</th>\n",
       "      <td>56</td>\n",
       "      <td>admin.</td>\n",
       "      <td>married</td>\n",
       "      <td>secondary</td>\n",
       "      <td>no</td>\n",
       "      <td>45</td>\n",
       "      <td>no</td>\n",
       "      <td>no</td>\n",
       "      <td>unknown</td>\n",
       "      <td>5</td>\n",
       "      <td>may</td>\n",
       "      <td>1467</td>\n",
       "      <td>1</td>\n",
       "      <td>-1</td>\n",
       "      <td>0</td>\n",
       "      <td>unknown</td>\n",
       "      <td>yes</td>\n",
       "    </tr>\n",
       "    <tr>\n",
       "      <th>2</th>\n",
       "      <td>41</td>\n",
       "      <td>technician</td>\n",
       "      <td>married</td>\n",
       "      <td>secondary</td>\n",
       "      <td>no</td>\n",
       "      <td>1270</td>\n",
       "      <td>yes</td>\n",
       "      <td>no</td>\n",
       "      <td>unknown</td>\n",
       "      <td>5</td>\n",
       "      <td>may</td>\n",
       "      <td>1389</td>\n",
       "      <td>1</td>\n",
       "      <td>-1</td>\n",
       "      <td>0</td>\n",
       "      <td>unknown</td>\n",
       "      <td>yes</td>\n",
       "    </tr>\n",
       "    <tr>\n",
       "      <th>3</th>\n",
       "      <td>55</td>\n",
       "      <td>services</td>\n",
       "      <td>married</td>\n",
       "      <td>secondary</td>\n",
       "      <td>no</td>\n",
       "      <td>2476</td>\n",
       "      <td>yes</td>\n",
       "      <td>no</td>\n",
       "      <td>unknown</td>\n",
       "      <td>5</td>\n",
       "      <td>may</td>\n",
       "      <td>579</td>\n",
       "      <td>1</td>\n",
       "      <td>-1</td>\n",
       "      <td>0</td>\n",
       "      <td>unknown</td>\n",
       "      <td>yes</td>\n",
       "    </tr>\n",
       "    <tr>\n",
       "      <th>4</th>\n",
       "      <td>54</td>\n",
       "      <td>admin.</td>\n",
       "      <td>married</td>\n",
       "      <td>tertiary</td>\n",
       "      <td>no</td>\n",
       "      <td>184</td>\n",
       "      <td>no</td>\n",
       "      <td>no</td>\n",
       "      <td>unknown</td>\n",
       "      <td>5</td>\n",
       "      <td>may</td>\n",
       "      <td>673</td>\n",
       "      <td>2</td>\n",
       "      <td>-1</td>\n",
       "      <td>0</td>\n",
       "      <td>unknown</td>\n",
       "      <td>yes</td>\n",
       "    </tr>\n",
       "  </tbody>\n",
       "</table>\n",
       "</div>"
      ],
      "text/plain": [
       "   age         job  marital  education default  balance housing loan  contact  \\\n",
       "0   59      admin.  married  secondary      no     2343     yes   no  unknown   \n",
       "1   56      admin.  married  secondary      no       45      no   no  unknown   \n",
       "2   41  technician  married  secondary      no     1270     yes   no  unknown   \n",
       "3   55    services  married  secondary      no     2476     yes   no  unknown   \n",
       "4   54      admin.  married   tertiary      no      184      no   no  unknown   \n",
       "\n",
       "   day month  duration  campaign  pdays  previous poutcome deposit  \n",
       "0    5   may      1042         1     -1         0  unknown     yes  \n",
       "1    5   may      1467         1     -1         0  unknown     yes  \n",
       "2    5   may      1389         1     -1         0  unknown     yes  \n",
       "3    5   may       579         1     -1         0  unknown     yes  \n",
       "4    5   may       673         2     -1         0  unknown     yes  "
      ]
     },
     "execution_count": 3,
     "metadata": {},
     "output_type": "execute_result"
    }
   ],
   "source": [
    "train_csv = pd.read_csv(INPUT_DATA+TRAIN_CSV)\n",
    "print(train_csv.shape)\n",
    "train_csv.head()"
   ]
  },
  {
   "cell_type": "markdown",
   "metadata": {},
   "source": [
    "# Data Pre-processing"
   ]
  },
  {
   "cell_type": "code",
   "execution_count": 4,
   "metadata": {},
   "outputs": [
    {
     "name": "stdout",
     "output_type": "stream",
     "text": [
      "16\n"
     ]
    }
   ],
   "source": [
    "features = [col for col in train_csv.columns if col not in ['deposit']]\n",
    "print(len(features))"
   ]
  },
  {
   "cell_type": "code",
   "execution_count": 5,
   "metadata": {},
   "outputs": [
    {
     "name": "stdout",
     "output_type": "stream",
     "text": [
      "11162\n"
     ]
    }
   ],
   "source": [
    "train_csv['deposit'] = train_csv['deposit'].replace({'no': 0, 'yes':1}).astype(int)\n",
    "target_values = train_csv['deposit'].values\n",
    "print(len(target_values))"
   ]
  },
  {
   "cell_type": "code",
   "execution_count": null,
   "metadata": {},
   "outputs": [],
   "source": []
  },
  {
   "cell_type": "markdown",
   "metadata": {},
   "source": [
    "## Label encoding"
   ]
  },
  {
   "cell_type": "code",
   "execution_count": 6,
   "metadata": {},
   "outputs": [
    {
     "name": "stdout",
     "output_type": "stream",
     "text": [
      "(11162, 9)\n"
     ]
    },
    {
     "data": {
      "text/html": [
       "<div>\n",
       "<style scoped>\n",
       "    .dataframe tbody tr th:only-of-type {\n",
       "        vertical-align: middle;\n",
       "    }\n",
       "\n",
       "    .dataframe tbody tr th {\n",
       "        vertical-align: top;\n",
       "    }\n",
       "\n",
       "    .dataframe thead th {\n",
       "        text-align: right;\n",
       "    }\n",
       "</style>\n",
       "<table border=\"1\" class=\"dataframe\">\n",
       "  <thead>\n",
       "    <tr style=\"text-align: right;\">\n",
       "      <th></th>\n",
       "      <th>job</th>\n",
       "      <th>poutcome</th>\n",
       "      <th>marital</th>\n",
       "      <th>contact</th>\n",
       "      <th>education</th>\n",
       "      <th>housing</th>\n",
       "      <th>loan</th>\n",
       "      <th>default</th>\n",
       "      <th>month</th>\n",
       "    </tr>\n",
       "  </thead>\n",
       "  <tbody>\n",
       "    <tr>\n",
       "      <th>0</th>\n",
       "      <td>admin.</td>\n",
       "      <td>unknown</td>\n",
       "      <td>married</td>\n",
       "      <td>unknown</td>\n",
       "      <td>secondary</td>\n",
       "      <td>yes</td>\n",
       "      <td>no</td>\n",
       "      <td>no</td>\n",
       "      <td>may</td>\n",
       "    </tr>\n",
       "    <tr>\n",
       "      <th>1</th>\n",
       "      <td>admin.</td>\n",
       "      <td>unknown</td>\n",
       "      <td>married</td>\n",
       "      <td>unknown</td>\n",
       "      <td>secondary</td>\n",
       "      <td>no</td>\n",
       "      <td>no</td>\n",
       "      <td>no</td>\n",
       "      <td>may</td>\n",
       "    </tr>\n",
       "    <tr>\n",
       "      <th>2</th>\n",
       "      <td>technician</td>\n",
       "      <td>unknown</td>\n",
       "      <td>married</td>\n",
       "      <td>unknown</td>\n",
       "      <td>secondary</td>\n",
       "      <td>yes</td>\n",
       "      <td>no</td>\n",
       "      <td>no</td>\n",
       "      <td>may</td>\n",
       "    </tr>\n",
       "    <tr>\n",
       "      <th>3</th>\n",
       "      <td>services</td>\n",
       "      <td>unknown</td>\n",
       "      <td>married</td>\n",
       "      <td>unknown</td>\n",
       "      <td>secondary</td>\n",
       "      <td>yes</td>\n",
       "      <td>no</td>\n",
       "      <td>no</td>\n",
       "      <td>may</td>\n",
       "    </tr>\n",
       "    <tr>\n",
       "      <th>4</th>\n",
       "      <td>admin.</td>\n",
       "      <td>unknown</td>\n",
       "      <td>married</td>\n",
       "      <td>unknown</td>\n",
       "      <td>tertiary</td>\n",
       "      <td>no</td>\n",
       "      <td>no</td>\n",
       "      <td>no</td>\n",
       "      <td>may</td>\n",
       "    </tr>\n",
       "  </tbody>\n",
       "</table>\n",
       "</div>"
      ],
      "text/plain": [
       "          job poutcome  marital  contact  education housing loan default month\n",
       "0      admin.  unknown  married  unknown  secondary     yes   no      no   may\n",
       "1      admin.  unknown  married  unknown  secondary      no   no      no   may\n",
       "2  technician  unknown  married  unknown  secondary     yes   no      no   may\n",
       "3    services  unknown  married  unknown  secondary     yes   no      no   may\n",
       "4      admin.  unknown  married  unknown   tertiary      no   no      no   may"
      ]
     },
     "execution_count": 6,
     "metadata": {},
     "output_type": "execute_result"
    }
   ],
   "source": [
    "non_numerical_features = list(set(features) - set(train_csv._get_numeric_data().columns))\n",
    "non_num_csv = train_csv[non_numerical_features]\n",
    "print(non_num_csv.shape)\n",
    "non_num_csv.head()"
   ]
  },
  {
   "cell_type": "code",
   "execution_count": 7,
   "metadata": {},
   "outputs": [
    {
     "name": "stdout",
     "output_type": "stream",
     "text": [
      "{'retired', 'student', 'technician', 'services', 'unemployed', 'housemaid', 'entrepreneur', 'self-employed', 'admin.', 'blue-collar', 'unknown', 'management'}\n",
      "{'unknown', 'other', 'failure', 'success'}\n",
      "{'divorced', 'married', 'single'}\n",
      "{'cellular', 'unknown', 'telephone'}\n",
      "{'secondary', 'tertiary', 'unknown', 'primary'}\n",
      "{'yes', 'no'}\n",
      "{'yes', 'no'}\n",
      "{'yes', 'no'}\n",
      "{'oct', 'may', 'nov', 'jul', 'aug', 'jan', 'apr', 'feb', 'mar', 'sep', 'jun', 'dec'}\n"
     ]
    }
   ],
   "source": [
    "for col in non_numerical_features:\n",
    "    print(set(non_num_csv[col]))"
   ]
  },
  {
   "cell_type": "markdown",
   "metadata": {},
   "source": [
    "For the columns 'default', 'housing' and 'loan', since we have some yes and no values, we have to attribute no to 0 and yes to 1.\n",
    "For the others, we can encode the labels as usual."
   ]
  },
  {
   "cell_type": "code",
   "execution_count": 8,
   "metadata": {},
   "outputs": [
    {
     "data": {
      "text/html": [
       "<div>\n",
       "<style scoped>\n",
       "    .dataframe tbody tr th:only-of-type {\n",
       "        vertical-align: middle;\n",
       "    }\n",
       "\n",
       "    .dataframe tbody tr th {\n",
       "        vertical-align: top;\n",
       "    }\n",
       "\n",
       "    .dataframe thead th {\n",
       "        text-align: right;\n",
       "    }\n",
       "</style>\n",
       "<table border=\"1\" class=\"dataframe\">\n",
       "  <thead>\n",
       "    <tr style=\"text-align: right;\">\n",
       "      <th></th>\n",
       "      <th>job</th>\n",
       "      <th>poutcome</th>\n",
       "      <th>marital</th>\n",
       "      <th>contact</th>\n",
       "      <th>education</th>\n",
       "      <th>housing</th>\n",
       "      <th>loan</th>\n",
       "      <th>default</th>\n",
       "      <th>month</th>\n",
       "    </tr>\n",
       "  </thead>\n",
       "  <tbody>\n",
       "    <tr>\n",
       "      <th>0</th>\n",
       "      <td>admin.</td>\n",
       "      <td>unknown</td>\n",
       "      <td>married</td>\n",
       "      <td>unknown</td>\n",
       "      <td>secondary</td>\n",
       "      <td>1</td>\n",
       "      <td>0</td>\n",
       "      <td>0</td>\n",
       "      <td>may</td>\n",
       "    </tr>\n",
       "    <tr>\n",
       "      <th>1</th>\n",
       "      <td>admin.</td>\n",
       "      <td>unknown</td>\n",
       "      <td>married</td>\n",
       "      <td>unknown</td>\n",
       "      <td>secondary</td>\n",
       "      <td>0</td>\n",
       "      <td>0</td>\n",
       "      <td>0</td>\n",
       "      <td>may</td>\n",
       "    </tr>\n",
       "    <tr>\n",
       "      <th>2</th>\n",
       "      <td>technician</td>\n",
       "      <td>unknown</td>\n",
       "      <td>married</td>\n",
       "      <td>unknown</td>\n",
       "      <td>secondary</td>\n",
       "      <td>1</td>\n",
       "      <td>0</td>\n",
       "      <td>0</td>\n",
       "      <td>may</td>\n",
       "    </tr>\n",
       "    <tr>\n",
       "      <th>3</th>\n",
       "      <td>services</td>\n",
       "      <td>unknown</td>\n",
       "      <td>married</td>\n",
       "      <td>unknown</td>\n",
       "      <td>secondary</td>\n",
       "      <td>1</td>\n",
       "      <td>0</td>\n",
       "      <td>0</td>\n",
       "      <td>may</td>\n",
       "    </tr>\n",
       "    <tr>\n",
       "      <th>4</th>\n",
       "      <td>admin.</td>\n",
       "      <td>unknown</td>\n",
       "      <td>married</td>\n",
       "      <td>unknown</td>\n",
       "      <td>tertiary</td>\n",
       "      <td>0</td>\n",
       "      <td>0</td>\n",
       "      <td>0</td>\n",
       "      <td>may</td>\n",
       "    </tr>\n",
       "  </tbody>\n",
       "</table>\n",
       "</div>"
      ],
      "text/plain": [
       "          job poutcome  marital  contact  education  housing  loan  default  \\\n",
       "0      admin.  unknown  married  unknown  secondary        1     0        0   \n",
       "1      admin.  unknown  married  unknown  secondary        0     0        0   \n",
       "2  technician  unknown  married  unknown  secondary        1     0        0   \n",
       "3    services  unknown  married  unknown  secondary        1     0        0   \n",
       "4      admin.  unknown  married  unknown   tertiary        0     0        0   \n",
       "\n",
       "  month  \n",
       "0   may  \n",
       "1   may  \n",
       "2   may  \n",
       "3   may  \n",
       "4   may  "
      ]
     },
     "execution_count": 8,
     "metadata": {},
     "output_type": "execute_result"
    }
   ],
   "source": [
    "yes_no_columns = ['default', 'housing', 'loan']\n",
    "yes_no_features = [x for x in non_numerical_features if x in yes_no_columns]\n",
    "train_csv[yes_no_features] = train_csv[yes_no_features].replace({'no': 0, 'yes':1}).astype(int)\n",
    "train_csv[non_numerical_features].head()"
   ]
  },
  {
   "cell_type": "code",
   "execution_count": 9,
   "metadata": {},
   "outputs": [
    {
     "data": {
      "text/html": [
       "<div>\n",
       "<style scoped>\n",
       "    .dataframe tbody tr th:only-of-type {\n",
       "        vertical-align: middle;\n",
       "    }\n",
       "\n",
       "    .dataframe tbody tr th {\n",
       "        vertical-align: top;\n",
       "    }\n",
       "\n",
       "    .dataframe thead th {\n",
       "        text-align: right;\n",
       "    }\n",
       "</style>\n",
       "<table border=\"1\" class=\"dataframe\">\n",
       "  <thead>\n",
       "    <tr style=\"text-align: right;\">\n",
       "      <th></th>\n",
       "      <th>job</th>\n",
       "      <th>poutcome</th>\n",
       "      <th>marital</th>\n",
       "      <th>contact</th>\n",
       "      <th>education</th>\n",
       "      <th>housing</th>\n",
       "      <th>loan</th>\n",
       "      <th>default</th>\n",
       "      <th>month</th>\n",
       "    </tr>\n",
       "  </thead>\n",
       "  <tbody>\n",
       "    <tr>\n",
       "      <th>0</th>\n",
       "      <td>0</td>\n",
       "      <td>3</td>\n",
       "      <td>1</td>\n",
       "      <td>2</td>\n",
       "      <td>1</td>\n",
       "      <td>1</td>\n",
       "      <td>0</td>\n",
       "      <td>0</td>\n",
       "      <td>8</td>\n",
       "    </tr>\n",
       "    <tr>\n",
       "      <th>1</th>\n",
       "      <td>0</td>\n",
       "      <td>3</td>\n",
       "      <td>1</td>\n",
       "      <td>2</td>\n",
       "      <td>1</td>\n",
       "      <td>0</td>\n",
       "      <td>0</td>\n",
       "      <td>0</td>\n",
       "      <td>8</td>\n",
       "    </tr>\n",
       "    <tr>\n",
       "      <th>2</th>\n",
       "      <td>9</td>\n",
       "      <td>3</td>\n",
       "      <td>1</td>\n",
       "      <td>2</td>\n",
       "      <td>1</td>\n",
       "      <td>1</td>\n",
       "      <td>0</td>\n",
       "      <td>0</td>\n",
       "      <td>8</td>\n",
       "    </tr>\n",
       "    <tr>\n",
       "      <th>3</th>\n",
       "      <td>7</td>\n",
       "      <td>3</td>\n",
       "      <td>1</td>\n",
       "      <td>2</td>\n",
       "      <td>1</td>\n",
       "      <td>1</td>\n",
       "      <td>0</td>\n",
       "      <td>0</td>\n",
       "      <td>8</td>\n",
       "    </tr>\n",
       "    <tr>\n",
       "      <th>4</th>\n",
       "      <td>0</td>\n",
       "      <td>3</td>\n",
       "      <td>1</td>\n",
       "      <td>2</td>\n",
       "      <td>2</td>\n",
       "      <td>0</td>\n",
       "      <td>0</td>\n",
       "      <td>0</td>\n",
       "      <td>8</td>\n",
       "    </tr>\n",
       "  </tbody>\n",
       "</table>\n",
       "</div>"
      ],
      "text/plain": [
       "   job  poutcome  marital  contact  education  housing  loan  default  month\n",
       "0    0         3        1        2          1        1     0        0      8\n",
       "1    0         3        1        2          1        0     0        0      8\n",
       "2    9         3        1        2          1        1     0        0      8\n",
       "3    7         3        1        2          1        1     0        0      8\n",
       "4    0         3        1        2          2        0     0        0      8"
      ]
     },
     "execution_count": 9,
     "metadata": {},
     "output_type": "execute_result"
    }
   ],
   "source": [
    "other_columns = [col for col in non_numerical_features if col not in yes_no_columns]\n",
    "for col in other_columns:\n",
    "    label_encod = LabelEncoder()\n",
    "    label_encod.fit(list(train_csv[col].values))\n",
    "    train_csv[col] = label_encod.transform(train_csv[col].astype(str))\n",
    "\n",
    "train_csv[non_numerical_features].head()"
   ]
  },
  {
   "cell_type": "markdown",
   "metadata": {},
   "source": [
    "### Check NaN values"
   ]
  },
  {
   "cell_type": "code",
   "execution_count": 10,
   "metadata": {},
   "outputs": [
    {
     "name": "stdout",
     "output_type": "stream",
     "text": [
      "0 rows have nan values.\n"
     ]
    },
    {
     "data": {
      "text/html": [
       "<div>\n",
       "<style scoped>\n",
       "    .dataframe tbody tr th:only-of-type {\n",
       "        vertical-align: middle;\n",
       "    }\n",
       "\n",
       "    .dataframe tbody tr th {\n",
       "        vertical-align: top;\n",
       "    }\n",
       "\n",
       "    .dataframe thead th {\n",
       "        text-align: right;\n",
       "    }\n",
       "</style>\n",
       "<table border=\"1\" class=\"dataframe\">\n",
       "  <thead>\n",
       "    <tr style=\"text-align: right;\">\n",
       "      <th></th>\n",
       "      <th>Count</th>\n",
       "    </tr>\n",
       "  </thead>\n",
       "  <tbody>\n",
       "    <tr>\n",
       "      <th>age</th>\n",
       "      <td>0.0</td>\n",
       "    </tr>\n",
       "    <tr>\n",
       "      <th>day</th>\n",
       "      <td>0.0</td>\n",
       "    </tr>\n",
       "    <tr>\n",
       "      <th>poutcome</th>\n",
       "      <td>0.0</td>\n",
       "    </tr>\n",
       "    <tr>\n",
       "      <th>previous</th>\n",
       "      <td>0.0</td>\n",
       "    </tr>\n",
       "    <tr>\n",
       "      <th>pdays</th>\n",
       "      <td>0.0</td>\n",
       "    </tr>\n",
       "    <tr>\n",
       "      <th>campaign</th>\n",
       "      <td>0.0</td>\n",
       "    </tr>\n",
       "    <tr>\n",
       "      <th>duration</th>\n",
       "      <td>0.0</td>\n",
       "    </tr>\n",
       "    <tr>\n",
       "      <th>month</th>\n",
       "      <td>0.0</td>\n",
       "    </tr>\n",
       "    <tr>\n",
       "      <th>contact</th>\n",
       "      <td>0.0</td>\n",
       "    </tr>\n",
       "    <tr>\n",
       "      <th>job</th>\n",
       "      <td>0.0</td>\n",
       "    </tr>\n",
       "  </tbody>\n",
       "</table>\n",
       "</div>"
      ],
      "text/plain": [
       "          Count\n",
       "age         0.0\n",
       "day         0.0\n",
       "poutcome    0.0\n",
       "previous    0.0\n",
       "pdays       0.0\n",
       "campaign    0.0\n",
       "duration    0.0\n",
       "month       0.0\n",
       "contact     0.0\n",
       "job         0.0"
      ]
     },
     "execution_count": 10,
     "metadata": {},
     "output_type": "execute_result"
    }
   ],
   "source": [
    "nan_array = train_csv.isnull().sum().values/train_csv.shape[0]*100\n",
    "df_nan = pd.DataFrame(nan_array, columns=['Count'], index=train_csv.columns)\n",
    "df_nan = df_nan.sort_values(by=['Count'], ascending=False)\n",
    "counter_nan = df_nan[df_nan['Count']>0].shape[0]\n",
    "\n",
    "print(f'{counter_nan} rows have nan values.')\n",
    "df_nan.head(10)"
   ]
  },
  {
   "cell_type": "markdown",
   "metadata": {},
   "source": [
    "## Scale and change dtype"
   ]
  },
  {
   "cell_type": "code",
   "execution_count": 11,
   "metadata": {},
   "outputs": [],
   "source": [
    "threshold_cate = 25\n",
    "\n",
    "col_continuous = []\n",
    "col_categorical = []\n",
    "\n",
    "for col in features:\n",
    "    new_col = sorted(list(set(train_csv[col])))\n",
    "    #print()\n",
    "    #print(col)\n",
    "    #print(new_col)\n",
    "    min_col = np.min(new_col)\n",
    "    max_col = np.max(new_col)\n",
    "\n",
    "    if max_col > threshold_cate or col in ['age']:\n",
    "        col_continuous.append(col)\n",
    "        continue\n",
    "\n",
    "    col_categorical.append(col)"
   ]
  },
  {
   "cell_type": "code",
   "execution_count": 12,
   "metadata": {},
   "outputs": [
    {
     "data": {
      "text/html": [
       "<div>\n",
       "<style scoped>\n",
       "    .dataframe tbody tr th:only-of-type {\n",
       "        vertical-align: middle;\n",
       "    }\n",
       "\n",
       "    .dataframe tbody tr th {\n",
       "        vertical-align: top;\n",
       "    }\n",
       "\n",
       "    .dataframe thead th {\n",
       "        text-align: right;\n",
       "    }\n",
       "</style>\n",
       "<table border=\"1\" class=\"dataframe\">\n",
       "  <thead>\n",
       "    <tr style=\"text-align: right;\">\n",
       "      <th></th>\n",
       "      <th>age</th>\n",
       "      <th>balance</th>\n",
       "      <th>day</th>\n",
       "      <th>duration</th>\n",
       "      <th>campaign</th>\n",
       "      <th>pdays</th>\n",
       "      <th>previous</th>\n",
       "    </tr>\n",
       "  </thead>\n",
       "  <tbody>\n",
       "    <tr>\n",
       "      <th>0</th>\n",
       "      <td>59</td>\n",
       "      <td>2343</td>\n",
       "      <td>5</td>\n",
       "      <td>1042</td>\n",
       "      <td>1</td>\n",
       "      <td>-1</td>\n",
       "      <td>0</td>\n",
       "    </tr>\n",
       "    <tr>\n",
       "      <th>1</th>\n",
       "      <td>56</td>\n",
       "      <td>45</td>\n",
       "      <td>5</td>\n",
       "      <td>1467</td>\n",
       "      <td>1</td>\n",
       "      <td>-1</td>\n",
       "      <td>0</td>\n",
       "    </tr>\n",
       "    <tr>\n",
       "      <th>2</th>\n",
       "      <td>41</td>\n",
       "      <td>1270</td>\n",
       "      <td>5</td>\n",
       "      <td>1389</td>\n",
       "      <td>1</td>\n",
       "      <td>-1</td>\n",
       "      <td>0</td>\n",
       "    </tr>\n",
       "    <tr>\n",
       "      <th>3</th>\n",
       "      <td>55</td>\n",
       "      <td>2476</td>\n",
       "      <td>5</td>\n",
       "      <td>579</td>\n",
       "      <td>1</td>\n",
       "      <td>-1</td>\n",
       "      <td>0</td>\n",
       "    </tr>\n",
       "    <tr>\n",
       "      <th>4</th>\n",
       "      <td>54</td>\n",
       "      <td>184</td>\n",
       "      <td>5</td>\n",
       "      <td>673</td>\n",
       "      <td>2</td>\n",
       "      <td>-1</td>\n",
       "      <td>0</td>\n",
       "    </tr>\n",
       "    <tr>\n",
       "      <th>...</th>\n",
       "      <td>...</td>\n",
       "      <td>...</td>\n",
       "      <td>...</td>\n",
       "      <td>...</td>\n",
       "      <td>...</td>\n",
       "      <td>...</td>\n",
       "      <td>...</td>\n",
       "    </tr>\n",
       "    <tr>\n",
       "      <th>11157</th>\n",
       "      <td>33</td>\n",
       "      <td>1</td>\n",
       "      <td>20</td>\n",
       "      <td>257</td>\n",
       "      <td>1</td>\n",
       "      <td>-1</td>\n",
       "      <td>0</td>\n",
       "    </tr>\n",
       "    <tr>\n",
       "      <th>11158</th>\n",
       "      <td>39</td>\n",
       "      <td>733</td>\n",
       "      <td>16</td>\n",
       "      <td>83</td>\n",
       "      <td>4</td>\n",
       "      <td>-1</td>\n",
       "      <td>0</td>\n",
       "    </tr>\n",
       "    <tr>\n",
       "      <th>11159</th>\n",
       "      <td>32</td>\n",
       "      <td>29</td>\n",
       "      <td>19</td>\n",
       "      <td>156</td>\n",
       "      <td>2</td>\n",
       "      <td>-1</td>\n",
       "      <td>0</td>\n",
       "    </tr>\n",
       "    <tr>\n",
       "      <th>11160</th>\n",
       "      <td>43</td>\n",
       "      <td>0</td>\n",
       "      <td>8</td>\n",
       "      <td>9</td>\n",
       "      <td>2</td>\n",
       "      <td>172</td>\n",
       "      <td>5</td>\n",
       "    </tr>\n",
       "    <tr>\n",
       "      <th>11161</th>\n",
       "      <td>34</td>\n",
       "      <td>0</td>\n",
       "      <td>9</td>\n",
       "      <td>628</td>\n",
       "      <td>1</td>\n",
       "      <td>-1</td>\n",
       "      <td>0</td>\n",
       "    </tr>\n",
       "  </tbody>\n",
       "</table>\n",
       "<p>11162 rows × 7 columns</p>\n",
       "</div>"
      ],
      "text/plain": [
       "       age  balance  day  duration  campaign  pdays  previous\n",
       "0       59     2343    5      1042         1     -1         0\n",
       "1       56       45    5      1467         1     -1         0\n",
       "2       41     1270    5      1389         1     -1         0\n",
       "3       55     2476    5       579         1     -1         0\n",
       "4       54      184    5       673         2     -1         0\n",
       "...    ...      ...  ...       ...       ...    ...       ...\n",
       "11157   33        1   20       257         1     -1         0\n",
       "11158   39      733   16        83         4     -1         0\n",
       "11159   32       29   19       156         2     -1         0\n",
       "11160   43        0    8         9         2    172         5\n",
       "11161   34        0    9       628         1     -1         0\n",
       "\n",
       "[11162 rows x 7 columns]"
      ]
     },
     "execution_count": 12,
     "metadata": {},
     "output_type": "execute_result"
    }
   ],
   "source": [
    "train_csv[col_continuous]"
   ]
  },
  {
   "cell_type": "code",
   "execution_count": 13,
   "metadata": {},
   "outputs": [],
   "source": [
    "scaler = StandardScaler()\n",
    "data2scale = train_csv[col_continuous]\n",
    "scaler.fit(data2scale)\n",
    "scaled_cols = scaler.transform(data2scale)\n",
    "train_csv[col_continuous] = scaled_cols"
   ]
  },
  {
   "cell_type": "code",
   "execution_count": 14,
   "metadata": {},
   "outputs": [],
   "source": [
    "# Put as int\n",
    "train_csv[col_categorical] = train_csv[col_categorical].astype('int')"
   ]
  },
  {
   "cell_type": "code",
   "execution_count": 15,
   "metadata": {},
   "outputs": [
    {
     "data": {
      "text/html": [
       "<div>\n",
       "<style scoped>\n",
       "    .dataframe tbody tr th:only-of-type {\n",
       "        vertical-align: middle;\n",
       "    }\n",
       "\n",
       "    .dataframe tbody tr th {\n",
       "        vertical-align: top;\n",
       "    }\n",
       "\n",
       "    .dataframe thead th {\n",
       "        text-align: right;\n",
       "    }\n",
       "</style>\n",
       "<table border=\"1\" class=\"dataframe\">\n",
       "  <thead>\n",
       "    <tr style=\"text-align: right;\">\n",
       "      <th></th>\n",
       "      <th>age</th>\n",
       "      <th>job</th>\n",
       "      <th>marital</th>\n",
       "      <th>education</th>\n",
       "      <th>default</th>\n",
       "      <th>balance</th>\n",
       "      <th>housing</th>\n",
       "      <th>loan</th>\n",
       "      <th>contact</th>\n",
       "      <th>day</th>\n",
       "      <th>month</th>\n",
       "      <th>duration</th>\n",
       "      <th>campaign</th>\n",
       "      <th>pdays</th>\n",
       "      <th>previous</th>\n",
       "      <th>poutcome</th>\n",
       "      <th>deposit</th>\n",
       "    </tr>\n",
       "  </thead>\n",
       "  <tbody>\n",
       "    <tr>\n",
       "      <th>0</th>\n",
       "      <td>1.491505</td>\n",
       "      <td>0</td>\n",
       "      <td>1</td>\n",
       "      <td>1</td>\n",
       "      <td>0</td>\n",
       "      <td>0.252525</td>\n",
       "      <td>1</td>\n",
       "      <td>0</td>\n",
       "      <td>2</td>\n",
       "      <td>-1.265746</td>\n",
       "      <td>8</td>\n",
       "      <td>1.930226</td>\n",
       "      <td>-0.554168</td>\n",
       "      <td>-0.481184</td>\n",
       "      <td>-0.36326</td>\n",
       "      <td>3</td>\n",
       "      <td>1</td>\n",
       "    </tr>\n",
       "    <tr>\n",
       "      <th>1</th>\n",
       "      <td>1.239676</td>\n",
       "      <td>0</td>\n",
       "      <td>1</td>\n",
       "      <td>1</td>\n",
       "      <td>0</td>\n",
       "      <td>-0.459974</td>\n",
       "      <td>0</td>\n",
       "      <td>0</td>\n",
       "      <td>2</td>\n",
       "      <td>-1.265746</td>\n",
       "      <td>8</td>\n",
       "      <td>3.154612</td>\n",
       "      <td>-0.554168</td>\n",
       "      <td>-0.481184</td>\n",
       "      <td>-0.36326</td>\n",
       "      <td>3</td>\n",
       "      <td>1</td>\n",
       "    </tr>\n",
       "    <tr>\n",
       "      <th>2</th>\n",
       "      <td>-0.019470</td>\n",
       "      <td>9</td>\n",
       "      <td>1</td>\n",
       "      <td>1</td>\n",
       "      <td>0</td>\n",
       "      <td>-0.080160</td>\n",
       "      <td>1</td>\n",
       "      <td>0</td>\n",
       "      <td>2</td>\n",
       "      <td>-1.265746</td>\n",
       "      <td>8</td>\n",
       "      <td>2.929901</td>\n",
       "      <td>-0.554168</td>\n",
       "      <td>-0.481184</td>\n",
       "      <td>-0.36326</td>\n",
       "      <td>3</td>\n",
       "      <td>1</td>\n",
       "    </tr>\n",
       "    <tr>\n",
       "      <th>3</th>\n",
       "      <td>1.155733</td>\n",
       "      <td>7</td>\n",
       "      <td>1</td>\n",
       "      <td>1</td>\n",
       "      <td>0</td>\n",
       "      <td>0.293762</td>\n",
       "      <td>1</td>\n",
       "      <td>0</td>\n",
       "      <td>2</td>\n",
       "      <td>-1.265746</td>\n",
       "      <td>8</td>\n",
       "      <td>0.596366</td>\n",
       "      <td>-0.554168</td>\n",
       "      <td>-0.481184</td>\n",
       "      <td>-0.36326</td>\n",
       "      <td>3</td>\n",
       "      <td>1</td>\n",
       "    </tr>\n",
       "    <tr>\n",
       "      <th>4</th>\n",
       "      <td>1.071790</td>\n",
       "      <td>0</td>\n",
       "      <td>1</td>\n",
       "      <td>2</td>\n",
       "      <td>0</td>\n",
       "      <td>-0.416876</td>\n",
       "      <td>0</td>\n",
       "      <td>0</td>\n",
       "      <td>2</td>\n",
       "      <td>-1.265746</td>\n",
       "      <td>8</td>\n",
       "      <td>0.867171</td>\n",
       "      <td>-0.186785</td>\n",
       "      <td>-0.481184</td>\n",
       "      <td>-0.36326</td>\n",
       "      <td>3</td>\n",
       "      <td>1</td>\n",
       "    </tr>\n",
       "  </tbody>\n",
       "</table>\n",
       "</div>"
      ],
      "text/plain": [
       "        age  job  marital  education  default   balance  housing  loan  \\\n",
       "0  1.491505    0        1          1        0  0.252525        1     0   \n",
       "1  1.239676    0        1          1        0 -0.459974        0     0   \n",
       "2 -0.019470    9        1          1        0 -0.080160        1     0   \n",
       "3  1.155733    7        1          1        0  0.293762        1     0   \n",
       "4  1.071790    0        1          2        0 -0.416876        0     0   \n",
       "\n",
       "   contact       day  month  duration  campaign     pdays  previous  poutcome  \\\n",
       "0        2 -1.265746      8  1.930226 -0.554168 -0.481184  -0.36326         3   \n",
       "1        2 -1.265746      8  3.154612 -0.554168 -0.481184  -0.36326         3   \n",
       "2        2 -1.265746      8  2.929901 -0.554168 -0.481184  -0.36326         3   \n",
       "3        2 -1.265746      8  0.596366 -0.554168 -0.481184  -0.36326         3   \n",
       "4        2 -1.265746      8  0.867171 -0.186785 -0.481184  -0.36326         3   \n",
       "\n",
       "   deposit  \n",
       "0        1  \n",
       "1        1  \n",
       "2        1  \n",
       "3        1  \n",
       "4        1  "
      ]
     },
     "execution_count": 15,
     "metadata": {},
     "output_type": "execute_result"
    }
   ],
   "source": [
    "train_csv.head()"
   ]
  },
  {
   "cell_type": "markdown",
   "metadata": {},
   "source": [
    "## Splitting the data\n",
    "\n",
    "TODO: \n",
    "- Implement Stratified KFold: https://scikit-learn.org/stable/modules/cross_validation.html#stratified-k-fold\n",
    "- Compare classical Stratified split with Stratified KFold split"
   ]
  },
  {
   "cell_type": "code",
   "execution_count": 16,
   "metadata": {},
   "outputs": [
    {
     "data": {
      "image/png": "[encoded data removed]",
      "text/plain": [
       "<Figure size 432x288 with 1 Axes>"
      ]
     },
     "metadata": {
      "needs_background": "light"
     },
     "output_type": "display_data"
    }
   ],
   "source": [
    "plt.title(\"Distribution of the classes\")\n",
    "plt.hist(train_csv[['deposit']].values)\n",
    "plt.show()"
   ]
  },
  {
   "cell_type": "code",
   "execution_count": 17,
   "metadata": {},
   "outputs": [
    {
     "name": "stdout",
     "output_type": "stream",
     "text": [
      "Train set shape: (7143, 17)\n",
      "Validation set shape: (1786, 17)\n",
      "Test set shape: (2233, 17)\n"
     ]
    }
   ],
   "source": [
    "training_df, test_df = train_test_split(train_csv, test_size=0.2, random_state=RANDOM_STATE, stratify=train_csv[['deposit']])\n",
    "train_df, val_df = train_test_split(training_df, test_size=0.2, random_state=RANDOM_STATE, stratify=training_df[['deposit']])\n",
    "\n",
    "print(\"Train set shape:\", train_df.shape)\n",
    "print(\"Validation set shape:\", val_df.shape)\n",
    "print(\"Test set shape:\", test_df.shape)"
   ]
  },
  {
   "cell_type": "code",
   "execution_count": 18,
   "metadata": {},
   "outputs": [],
   "source": [
    "x_training = np.array(training_df[features])\n",
    "y_training = np.array(training_df['deposit'])\n",
    "\n",
    "x_train = np.array(train_df[features])\n",
    "y_train = np.array(train_df['deposit'])\n",
    "\n",
    "x_val = np.array(val_df[features])\n",
    "y_val = np.array(val_df['deposit'])\n",
    "\n",
    "x_test = np.array(test_df[features])\n",
    "y_test = np.array(test_df['deposit'])"
   ]
  },
  {
   "cell_type": "code",
   "execution_count": null,
   "metadata": {},
   "outputs": [],
   "source": []
  },
  {
   "cell_type": "code",
   "execution_count": null,
   "metadata": {},
   "outputs": [],
   "source": []
  },
  {
   "cell_type": "markdown",
   "metadata": {},
   "source": [
    "# Models <a name=\"models\"></a>\n",
    "[Table of Content](#menu)"
   ]
  },
  {
   "cell_type": "code",
   "execution_count": 19,
   "metadata": {},
   "outputs": [],
   "source": [
    "from sklearn.tree import DecisionTreeClassifier\n",
    "from sklearn.ensemble import AdaBoostClassifier\n",
    "from sklearn.svm import SVC\n",
    "from sklearn.neighbors import KNeighborsClassifier"
   ]
  },
  {
   "cell_type": "code",
   "execution_count": 20,
   "metadata": {},
   "outputs": [],
   "source": [
    "from itertools import cycle\n",
    "\n",
    "from sklearn.metrics import roc_auc_score, accuracy_score, f1_score\n",
    "from sklearn.metrics import roc_curve, auc"
   ]
  },
  {
   "cell_type": "markdown",
   "metadata": {},
   "source": [
    "## Decision Trees\n",
    "\n",
    "Pruning DT: https://scikit-learn.org/stable/auto_examples/tree/plot_cost_complexity_pruning.html"
   ]
  },
  {
   "cell_type": "code",
   "execution_count": 130,
   "metadata": {},
   "outputs": [],
   "source": [
    "MAX_DEPTH_DT = 9"
   ]
  },
  {
   "cell_type": "code",
   "execution_count": 131,
   "metadata": {},
   "outputs": [],
   "source": [
    "def train_decision_tree(x_train, y_train, x_test, max_depth=3, random_state=17):\n",
    "    decision_tree = DecisionTreeClassifier(max_depth=max_depth, random_state=random_state)\n",
    "    decision_tree.fit(x_train, y_train)\n",
    "    y_pred_proba_trees = decision_tree.predict_proba(x_test)\n",
    "    \n",
    "    return (decision_tree, y_pred_proba_trees)"
   ]
  },
  {
   "cell_type": "code",
   "execution_count": 132,
   "metadata": {},
   "outputs": [
    {
     "name": "stdout",
     "output_type": "stream",
     "text": [
      "Overall accuracy: 80.7%\n",
      "\n",
      "Wall time: 45.9 ms\n"
     ]
    }
   ],
   "source": [
    "%%time\n",
    "decision_tree, y_pred_proba_trees = train_decision_tree(x_train, y_train, x_test, max_depth=MAX_DEPTH_DT, random_state=RANDOM_STATE)\n",
    "print(f\"Overall accuracy: {round(accuracy_score(y_test, decision_tree.predict(x_test))*100,2)}%\\n\")"
   ]
  },
  {
   "cell_type": "markdown",
   "metadata": {},
   "source": [
    "## Adaboost (Boosting)"
   ]
  },
  {
   "cell_type": "code",
   "execution_count": 133,
   "metadata": {},
   "outputs": [],
   "source": [
    "MAX_DEPTH_BOOST = 9\n",
    "N_ESTIMATORS = 161"
   ]
  },
  {
   "cell_type": "code",
   "execution_count": 134,
   "metadata": {},
   "outputs": [],
   "source": [
    "def train_adaboost(x_train, y_train, x_test, max_depth=3, n_estimators=100, random_state=17):\n",
    "    decision_tree_boost = DecisionTreeClassifier(max_depth=max_depth, random_state=random_state)\n",
    "    adaboost_clf = AdaBoostClassifier(base_estimator=decision_tree_boost, n_estimators=n_estimators)\n",
    "    adaboost_clf.fit(x_train, y_train)\n",
    "    y_pred_proba_boost = adaboost_clf.predict_proba(x_test)\n",
    "\n",
    "    return (adaboost_clf, y_pred_proba_boost)"
   ]
  },
  {
   "cell_type": "code",
   "execution_count": 135,
   "metadata": {},
   "outputs": [
    {
     "name": "stdout",
     "output_type": "stream",
     "text": [
      "Overall accuracy: 83.39%\n",
      "\n",
      "Wall time: 5.2 s\n"
     ]
    }
   ],
   "source": [
    "%%time\n",
    "adaboost_clf, y_pred_proba_boost = train_adaboost(x_train, y_train, x_test, \n",
    "                                                  max_depth=MAX_DEPTH_BOOST, n_estimators=N_ESTIMATORS, random_state=RANDOM_STATE)\n",
    "print(f\"Overall accuracy: {round(accuracy_score(y_test, adaboost_clf.predict(x_test))*100,2)}%\\n\")"
   ]
  },
  {
   "cell_type": "markdown",
   "metadata": {},
   "source": [
    "## Support vector Machine"
   ]
  },
  {
   "cell_type": "code",
   "execution_count": 178,
   "metadata": {},
   "outputs": [],
   "source": [
    "def train_svm(x_train, y_train, x_test, C=1, kernel='rbf',random_state=17):\n",
    "    svm_model = SVC(C=C, kernel=kernel, random_state=random_state)\n",
    "    svm_model.fit(x_train, y_train)\n",
    "    y_pred_svm = svm_model.predict(x_test)\n",
    "\n",
    "    return (svm_model, y_pred_svm)"
   ]
  },
  {
   "cell_type": "code",
   "execution_count": 182,
   "metadata": {},
   "outputs": [
    {
     "name": "stdout",
     "output_type": "stream",
     "text": [
      "Overall accuracy: 81.15%\n",
      "\n",
      "Wall time: 1.45 s\n"
     ]
    }
   ],
   "source": [
    "%%time\n",
    "svm_model, y_pred_svm = train_svm(x_train, y_train, x_test, C=1, random_state=RANDOM_STATE)\n",
    "print(f\"Overall accuracy: {round(accuracy_score(y_test, y_pred_svm)*100,2)}%\\n\")"
   ]
  },
  {
   "cell_type": "markdown",
   "metadata": {},
   "source": [
    "## k-Nearest Neighbors"
   ]
  },
  {
   "cell_type": "code",
   "execution_count": 148,
   "metadata": {},
   "outputs": [],
   "source": [
    "K_NEIGHB = 7\n",
    "WEIGHTS = 'distance'"
   ]
  },
  {
   "cell_type": "code",
   "execution_count": 149,
   "metadata": {},
   "outputs": [],
   "source": [
    "def train_knn(x_train, y_train, x_test, k=3, weights='uniform'):\n",
    "    knn_model = KNeighborsClassifier(n_neighbors=k, weights=weights)\n",
    "    knn_model.fit(x_train, y_train)\n",
    "    y_pred_knn_proba = knn_model.predict(x_test)\n",
    "\n",
    "    return (knn_model, y_pred_knn_proba)"
   ]
  },
  {
   "cell_type": "code",
   "execution_count": 150,
   "metadata": {},
   "outputs": [
    {
     "name": "stdout",
     "output_type": "stream",
     "text": [
      "Overall accuracy: 78.55%\n",
      "\n",
      "Wall time: 290 ms\n"
     ]
    }
   ],
   "source": [
    "%%time\n",
    "knn_model, y_pred_knn_proba = train_knn(x_train, y_train, x_test, k=K_NEIGHB, weights=WEIGHTS)\n",
    "print(f\"Overall accuracy: {round(accuracy_score(y_test, y_pred_knn_proba)*100,2)}%\\n\")"
   ]
  },
  {
   "cell_type": "markdown",
   "metadata": {},
   "source": [
    "## Neural Networks\n",
    "\n",
    "In order to prevent potential overfitting, we will add dropout for all layers of the network.\n",
    "\n",
    "To improve training speed, we will also implement batch normalisation at each hidden layer of the network.\n",
    "\n",
    "Data processing/Training/Plotting code from: https://github.com/brain-bzh/dcase-2020-task1-subtaskB\n",
    "\n",
    "Model from: https://www.kaggle.com/mburakergenc/ttianic-minimal-pytorch-mlp"
   ]
  },
  {
   "cell_type": "code",
   "execution_count": 90,
   "metadata": {},
   "outputs": [
    {
     "name": "stdout",
     "output_type": "stream",
     "text": [
      "Net(\n",
      "  (fc1): Linear(in_features=16, out_features=128, bias=True)\n",
      "  (fc2): Linear(in_features=128, out_features=128, bias=True)\n",
      "  (fc3): Linear(in_features=128, out_features=2, bias=True)\n",
      ")\n"
     ]
    }
   ],
   "source": [
    "#https://www.kaggle.com/mburakergenc/ttianic-minimal-pytorch-mlp\n",
    "class Net(nn.Module):\n",
    "    def __init__(self):\n",
    "        super(Net, self).__init__()\n",
    "        self.fc1 = nn.Linear(len(features), 128)\n",
    "        self.fc2 = nn.Linear(128, 128)\n",
    "        self.fc3 = nn.Linear(128, 2)\n",
    "\n",
    "    def forward(self, x):\n",
    "        x = F.relu(self.fc1(x))\n",
    "        x = F.relu(self.fc2(x))\n",
    "        x = self.fc3(x)\n",
    "        return x\n",
    "model = Net()\n",
    "print(model)"
   ]
  },
  {
   "cell_type": "markdown",
   "metadata": {},
   "source": [
    "### Dataloader for Pytorch"
   ]
  },
  {
   "cell_type": "code",
   "execution_count": 91,
   "metadata": {},
   "outputs": [],
   "source": [
    "class TrainDataset(torch.utils.data.Dataset):\n",
    "    def __init__(self, trn_X, trn_y):\n",
    "        self.trn_X = trn_X\n",
    "        self.trn_y = trn_y\n",
    "\n",
    "    def __len__(self):\n",
    "        return self.trn_X.shape[0]\n",
    "\n",
    "    def __getitem__(self, idx):\n",
    "        return self.trn_X[idx,:], self.trn_y[idx]\n",
    "    \n",
    "class ValidDataset(torch.utils.data.Dataset):\n",
    "    def __init__(self, val_X, val_y):\n",
    "        self.val_X = val_X\n",
    "        self.val_y = val_y\n",
    "        \n",
    "    def __len__(self):\n",
    "        return self.val_X.shape[0]\n",
    "        \n",
    "    def __getitem__(self, idx):\n",
    "        return self.val_X[idx,:], self.val_y[idx]\n",
    "\n",
    "class TestDataset(torch.utils.data.Dataset):\n",
    "    def __init__(self, test_X, test_y):\n",
    "        self.test_X = test_X\n",
    "        self.test_y = test_y\n",
    "        \n",
    "    def __len__(self):\n",
    "        return self.test_X.shape[0]\n",
    "\n",
    "    def __getitem__(self, idx):\n",
    "        return self.test_X[idx,:], self.test_y[idx]"
   ]
  },
  {
   "cell_type": "code",
   "execution_count": 92,
   "metadata": {},
   "outputs": [],
   "source": [
    "def create_dataloaders(x_train, y_train, x_val, y_val, x_test, y_test, device, batch_size):\n",
    "    trn_X, trn_y = torch.tensor(x_train.astype(np.float32)).to(device), torch.tensor(y_train).to(device).long()\n",
    "    val_X, val_y = torch.tensor(x_val.astype(np.float32)).to(device), torch.tensor(y_val).to(device).long()\n",
    "    test_X, test_y = torch.tensor(x_test.astype(np.float32)).to(device), torch.tensor(y_test).to(device).long()\n",
    "    train_set = TrainDataset(trn_X, trn_y)\n",
    "    val_set = ValidDataset(val_X, val_y)\n",
    "    test_set = TestDataset(test_X, test_y)\n",
    "    dataloaders_length = [len(train_set), len(val_set), len(test_set)]\n",
    "\n",
    "    trainloader = torch.utils.data.DataLoader(train_set, batch_size=batch_size)\n",
    "    validationloader = torch.utils.data.DataLoader(val_set, batch_size=batch_size)\n",
    "    testloader = torch.utils.data.DataLoader(test_set, batch_size=1)\n",
    "\n",
    "    dataloaders = {\"train\": trainloader,\n",
    "                   \"val\": validationloader,\n",
    "                   \"test\": testloader}\n",
    "\n",
    "    dataset_sizes = {\"train\": dataloaders_length[0],\n",
    "                     \"val\": dataloaders_length[1],\n",
    "                     \"test\": dataloaders_length[2]}\n",
    "\n",
    "    return (dataloaders, dataset_sizes)"
   ]
  },
  {
   "cell_type": "markdown",
   "metadata": {},
   "source": [
    "### Training functions for Pytorch"
   ]
  },
  {
   "cell_type": "code",
   "execution_count": 93,
   "metadata": {},
   "outputs": [],
   "source": [
    "from utils import EarlyStopping, plot_training, plot_cm\n",
    "from main_training import train_model, test_model"
   ]
  },
  {
   "cell_type": "markdown",
   "metadata": {},
   "source": [
    "### Training Neural Network (Simple approach) <a name=\"simple_nn\"></a>\n",
    "[Table of Content](#menu)\n",
    "\n",
    "[Advanced Approach](#advanced_nn)"
   ]
  },
  {
   "cell_type": "code",
   "execution_count": 94,
   "metadata": {},
   "outputs": [],
   "source": [
    "DEVICE = 'cpu' #torch.device('cuda') if torch.cuda.is_available() else torch.device('cpu')\n",
    "\n",
    "GRAPHS_PATH = FIG_PATH\n",
    "MODEL_TYPE = \"Neural Networks\"\n",
    "SAVING = True\n",
    "\n",
    "BATCH_SIZE = 64\n",
    "EPOCHS = 25\n",
    "LR = 1e-3\n",
    "EARLYSTOP = False\n",
    "SCHEDULER = False"
   ]
  },
  {
   "cell_type": "code",
   "execution_count": 95,
   "metadata": {},
   "outputs": [],
   "source": [
    "dataloaders, dataset_sizes = create_dataloaders(x_train, y_train, x_val, y_val, x_test, y_test, \n",
    "                                                device=DEVICE, batch_size=BATCH_SIZE)"
   ]
  },
  {
   "cell_type": "code",
   "execution_count": 96,
   "metadata": {},
   "outputs": [
    {
     "name": "stdout",
     "output_type": "stream",
     "text": [
      "\n",
      "\n",
      "**TRAINING**\n",
      "\n",
      "Epoch 0/24\n",
      "----------\n",
      "tensor(5363., dtype=torch.float64) 7144\n",
      "train Loss: 0.5204 Acc: 0.7507\n",
      "tensor(1361., dtype=torch.float64) 1785\n",
      "val Loss: 0.5208 Acc: 0.7625\n",
      "Epoch complete in 0.3s\n",
      "\n",
      "Epoch 1/24\n",
      "----------\n",
      "tensor(5740., dtype=torch.float64) 7144\n",
      "train Loss: 0.4460 Acc: 0.8035\n",
      "tensor(1418., dtype=torch.float64) 1785\n",
      "val Loss: 0.4627 Acc: 0.7944\n",
      "Epoch complete in 0.3s\n",
      "\n",
      "Epoch 2/24\n",
      "----------\n",
      "tensor(5800., dtype=torch.float64) 7144\n",
      "train Loss: 0.4267 Acc: 0.8119\n",
      "tensor(1424., dtype=torch.float64) 1785\n",
      "val Loss: 0.4502 Acc: 0.7978\n",
      "Epoch complete in 0.3s\n",
      "\n",
      "Epoch 3/24\n",
      "----------\n",
      "tensor(5845., dtype=torch.float64) 7144\n",
      "train Loss: 0.4165 Acc: 0.8182\n",
      "tensor(1427., dtype=torch.float64) 1785\n",
      "val Loss: 0.4438 Acc: 0.7994\n",
      "Epoch complete in 0.3s\n",
      "\n",
      "Epoch 4/24\n",
      "----------\n",
      "tensor(5862., dtype=torch.float64) 7144\n",
      "train Loss: 0.4101 Acc: 0.8205\n",
      "tensor(1438., dtype=torch.float64) 1785\n",
      "val Loss: 0.4422 Acc: 0.8056\n",
      "Epoch complete in 0.3s\n",
      "\n",
      "Epoch 5/24\n",
      "----------\n",
      "tensor(5883., dtype=torch.float64) 7144\n",
      "train Loss: 0.4051 Acc: 0.8235\n",
      "tensor(1443., dtype=torch.float64) 1785\n",
      "val Loss: 0.4386 Acc: 0.8084\n",
      "Epoch complete in 0.3s\n",
      "\n",
      "Epoch 6/24\n",
      "----------\n",
      "tensor(5899., dtype=torch.float64) 7144\n",
      "train Loss: 0.4008 Acc: 0.8257\n",
      "tensor(1444., dtype=torch.float64) 1785\n",
      "val Loss: 0.4368 Acc: 0.8090\n",
      "Epoch complete in 0.3s\n",
      "\n",
      "Epoch 7/24\n",
      "----------\n",
      "tensor(5911., dtype=torch.float64) 7144\n",
      "train Loss: 0.3968 Acc: 0.8274\n",
      "tensor(1448., dtype=torch.float64) 1785\n",
      "val Loss: 0.4332 Acc: 0.8112\n",
      "Epoch complete in 0.4s\n",
      "\n",
      "Epoch 8/24\n",
      "----------\n",
      "tensor(5934., dtype=torch.float64) 7144\n",
      "train Loss: 0.3930 Acc: 0.8306\n",
      "tensor(1453., dtype=torch.float64) 1785\n",
      "val Loss: 0.4317 Acc: 0.8140\n",
      "Epoch complete in 0.3s\n",
      "\n",
      "Epoch 9/24\n",
      "----------\n",
      "tensor(5940., dtype=torch.float64) 7144\n",
      "train Loss: 0.3894 Acc: 0.8315\n",
      "tensor(1453., dtype=torch.float64) 1785\n",
      "val Loss: 0.4306 Acc: 0.8140\n",
      "Epoch complete in 0.3s\n",
      "\n",
      "Epoch 10/24\n",
      "----------\n",
      "tensor(5957., dtype=torch.float64) 7144\n",
      "train Loss: 0.3859 Acc: 0.8338\n",
      "tensor(1452., dtype=torch.float64) 1785\n",
      "val Loss: 0.4294 Acc: 0.8134\n",
      "Epoch complete in 0.3s\n",
      "\n",
      "Epoch 11/24\n",
      "----------\n",
      "tensor(5960., dtype=torch.float64) 7144\n",
      "train Loss: 0.3821 Acc: 0.8343\n",
      "tensor(1451., dtype=torch.float64) 1785\n",
      "val Loss: 0.4303 Acc: 0.8129\n",
      "Epoch complete in 0.3s\n",
      "\n",
      "Epoch 12/24\n",
      "----------\n",
      "tensor(5975., dtype=torch.float64) 7144\n",
      "train Loss: 0.3786 Acc: 0.8364\n",
      "tensor(1454., dtype=torch.float64) 1785\n",
      "val Loss: 0.4302 Acc: 0.8146\n",
      "Epoch complete in 0.3s\n",
      "\n",
      "Epoch 13/24\n",
      "----------\n",
      "tensor(5986., dtype=torch.float64) 7144\n",
      "train Loss: 0.3756 Acc: 0.8379\n",
      "tensor(1452., dtype=torch.float64) 1785\n",
      "val Loss: 0.4297 Acc: 0.8134\n",
      "Epoch complete in 0.3s\n",
      "\n",
      "Epoch 14/24\n",
      "----------\n",
      "tensor(5991., dtype=torch.float64) 7144\n",
      "train Loss: 0.3724 Acc: 0.8386\n",
      "tensor(1454., dtype=torch.float64) 1785\n",
      "val Loss: 0.4296 Acc: 0.8146\n",
      "Epoch complete in 0.5s\n",
      "\n",
      "Epoch 15/24\n",
      "----------\n",
      "tensor(5997., dtype=torch.float64) 7144\n",
      "train Loss: 0.3690 Acc: 0.8394\n",
      "tensor(1456., dtype=torch.float64) 1785\n",
      "val Loss: 0.4298 Acc: 0.8157\n",
      "Epoch complete in 0.5s\n",
      "\n",
      "Epoch 16/24\n",
      "----------\n",
      "tensor(6014., dtype=torch.float64) 7144\n",
      "train Loss: 0.3659 Acc: 0.8418\n",
      "tensor(1461., dtype=torch.float64) 1785\n",
      "val Loss: 0.4306 Acc: 0.8185\n",
      "Epoch complete in 0.6s\n",
      "\n",
      "Epoch 17/24\n",
      "----------\n",
      "tensor(6025., dtype=torch.float64) 7144\n",
      "train Loss: 0.3625 Acc: 0.8434\n",
      "tensor(1459., dtype=torch.float64) 1785\n",
      "val Loss: 0.4310 Acc: 0.8174\n",
      "Epoch complete in 0.3s\n",
      "\n",
      "Epoch 18/24\n",
      "----------\n",
      "tensor(6044., dtype=torch.float64) 7144\n",
      "train Loss: 0.3595 Acc: 0.8460\n",
      "tensor(1459., dtype=torch.float64) 1785\n",
      "val Loss: 0.4304 Acc: 0.8174\n",
      "Epoch complete in 0.6s\n",
      "\n",
      "Epoch 19/24\n",
      "----------\n",
      "tensor(6057., dtype=torch.float64) 7144\n",
      "train Loss: 0.3559 Acc: 0.8478\n",
      "tensor(1456., dtype=torch.float64) 1785\n",
      "val Loss: 0.4311 Acc: 0.8157\n",
      "Epoch complete in 0.3s\n",
      "\n",
      "Epoch 20/24\n",
      "----------\n",
      "tensor(6065., dtype=torch.float64) 7144\n",
      "train Loss: 0.3528 Acc: 0.8490\n",
      "tensor(1455., dtype=torch.float64) 1785\n",
      "val Loss: 0.4312 Acc: 0.8151\n",
      "Epoch complete in 0.3s\n",
      "\n",
      "Epoch 21/24\n",
      "----------\n",
      "tensor(6068., dtype=torch.float64) 7144\n",
      "train Loss: 0.3494 Acc: 0.8494\n",
      "tensor(1451., dtype=torch.float64) 1785\n",
      "val Loss: 0.4336 Acc: 0.8129\n",
      "Epoch complete in 0.4s\n",
      "\n",
      "Epoch 22/24\n",
      "----------\n",
      "tensor(6088., dtype=torch.float64) 7144\n",
      "train Loss: 0.3460 Acc: 0.8522\n",
      "tensor(1453., dtype=torch.float64) 1785\n",
      "val Loss: 0.4348 Acc: 0.8140\n",
      "Epoch complete in 0.4s\n",
      "\n",
      "Epoch 23/24\n",
      "----------\n",
      "tensor(6104., dtype=torch.float64) 7144\n",
      "train Loss: 0.3427 Acc: 0.8544\n",
      "tensor(1451., dtype=torch.float64) 1785\n",
      "val Loss: 0.4383 Acc: 0.8129\n",
      "Epoch complete in 0.3s\n",
      "\n",
      "Epoch 24/24\n",
      "----------\n",
      "tensor(6128., dtype=torch.float64) 7144\n",
      "train Loss: 0.3391 Acc: 0.8578\n",
      "tensor(1449., dtype=torch.float64) 1785\n",
      "val Loss: 0.4394 Acc: 0.8118\n",
      "Epoch complete in 0.3s\n",
      "\n",
      "Training complete in 0m 9s\n",
      "Best val Acc: 0.818500\n"
     ]
    }
   ],
   "source": [
    "model = Net()\n",
    "\n",
    "###  Define loss function and optimizer ### \n",
    "criterion = nn.CrossEntropyLoss()\n",
    "optimizer = optim.Adam(model.parameters(), lr=LR)\n",
    "lr_sched = torch.optim.lr_scheduler.ReduceLROnPlateau(optimizer, factor=0.5, patience=3, threshold=1e-4) if SCHEDULER else None\n",
    "\n",
    "# Define dictionary for training info\n",
    "history_training = {'train_loss': [],\n",
    "                    'val_loss': [],\n",
    "                    'train_acc': [],\n",
    "                    'val_acc': []}\n",
    "\n",
    "\n",
    "### Training ###\n",
    "model, history_training = train_model(model=model, hist=history_training, criterion=criterion, \n",
    "                                      optimizer=optimizer, dataloaders=dataloaders, dataset_sizes=dataset_sizes, \n",
    "                                      scheduler=lr_sched, num_epochs=EPOCHS, estop=EARLYSTOP, device=DEVICE)"
   ]
  },
  {
   "cell_type": "code",
   "execution_count": 97,
   "metadata": {},
   "outputs": [
    {
     "name": "stdout",
     "output_type": "stream",
     "text": [
      "\n",
      "\n",
      "**TESTING**\n",
      "\n",
      "\n",
      "Test stats -  Loss: 0.4428 Acc: 81.10%\n",
      "Inference on Testset complete in 0.6s\n",
      "\n"
     ]
    }
   ],
   "source": [
    "### Testing ###\n",
    "history_training = test_model(model=model, hist=history_training, criterion=criterion, \n",
    "                              dataloaders=dataloaders, dataset_sizes=dataset_sizes, device=DEVICE)"
   ]
  },
  {
   "cell_type": "code",
   "execution_count": 98,
   "metadata": {},
   "outputs": [
    {
     "name": "stdout",
     "output_type": "stream",
     "text": [
      "Training graph saved at figures/bank/Neural Networks_losses&acc_bank_marketing_data_testAcc=0.811.png\n"
     ]
    },
    {
     "data": {
      "image/png": "[encoded data removed]",
      "text/plain": [
       "<Figure size 1080x360 with 2 Axes>"
      ]
     },
     "metadata": {
      "needs_background": "light"
     },
     "output_type": "display_data"
    }
   ],
   "source": [
    "### Plotting the losses ###\n",
    "plot_training(hist=history_training, graphs_path=GRAPHS_PATH, \n",
    "              model_type=MODEL_TYPE, do_save=SAVING, input_data=INPUT_DATA[:-1])"
   ]
  },
  {
   "cell_type": "code",
   "execution_count": 99,
   "metadata": {},
   "outputs": [
    {
     "name": "stdout",
     "output_type": "stream",
     "text": [
      "Confusion Matrix saved at figures/bank/Neural Networks_CM_bank_marketing_data_testAcc=0.811.png\n"
     ]
    },
    {
     "data": {
      "image/png": "[encoded data removed]",
      "text/plain": [
       "<Figure size 720x504 with 2 Axes>"
      ]
     },
     "metadata": {
      "needs_background": "light"
     },
     "output_type": "display_data"
    }
   ],
   "source": [
    "### Plotting the CM ###\n",
    "plot_cm(hist=history_training, graphs_path=GRAPHS_PATH, \n",
    "              model_type=MODEL_TYPE, do_save=SAVING, input_data=INPUT_DATA[:-1])"
   ]
  },
  {
   "cell_type": "markdown",
   "metadata": {},
   "source": [
    "# Learning curves for \"one-shot\" algorithms <a name=\"learningcurves\"></a>\n",
    "[Table of Content](#menu)"
   ]
  },
  {
   "cell_type": "code",
   "execution_count": 42,
   "metadata": {},
   "outputs": [],
   "source": [
    "def take_samples(x, percent):\n",
    "    length_x = len(x)\n",
    "    indexes = np.arange(length_x)\n",
    "    new_indexes = random.choices(indexes, k=int(percent*length_x))\n",
    "    new_x = x[new_indexes]\n",
    "\n",
    "    return new_x\n",
    "\n",
    "\n",
    "def plot_training_size_variation(model, x_train, y_train, x_test, y_test, graphs_path, do_save=True, do_plot=False, iterations=20):\n",
    "    percentages = np.linspace(0.05, 1, iterations)\n",
    "\n",
    "    hist = {'percentages': percentages}\n",
    "    hist_acc_train = []\n",
    "    hist_acc_test = []\n",
    "    hist_f1_train = []\n",
    "    hist_f1_test = []\n",
    "\n",
    "    for percent in percentages:\n",
    "        x_train_perc = take_samples(x_train, percent)\n",
    "        y_train_perc = take_samples(y_train, percent)\n",
    "        x_test_perc = x_test\n",
    "        y_test_perc = y_test\n",
    "\n",
    "        if model == \"dt\":\n",
    "            model_clf, _ = train_decision_tree(x_train_perc, y_train_perc, x_test_perc, \n",
    "                                                          max_depth=MAX_DEPTH_DT, random_state=RANDOM_STATE)\n",
    "\n",
    "        elif model == \"adab\":\n",
    "            model_clf, _ = train_adaboost(x_train_perc, y_train_perc, x_test_perc, \n",
    "                                                     max_depth=MAX_DEPTH_BOOST, n_estimators=N_ESTIMATORS, random_state=RANDOM_STATE)\n",
    "\n",
    "        elif model == \"svm\":\n",
    "            model_clf, _ = train_svm(x_train_perc, y_train_perc, x_test_perc, \n",
    "                                                random_state=RANDOM_STATE)\n",
    "\n",
    "        elif model == \"knn\":\n",
    "            model_clf, _ = train_knn(x_train_perc, y_train_perc, x_test_perc, k=K_NEIGHB, weights=WEIGHTS)\n",
    "\n",
    "        # Score\n",
    "        y_pred_train = model_clf.predict(x_train_perc)\n",
    "        y_pred_test = model_clf.predict(x_test_perc)\n",
    "\n",
    "        acc_train = accuracy_score(y_train_perc, y_pred_train)\n",
    "        acc_test = accuracy_score(y_test_perc, y_pred_test)\n",
    "        hist_acc_train.append(acc_train)\n",
    "        hist_acc_test.append(acc_test)\n",
    "        \n",
    "        f1_train = f1_score(y_train_perc, y_pred_train, average='macro')\n",
    "        f1_test = f1_score(y_test_perc, y_pred_test, average='macro')\n",
    "        hist_f1_train.append(f1_train)\n",
    "        hist_f1_test.append(f1_test)\n",
    "\n",
    "    hist['acc_train'] = hist_acc_train\n",
    "    hist['acc_test'] = hist_acc_test\n",
    "    hist['f1_train'] = hist_f1_train\n",
    "    hist['f1_test'] = hist_f1_test\n",
    "\n",
    "    fig, ax = plt.subplots(1, 2, figsize=(15,5))\n",
    "    ax[0].set_title(f'{model} - learning curves accuracy')\n",
    "    ax[0].plot(hist[\"percentages\"], hist[\"acc_train\"], label=\"Training Accuracy\")\n",
    "    ax[0].plot(hist[\"percentages\"], hist[\"acc_test\"], label=\"Test Accuracy\")\n",
    "    ax[0].legend()\n",
    "    ax[1].set_title(f'{model} - learning curves f1 score')\n",
    "    ax[1].plot(hist[\"percentages\"], hist[\"f1_train\"], label=\"Training macro F1 score\")\n",
    "    ax[1].plot(hist[\"percentages\"], hist[\"f1_test\"], label=\"Test macro F1 score\")\n",
    "    ax[1].legend()\n",
    "    if do_save:\n",
    "        save_graph_path = f\"{graphs_path}{model}_acc&f1_{INPUT_DATA[:-1]}.png\"\n",
    "        plt.savefig(save_graph_path)\n",
    "        print(f\"Training graph saved at {save_graph_path}\")\n",
    "    if do_plot: plt.show()"
   ]
  },
  {
   "cell_type": "code",
   "execution_count": 43,
   "metadata": {},
   "outputs": [
    {
     "name": "stdout",
     "output_type": "stream",
     "text": [
      "Training graph saved at figures/bank/dt_acc&f1_bank_marketing_data.png\n"
     ]
    },
    {
     "data": {
      "image/png": "[encoded data removed]",
      "text/plain": [
       "<Figure size 1080x360 with 2 Axes>"
      ]
     },
     "metadata": {
      "needs_background": "light"
     },
     "output_type": "display_data"
    },
    {
     "name": "stdout",
     "output_type": "stream",
     "text": [
      "Wall time: 722 ms\n"
     ]
    }
   ],
   "source": [
    "%%time\n",
    "plot_training_size_variation('dt', x_train, y_train, x_test, y_test, graphs_path=GRAPHS_PATH, do_save=True, do_plot=True, iterations=20)"
   ]
  },
  {
   "cell_type": "code",
   "execution_count": 44,
   "metadata": {},
   "outputs": [
    {
     "name": "stdout",
     "output_type": "stream",
     "text": [
      "Training graph saved at figures/bank/adab_acc&f1_bank_marketing_data.png\n"
     ]
    },
    {
     "data": {
      "image/png": "[encoded data removed]",
      "text/plain": [
       "<Figure size 1080x360 with 2 Axes>"
      ]
     },
     "metadata": {
      "needs_background": "light"
     },
     "output_type": "display_data"
    },
    {
     "name": "stdout",
     "output_type": "stream",
     "text": [
      "Wall time: 5.65 s\n"
     ]
    }
   ],
   "source": [
    "%%time\n",
    "plot_training_size_variation('adab', x_train, y_train, x_test, y_test, graphs_path=GRAPHS_PATH, do_save=True, do_plot=True, iterations=5)"
   ]
  },
  {
   "cell_type": "code",
   "execution_count": 45,
   "metadata": {},
   "outputs": [
    {
     "name": "stdout",
     "output_type": "stream",
     "text": [
      "Training graph saved at figures/bank/svm_acc&f1_bank_marketing_data.png\n"
     ]
    },
    {
     "data": {
      "image/png": "[encoded data removed]",
      "text/plain": [
       "<Figure size 1080x360 with 2 Axes>"
      ]
     },
     "metadata": {
      "needs_background": "light"
     },
     "output_type": "display_data"
    },
    {
     "name": "stdout",
     "output_type": "stream",
     "text": [
      "Wall time: 8.64 s\n"
     ]
    }
   ],
   "source": [
    "%%time\n",
    "plot_training_size_variation('svm', x_train, y_train, x_test, y_test, graphs_path=GRAPHS_PATH, do_save=True, do_plot=True, iterations=5)"
   ]
  },
  {
   "cell_type": "code",
   "execution_count": 46,
   "metadata": {},
   "outputs": [
    {
     "name": "stdout",
     "output_type": "stream",
     "text": [
      "Training graph saved at figures/bank/knn_acc&f1_bank_marketing_data.png\n"
     ]
    },
    {
     "data": {
      "image/png": "[encoded data removed]",
      "text/plain": [
       "<Figure size 1080x360 with 2 Axes>"
      ]
     },
     "metadata": {
      "needs_background": "light"
     },
     "output_type": "display_data"
    },
    {
     "name": "stdout",
     "output_type": "stream",
     "text": [
      "Wall time: 2.52 s\n"
     ]
    }
   ],
   "source": [
    "%%time\n",
    "plot_training_size_variation('knn', x_train, y_train, x_test, y_test, graphs_path=GRAPHS_PATH, do_save=True, do_plot=True, iterations=5)"
   ]
  },
  {
   "cell_type": "markdown",
   "metadata": {},
   "source": [
    "# Cross-validation <a name=\"crossval\"></a>\n",
    "[Table of Content](#menu)\n",
    "\n",
    "Stratified-KFold: https://scikit-learn.org/stable/modules/generated/sklearn.model_selection.StratifiedKFold.html#sklearn.model_selection.StratifiedKFold \n",
    "\n",
    "https://towardsdatascience.com/how-to-find-decision-tree-depth-via-cross-validation-2bf143f0f3d6"
   ]
  },
  {
   "cell_type": "code",
   "execution_count": 47,
   "metadata": {},
   "outputs": [
    {
     "name": "stdout",
     "output_type": "stream",
     "text": [
      "StratifiedKFold(n_splits=5, random_state=17, shuffle=False)\n"
     ]
    },
    {
     "name": "stderr",
     "output_type": "stream",
     "text": [
      "D:\\ProgramData\\Anaconda3\\envs\\pytorch-gpu\\lib\\site-packages\\sklearn\\model_selection\\_split.py:297: FutureWarning: Setting a random_state has no effect since shuffle is False. This will raise an error in 0.24. You should leave random_state to its default (None), or set shuffle=True.\n",
      "  FutureWarning\n"
     ]
    }
   ],
   "source": [
    "K_folds = 5\n",
    "\n",
    "skf = StratifiedKFold(n_splits=K_folds, random_state=RANDOM_STATE)\n",
    "skf.get_n_splits(x_training, y_training)\n",
    "print(skf)"
   ]
  },
  {
   "cell_type": "code",
   "execution_count": 48,
   "metadata": {},
   "outputs": [],
   "source": [
    "for train_index, test_index in skf.split(x_training, y_training):\n",
    "    x_train, x_val = x_training[train_index], x_training[test_index]\n",
    "    y_train, y_val = y_training[train_index], y_training[test_index]"
   ]
  },
  {
   "cell_type": "markdown",
   "metadata": {},
   "source": [
    "## Cross-validation on Decision Trees\n",
    "\n",
    "Best = 9"
   ]
  },
  {
   "cell_type": "code",
   "execution_count": 49,
   "metadata": {},
   "outputs": [],
   "source": [
    "# https://towardsdatascience.com/how-to-find-decision-tree-depth-via-cross-validation-2bf143f0f3d6\n",
    "from sklearn.model_selection import cross_val_score\n",
    "\n",
    "# function for fitting trees of various depths on the training data using cross-validation\n",
    "def run_cross_validation_on_trees(X, y, tree_depths, cv=5, scoring='accuracy'):\n",
    "    cv_scores_list = []\n",
    "    cv_scores_std = []\n",
    "    cv_scores_mean = []\n",
    "    accuracy_scores = []\n",
    "    for depth in tree_depths:\n",
    "        tree_model = DecisionTreeClassifier(max_depth=depth, random_state=RANDOM_STATE)\n",
    "        cv_scores = cross_val_score(tree_model, X, y, cv=cv, scoring=scoring)\n",
    "        cv_scores_list.append(cv_scores)\n",
    "        cv_scores_mean.append(cv_scores.mean())\n",
    "        cv_scores_std.append(cv_scores.std())\n",
    "        accuracy_scores.append(tree_model.fit(X, y).score(X, y))\n",
    "    cv_scores_mean = np.array(cv_scores_mean)\n",
    "    cv_scores_std = np.array(cv_scores_std)\n",
    "    accuracy_scores = np.array(accuracy_scores)\n",
    "    return cv_scores_mean, cv_scores_std, accuracy_scores\n",
    "  \n",
    "# function for plotting cross-validation results\n",
    "def plot_cross_validation_on_trees(depths, cv_scores_mean, cv_scores_std, accuracy_scores, title):\n",
    "    fig, ax = plt.subplots(1,1, figsize=(15,5))\n",
    "    ax.plot(depths, cv_scores_mean, '-o', label='mean cross-validation accuracy', alpha=0.9)\n",
    "    ax.fill_between(depths, cv_scores_mean-2*cv_scores_std, cv_scores_mean+2*cv_scores_std, alpha=0.2)\n",
    "    ylim = plt.ylim()\n",
    "    ax.plot(depths, accuracy_scores, '-*', label='train accuracy', alpha=0.9)\n",
    "    ax.set_title(title, fontsize=16)\n",
    "    ax.set_xlabel('Tree depth', fontsize=14)\n",
    "    ax.set_ylabel('Accuracy', fontsize=14)\n",
    "    ax.set_ylim(ylim)\n",
    "    ax.set_xticks(depths)\n",
    "    ax.legend()\n",
    "    save_graph_path = f\"{GRAPHS_PATH}{'dt'}_cv.png\"\n",
    "    plt.savefig(save_graph_path)"
   ]
  },
  {
   "cell_type": "code",
   "execution_count": 50,
   "metadata": {},
   "outputs": [
    {
     "name": "stdout",
     "output_type": "stream",
     "text": [
      "Wall time: 5.15 s\n"
     ]
    }
   ],
   "source": [
    "%%time\n",
    "# fitting trees of depth 1 to 49, step=2\n",
    "sm_tree_depths = range(1, 50, 2)\n",
    "sm_cv_scores_mean, sm_cv_scores_std, sm_accuracy_scores = run_cross_validation_on_trees(x_training, y_training, sm_tree_depths)"
   ]
  },
  {
   "cell_type": "code",
   "execution_count": 51,
   "metadata": {},
   "outputs": [
    {
     "data": {
      "image/png": "[encoded data removed]",
      "text/plain": [
       "<Figure size 1080x360 with 1 Axes>"
      ]
     },
     "metadata": {
      "needs_background": "light"
     },
     "output_type": "display_data"
    }
   ],
   "source": [
    "# plotting accuracy\n",
    "plot_cross_validation_on_trees(sm_tree_depths, sm_cv_scores_mean, sm_cv_scores_std, sm_accuracy_scores, \n",
    "                               'Accuracy per decision tree depth on training data')"
   ]
  },
  {
   "cell_type": "markdown",
   "metadata": {},
   "source": [
    "## Cross-validation on AdaBoost\n",
    "\n",
    "Best = 161"
   ]
  },
  {
   "cell_type": "code",
   "execution_count": 52,
   "metadata": {},
   "outputs": [],
   "source": [
    "def run_cross_validation_on_adaboost(X, y, nb_estimators, cv=5, scoring='accuracy'):\n",
    "    cv_scores_list = []\n",
    "    cv_scores_std = []\n",
    "    cv_scores_mean = []\n",
    "    accuracy_scores = []\n",
    "    for nb in nb_estimators:\n",
    "        decision_tree_boost = DecisionTreeClassifier(max_depth=9, random_state=RANDOM_STATE)\n",
    "        adaboost_clf = AdaBoostClassifier(base_estimator=decision_tree_boost, n_estimators=nb)\n",
    "        cv_scores = cross_val_score(adaboost_clf, X, y, cv=cv, scoring=scoring)\n",
    "        cv_scores_list.append(cv_scores)\n",
    "        cv_scores_mean.append(cv_scores.mean())\n",
    "        cv_scores_std.append(cv_scores.std())\n",
    "        accuracy_scores.append(adaboost_clf.fit(X, y).score(X, y))\n",
    "    cv_scores_mean = np.array(cv_scores_mean)\n",
    "    cv_scores_std = np.array(cv_scores_std)\n",
    "    accuracy_scores = np.array(accuracy_scores)\n",
    "    return cv_scores_mean, cv_scores_std, accuracy_scores\n",
    "  \n",
    "# function for plotting cross-validation results\n",
    "def plot_cross_validation_on_adaboost(depths, cv_scores_mean, cv_scores_std, accuracy_scores, title, save=False):\n",
    "    fig, ax = plt.subplots(1,1, figsize=(15,5))\n",
    "    ax.plot(depths, cv_scores_mean, '-o', label='mean cross-validation accuracy', alpha=0.9)\n",
    "    ax.fill_between(depths, cv_scores_mean-2*cv_scores_std, cv_scores_mean+2*cv_scores_std, alpha=0.2)\n",
    "    ylim = plt.ylim()\n",
    "    ax.plot(depths, accuracy_scores, '-*', label='train accuracy', alpha=0.9)\n",
    "    ax.set_title(title, fontsize=16)\n",
    "    ax.set_xlabel('estimators', fontsize=14)\n",
    "    ax.set_ylabel('Accuracy', fontsize=14)\n",
    "    ax.set_ylim(ylim)\n",
    "    ax.set_xticks(depths)\n",
    "    ax.legend()\n",
    "    save_graph_path = f\"{GRAPHS_PATH}{'adaboost'}_cv.png\"\n",
    "    if save: plt.savefig(save_graph_path)"
   ]
  },
  {
   "cell_type": "code",
   "execution_count": 68,
   "metadata": {},
   "outputs": [
    {
     "name": "stdout",
     "output_type": "stream",
     "text": [
      "Wall time: 3min 41s\n"
     ]
    }
   ],
   "source": [
    "%%time\n",
    "# fitting trees of depth 1 to 49, step=2\n",
    "sm_estimators = range(1, 202, 20)\n",
    "sm_cv_scores_mean, sm_cv_scores_std, sm_accuracy_scores = run_cross_validation_on_adaboost(x_training, y_training, sm_estimators)"
   ]
  },
  {
   "cell_type": "code",
   "execution_count": 71,
   "metadata": {},
   "outputs": [
    {
     "data": {
      "image/png": "[encoded data removed]",
      "text/plain": [
       "<Figure size 1080x360 with 1 Axes>"
      ]
     },
     "metadata": {
      "needs_background": "light"
     },
     "output_type": "display_data"
    }
   ],
   "source": [
    "# plotting accuracy\n",
    "plot_cross_validation_on_adaboost(sm_estimators, sm_cv_scores_mean, sm_cv_scores_std, sm_accuracy_scores, \n",
    "                               'Accuracy per number of estimators on training data', save=False)"
   ]
  },
  {
   "cell_type": "markdown",
   "metadata": {},
   "source": [
    "## Cross-validation on SVM\n",
    "\n",
    "best C = 10"
   ]
  },
  {
   "cell_type": "code",
   "execution_count": 175,
   "metadata": {},
   "outputs": [],
   "source": [
    "def run_cross_validation_on_svm(X, y, list_kernels, C_list, gamma_list, cv=5, scoring='accuracy'):\n",
    "    dict_kernels = {}\n",
    "    for kernel in list_kernels:\n",
    "        cv_scores_list = []\n",
    "        cv_scores_std = []\n",
    "        cv_scores_mean = []\n",
    "        accuracy_scores = []\n",
    "        for C in C_list:\n",
    "            svm_model = SVC(C=C, random_state=RANDOM_STATE)\n",
    "            cv_scores = cross_val_score(svm_model, X, y, cv=cv, scoring=scoring)\n",
    "            cv_scores_list.append(cv_scores)\n",
    "            cv_scores_mean.append(cv_scores.mean())\n",
    "            cv_scores_std.append(cv_scores.std())\n",
    "            accuracy_scores.append(svm_model.fit(X, y).score(X, y))\n",
    "        cv_scores_mean = np.array(cv_scores_mean)\n",
    "        cv_scores_std = np.array(cv_scores_std)\n",
    "        accuracy_scores = np.array(accuracy_scores)\n",
    "\n",
    "        dict_kernels[kernel] = [cv_scores_mean, cv_scores_std, accuracy_scores]\n",
    "    \n",
    "    return dict_kernels\n",
    "  \n",
    "# function for plotting cross-validation results\n",
    "def plot_cross_validation_on_svm(depths, dict_kernels, title, save=False):\n",
    "    fig, ax = plt.subplots(1, len(dict_kernels), figsize=(15,5))\n",
    "    for idx, kernel in enumerate(dict_kernels.keys()):\n",
    "        cv_scores_mean, cv_scores_std, accuracy_scores = dict_kernels[kernel]\n",
    "        \n",
    "        axis_C = np.arange(len(depths))\n",
    "        \n",
    "        ax[idx].plot(axis_C, cv_scores_mean, '-o', label='mean cross-validation accuracy', alpha=0.75)\n",
    "        ax[idx].fill_between(axis_C, cv_scores_mean-2*cv_scores_std, cv_scores_mean+2*cv_scores_std, alpha=0.15)\n",
    "        ylim = plt.ylim()\n",
    "        ax[idx].plot(axis_C, accuracy_scores, '-*', label='train accuracy', alpha=0.9)\n",
    "        ax[idx].set_title(title+f' for {kernel}', fontsize=16)\n",
    "        ax[idx].set_xlabel('C', fontsize=14)\n",
    "        ax[idx].set_ylabel('Accuracy', fontsize=14)\n",
    "        ax[idx].set_ylim(ylim)\n",
    "        ax[idx].set_xticks(axis_C)\n",
    "        ax[idx].legend()\n",
    "    save_graph_path = f\"{GRAPHS_PATH}{'svm'}_cv.png\"\n",
    "    if save: plt.savefig(save_graph_path)"
   ]
  },
  {
   "cell_type": "code",
   "execution_count": 176,
   "metadata": {},
   "outputs": [
    {
     "name": "stdout",
     "output_type": "stream",
     "text": [
      "Wall time: 1min 21s\n"
     ]
    }
   ],
   "source": [
    "%%time\n",
    "# fitting trees of depth 1 to 49, step=2\n",
    "list_kernels = ['rbf', 'poly']\n",
    "C_list = [1, 10, 100]\n",
    "gamma_list = ['scale']\n",
    "dict_kernels = run_cross_validation_on_svm(x_training, y_training, list_kernels, C_list, gamma_list)"
   ]
  },
  {
   "cell_type": "code",
   "execution_count": 183,
   "metadata": {},
   "outputs": [
    {
     "data": {
      "image/png": "[encoded data removed]",
      "text/plain": [
       "<Figure size 1080x360 with 2 Axes>"
      ]
     },
     "metadata": {
      "needs_background": "light"
     },
     "output_type": "display_data"
    }
   ],
   "source": [
    "# plotting accuracy\n",
    "plot_cross_validation_on_svm(C_list, dict_kernels, \n",
    "                               'Accuracy per C', save=True)"
   ]
  },
  {
   "cell_type": "markdown",
   "metadata": {},
   "source": [
    "## Cross-validation on K-NN\n",
    "\n",
    "Best K = 7"
   ]
  },
  {
   "cell_type": "code",
   "execution_count": 55,
   "metadata": {},
   "outputs": [],
   "source": [
    "def run_cross_validation_on_knn(X, y, kneighbors, cv=5, scoring='accuracy'):\n",
    "    cv_scores_list = []\n",
    "    cv_scores_std = []\n",
    "    cv_scores_mean = []\n",
    "    accuracy_scores = []\n",
    "    for k in kneighbors:\n",
    "        knn_model = KNeighborsClassifier(n_neighbors=k, weights='distance')\n",
    "        cv_scores = cross_val_score(knn_model, X, y, cv=cv, scoring=scoring)\n",
    "        cv_scores_list.append(cv_scores)\n",
    "        cv_scores_mean.append(cv_scores.mean())\n",
    "        cv_scores_std.append(cv_scores.std())\n",
    "        accuracy_scores.append(knn_model.fit(X, y).score(X, y))\n",
    "    cv_scores_mean = np.array(cv_scores_mean)\n",
    "    cv_scores_std = np.array(cv_scores_std)\n",
    "    accuracy_scores = np.array(accuracy_scores)\n",
    "    return cv_scores_mean, cv_scores_std, accuracy_scores\n",
    "  \n",
    "# function for plotting cross-validation results\n",
    "def plot_cross_validation_on_knn(depths, cv_scores_mean, cv_scores_std, accuracy_scores, title):\n",
    "    fig, ax = plt.subplots(1,1, figsize=(15,5))\n",
    "    ax.plot(depths, cv_scores_mean, '-o', label='mean cross-validation accuracy', alpha=0.9)\n",
    "    ax.fill_between(depths, cv_scores_mean-2*cv_scores_std, cv_scores_mean+2*cv_scores_std, alpha=0.2)\n",
    "    ylim = plt.ylim()\n",
    "    ax.plot(depths, accuracy_scores, '-*', label='train accuracy', alpha=0.9)\n",
    "    ax.set_title(title, fontsize=16)\n",
    "    ax.set_xlabel('K', fontsize=14)\n",
    "    ax.set_ylabel('Accuracy', fontsize=14)\n",
    "    ax.set_ylim(ylim)\n",
    "    ax.set_xticks(depths)\n",
    "    ax.legend()\n",
    "    save_graph_path = f\"{GRAPHS_PATH}{'knn'}_cv.png\"\n",
    "    plt.savefig(save_graph_path)"
   ]
  },
  {
   "cell_type": "code",
   "execution_count": 56,
   "metadata": {},
   "outputs": [
    {
     "name": "stdout",
     "output_type": "stream",
     "text": [
      "Wall time: 13 s\n"
     ]
    }
   ],
   "source": [
    "%%time\n",
    "# fitting trees of depth 1 to 49, step=2\n",
    "sm_kneighbors = range(1, 15, 2)\n",
    "sm_cv_scores_mean, sm_cv_scores_std, sm_accuracy_scores = run_cross_validation_on_knn(x_training, y_training, sm_kneighbors)"
   ]
  },
  {
   "cell_type": "code",
   "execution_count": 57,
   "metadata": {},
   "outputs": [
    {
     "data": {
      "image/png": "[encoded data removed]",
      "text/plain": [
       "<Figure size 1080x360 with 1 Axes>"
      ]
     },
     "metadata": {
      "needs_background": "light"
     },
     "output_type": "display_data"
    }
   ],
   "source": [
    "# plotting accuracy\n",
    "plot_cross_validation_on_knn(sm_kneighbors, sm_cv_scores_mean, sm_cv_scores_std, sm_accuracy_scores, \n",
    "                               'Accuracy per k-neighbors on training data')"
   ]
  },
  {
   "cell_type": "markdown",
   "metadata": {},
   "source": [
    "## A better Neural Network (Advanced approach) <a name=\"advanced_nn\"></a>\n",
    "[Table of Content](#menu) \n",
    "\n",
    "[Simple Approach](#simple_nn)"
   ]
  },
  {
   "cell_type": "code",
   "execution_count": 124,
   "metadata": {},
   "outputs": [],
   "source": [
    "GRAPHS_PATH = FIG_PATH\n",
    "MODEL_TYPE = \"Neural Networks\"\n",
    "SAVING = True\n",
    "\n",
    "BATCH_SIZE = 64\n",
    "EPOCHS = 400\n",
    "LR = 5e-4\n",
    "EARLYSTOP = True\n",
    "SCHEDULER = True"
   ]
  },
  {
   "cell_type": "code",
   "execution_count": 125,
   "metadata": {},
   "outputs": [
    {
     "name": "stdout",
     "output_type": "stream",
     "text": [
      "Net(\n",
      "  (fc1): Linear(in_features=16, out_features=256, bias=True)\n",
      "  (fc2): Linear(in_features=256, out_features=256, bias=True)\n",
      "  (fc3): Linear(in_features=256, out_features=2, bias=True)\n",
      "  (dropout): Dropout(p=0.3, inplace=False)\n",
      ")\n"
     ]
    }
   ],
   "source": [
    "#https://www.kaggle.com/mburakergenc/ttianic-minimal-pytorch-mlp\n",
    "class Net2(nn.Module):\n",
    "    def __init__(self):\n",
    "        super(Net2, self).__init__()\n",
    "        self.fc1 = nn.Linear(len(features), 128)\n",
    "        self.fc2 = nn.Linear(128, 128)\n",
    "        self.fc3 = nn.Linear(128, 2)\n",
    "        self.dropout = nn.Dropout(0.3)\n",
    "\n",
    "    def forward(self, x):\n",
    "        x = F.relu(self.fc1(x))\n",
    "        x = self.dropout(x)\n",
    "        x = F.relu(self.fc2(x))\n",
    "        x = self.dropout(x)\n",
    "        x = self.fc3(x)\n",
    "        return x\n",
    "model = Net()\n",
    "print(model)"
   ]
  },
  {
   "cell_type": "code",
   "execution_count": 126,
   "metadata": {
    "collapsed": true,
    "jupyter": {
     "outputs_hidden": true
    }
   },
   "outputs": [
    {
     "name": "stdout",
     "output_type": "stream",
     "text": [
      "\n",
      "\n",
      "**TRAINING**\n",
      "\n",
      "Epoch 0/399\n",
      "----------\n",
      "tensor(4737., dtype=torch.float64) 7144\n",
      "train Loss: 0.6057 Acc: 0.6631\n",
      "tensor(1391., dtype=torch.float64) 1785\n",
      "val Loss: 0.4967 Acc: 0.7793\n",
      "Epoch complete in 0.4s\n",
      "\n",
      "Validation loss decreased (inf --> 0.496657).  Saving model ...\n",
      "Epoch 1/399\n",
      "----------\n",
      "tensor(5345., dtype=torch.float64) 7144\n",
      "train Loss: 0.5227 Acc: 0.7482\n",
      "tensor(1414., dtype=torch.float64) 1785\n",
      "val Loss: 0.4611 Acc: 0.7922\n",
      "Epoch complete in 0.3s\n",
      "\n",
      "Validation loss decreased (0.496657 --> 0.461149).  Saving model ...\n",
      "Epoch 2/399\n",
      "----------\n",
      "tensor(5501., dtype=torch.float64) 7144\n",
      "train Loss: 0.4887 Acc: 0.7700\n",
      "tensor(1437., dtype=torch.float64) 1785\n",
      "val Loss: 0.4425 Acc: 0.8050\n",
      "Epoch complete in 0.3s\n",
      "\n",
      "Validation loss decreased (0.461149 --> 0.442488).  Saving model ...\n",
      "Epoch 3/399\n",
      "----------\n",
      "tensor(5543., dtype=torch.float64) 7144\n",
      "train Loss: 0.4777 Acc: 0.7759\n",
      "tensor(1440., dtype=torch.float64) 1785\n",
      "val Loss: 0.4326 Acc: 0.8067\n",
      "Epoch complete in 0.3s\n",
      "\n",
      "Validation loss decreased (0.442488 --> 0.432637).  Saving model ...\n",
      "Epoch 4/399\n",
      "----------\n",
      "tensor(5630., dtype=torch.float64) 7144\n",
      "train Loss: 0.4607 Acc: 0.7881\n",
      "tensor(1460., dtype=torch.float64) 1785\n",
      "val Loss: 0.4247 Acc: 0.8179\n",
      "Epoch complete in 0.4s\n",
      "\n",
      "Validation loss decreased (0.432637 --> 0.424695).  Saving model ...\n",
      "Epoch 5/399\n",
      "----------\n",
      "tensor(5634., dtype=torch.float64) 7144\n",
      "train Loss: 0.4580 Acc: 0.7886\n",
      "tensor(1456., dtype=torch.float64) 1785\n",
      "val Loss: 0.4192 Acc: 0.8157\n",
      "Epoch complete in 0.3s\n",
      "\n",
      "Validation loss decreased (0.424695 --> 0.419244).  Saving model ...\n",
      "Epoch 6/399\n",
      "----------\n",
      "tensor(5695., dtype=torch.float64) 7144\n",
      "train Loss: 0.4477 Acc: 0.7972\n",
      "tensor(1458., dtype=torch.float64) 1785\n",
      "val Loss: 0.4145 Acc: 0.8168\n",
      "Epoch complete in 0.3s\n",
      "\n",
      "Validation loss decreased (0.419244 --> 0.414467).  Saving model ...\n",
      "Epoch 7/399\n",
      "----------\n",
      "tensor(5742., dtype=torch.float64) 7144\n",
      "train Loss: 0.4477 Acc: 0.8038\n",
      "tensor(1456., dtype=torch.float64) 1785\n",
      "val Loss: 0.4126 Acc: 0.8157\n",
      "Epoch complete in 0.3s\n",
      "\n",
      "Validation loss decreased (0.414467 --> 0.412567).  Saving model ...\n",
      "Epoch 8/399\n",
      "----------\n",
      "tensor(5712., dtype=torch.float64) 7144\n",
      "train Loss: 0.4415 Acc: 0.7996\n",
      "tensor(1464., dtype=torch.float64) 1785\n",
      "val Loss: 0.4107 Acc: 0.8202\n",
      "Epoch complete in 0.4s\n",
      "\n",
      "Validation loss decreased (0.412567 --> 0.410700).  Saving model ...\n",
      "Epoch 9/399\n",
      "----------\n",
      "tensor(5758., dtype=torch.float64) 7144\n",
      "train Loss: 0.4352 Acc: 0.8060\n",
      "tensor(1461., dtype=torch.float64) 1785\n",
      "val Loss: 0.4104 Acc: 0.8185\n",
      "Epoch complete in 0.3s\n",
      "\n",
      "Validation loss decreased (0.410700 --> 0.410351).  Saving model ...\n",
      "Epoch 10/399\n",
      "----------\n",
      "tensor(5739., dtype=torch.float64) 7144\n",
      "train Loss: 0.4354 Acc: 0.8033\n",
      "tensor(1463., dtype=torch.float64) 1785\n",
      "val Loss: 0.4089 Acc: 0.8196\n",
      "Epoch complete in 0.4s\n",
      "\n",
      "Validation loss decreased (0.410351 --> 0.408921).  Saving model ...\n",
      "Epoch 11/399\n",
      "----------\n",
      "tensor(5762., dtype=torch.float64) 7144\n",
      "train Loss: 0.4326 Acc: 0.8066\n",
      "tensor(1466., dtype=torch.float64) 1785\n",
      "val Loss: 0.4072 Acc: 0.8213\n",
      "Epoch complete in 0.8s\n",
      "\n",
      "Validation loss decreased (0.408921 --> 0.407221).  Saving model ...\n",
      "Epoch 12/399\n",
      "----------\n",
      "tensor(5785., dtype=torch.float64) 7144\n",
      "train Loss: 0.4294 Acc: 0.8098\n",
      "tensor(1464., dtype=torch.float64) 1785\n",
      "val Loss: 0.4056 Acc: 0.8202\n",
      "Epoch complete in 0.3s\n",
      "\n",
      "Validation loss decreased (0.407221 --> 0.405626).  Saving model ...\n",
      "Epoch 13/399\n",
      "----------\n",
      "tensor(5794., dtype=torch.float64) 7144\n",
      "train Loss: 0.4267 Acc: 0.8110\n",
      "tensor(1473., dtype=torch.float64) 1785\n",
      "val Loss: 0.4055 Acc: 0.8252\n",
      "Epoch complete in 0.3s\n",
      "\n",
      "Validation loss decreased (0.405626 --> 0.405453).  Saving model ...\n",
      "Epoch 14/399\n",
      "----------\n",
      "tensor(5810., dtype=torch.float64) 7144\n",
      "train Loss: 0.4231 Acc: 0.8133\n",
      "tensor(1464., dtype=torch.float64) 1785\n",
      "val Loss: 0.4047 Acc: 0.8202\n",
      "Epoch complete in 0.3s\n",
      "\n",
      "Validation loss decreased (0.405453 --> 0.404728).  Saving model ...\n",
      "Epoch 15/399\n",
      "----------\n",
      "tensor(5777., dtype=torch.float64) 7144\n",
      "train Loss: 0.4225 Acc: 0.8087\n",
      "tensor(1465., dtype=torch.float64) 1785\n",
      "val Loss: 0.4022 Acc: 0.8207\n",
      "Epoch complete in 0.3s\n",
      "\n",
      "Validation loss decreased (0.404728 --> 0.402199).  Saving model ...\n",
      "Epoch 16/399\n",
      "----------\n",
      "tensor(5800., dtype=torch.float64) 7144\n",
      "train Loss: 0.4179 Acc: 0.8119\n",
      "tensor(1461., dtype=torch.float64) 1785\n",
      "val Loss: 0.4022 Acc: 0.8185\n",
      "Epoch complete in 0.3s\n",
      "\n",
      "Validation loss decreased (0.402199 --> 0.402180).  Saving model ...\n",
      "Epoch 17/399\n",
      "----------\n",
      "tensor(5817., dtype=torch.float64) 7144\n",
      "train Loss: 0.4205 Acc: 0.8142\n",
      "tensor(1465., dtype=torch.float64) 1785\n",
      "val Loss: 0.4013 Acc: 0.8207\n",
      "Epoch complete in 0.3s\n",
      "\n",
      "Validation loss decreased (0.402180 --> 0.401323).  Saving model ...\n",
      "Epoch 18/399\n",
      "----------\n",
      "tensor(5835., dtype=torch.float64) 7144\n",
      "train Loss: 0.4130 Acc: 0.8168\n",
      "tensor(1460., dtype=torch.float64) 1785\n",
      "val Loss: 0.4006 Acc: 0.8179\n",
      "Epoch complete in 0.3s\n",
      "\n",
      "Validation loss decreased (0.401323 --> 0.400596).  Saving model ...\n",
      "Epoch 19/399\n",
      "----------\n",
      "tensor(5836., dtype=torch.float64) 7144\n",
      "train Loss: 0.4132 Acc: 0.8169\n",
      "tensor(1464., dtype=torch.float64) 1785\n",
      "val Loss: 0.3991 Acc: 0.8202\n",
      "Epoch complete in 0.3s\n",
      "\n",
      "Validation loss decreased (0.400596 --> 0.399063).  Saving model ...\n",
      "Epoch 20/399\n",
      "----------\n",
      "tensor(5831., dtype=torch.float64) 7144\n",
      "train Loss: 0.4164 Acc: 0.8162\n",
      "tensor(1465., dtype=torch.float64) 1785\n",
      "val Loss: 0.3990 Acc: 0.8207\n",
      "Epoch complete in 0.3s\n",
      "\n",
      "Validation loss decreased (0.399063 --> 0.398967).  Saving model ...\n",
      "Epoch 21/399\n",
      "----------\n",
      "tensor(5856., dtype=torch.float64) 7144\n",
      "train Loss: 0.4132 Acc: 0.8197\n",
      "tensor(1467., dtype=torch.float64) 1785\n",
      "val Loss: 0.3990 Acc: 0.8218\n",
      "Epoch complete in 0.3s\n",
      "\n",
      "EarlyStopping counter: 1 out of 15\n",
      "Epoch 22/399\n",
      "----------\n",
      "tensor(5868., dtype=torch.float64) 7144\n",
      "train Loss: 0.4071 Acc: 0.8214\n",
      "tensor(1462., dtype=torch.float64) 1785\n",
      "val Loss: 0.3975 Acc: 0.8190\n",
      "Epoch complete in 0.3s\n",
      "\n",
      "Validation loss decreased (0.398967 --> 0.397491).  Saving model ...\n",
      "Epoch 23/399\n",
      "----------\n",
      "tensor(5866., dtype=torch.float64) 7144\n",
      "train Loss: 0.4076 Acc: 0.8211\n",
      "tensor(1468., dtype=torch.float64) 1785\n",
      "val Loss: 0.3973 Acc: 0.8224\n",
      "Epoch complete in 0.3s\n",
      "\n",
      "Validation loss decreased (0.397491 --> 0.397275).  Saving model ...\n",
      "Epoch 24/399\n",
      "----------\n",
      "tensor(5876., dtype=torch.float64) 7144\n",
      "train Loss: 0.4049 Acc: 0.8225\n",
      "tensor(1471., dtype=torch.float64) 1785\n",
      "val Loss: 0.3966 Acc: 0.8241\n",
      "Epoch complete in 0.5s\n",
      "\n",
      "Validation loss decreased (0.397275 --> 0.396626).  Saving model ...\n",
      "Epoch 25/399\n",
      "----------\n",
      "tensor(5874., dtype=torch.float64) 7144\n",
      "train Loss: 0.4105 Acc: 0.8222\n",
      "tensor(1461., dtype=torch.float64) 1785\n",
      "val Loss: 0.3971 Acc: 0.8185\n",
      "Epoch complete in 0.4s\n",
      "\n",
      "EarlyStopping counter: 1 out of 15\n",
      "Epoch 26/399\n",
      "----------\n",
      "tensor(5882., dtype=torch.float64) 7144\n",
      "train Loss: 0.4037 Acc: 0.8233\n",
      "tensor(1463., dtype=torch.float64) 1785\n",
      "val Loss: 0.3960 Acc: 0.8196\n",
      "Epoch complete in 0.3s\n",
      "\n",
      "Validation loss decreased (0.396626 --> 0.396021).  Saving model ...\n",
      "Epoch 27/399\n",
      "----------\n",
      "tensor(5869., dtype=torch.float64) 7144\n",
      "train Loss: 0.4029 Acc: 0.8215\n",
      "tensor(1462., dtype=torch.float64) 1785\n",
      "val Loss: 0.3961 Acc: 0.8190\n",
      "Epoch complete in 0.3s\n",
      "\n",
      "EarlyStopping counter: 1 out of 15\n",
      "Epoch 28/399\n",
      "----------\n",
      "tensor(5888., dtype=torch.float64) 7144\n",
      "train Loss: 0.4012 Acc: 0.8242\n",
      "tensor(1467., dtype=torch.float64) 1785\n",
      "val Loss: 0.3953 Acc: 0.8218\n",
      "Epoch complete in 0.3s\n",
      "\n",
      "Validation loss decreased (0.396021 --> 0.395278).  Saving model ...\n",
      "Epoch 29/399\n",
      "----------\n",
      "tensor(5906., dtype=torch.float64) 7144\n",
      "train Loss: 0.4055 Acc: 0.8267\n",
      "tensor(1467., dtype=torch.float64) 1785\n",
      "val Loss: 0.3953 Acc: 0.8218\n",
      "Epoch complete in 0.3s\n",
      "\n",
      "EarlyStopping counter: 1 out of 15\n",
      "Epoch 30/399\n",
      "----------\n",
      "tensor(5892., dtype=torch.float64) 7144\n",
      "train Loss: 0.3973 Acc: 0.8247\n",
      "tensor(1467., dtype=torch.float64) 1785\n",
      "val Loss: 0.3943 Acc: 0.8218\n",
      "Epoch complete in 0.3s\n",
      "\n",
      "Validation loss decreased (0.395278 --> 0.394294).  Saving model ...\n",
      "Epoch 31/399\n",
      "----------\n",
      "tensor(5925., dtype=torch.float64) 7144\n",
      "train Loss: 0.3977 Acc: 0.8294\n",
      "tensor(1467., dtype=torch.float64) 1785\n",
      "val Loss: 0.3942 Acc: 0.8218\n",
      "Epoch complete in 0.3s\n",
      "\n",
      "Validation loss decreased (0.394294 --> 0.394169).  Saving model ...\n",
      "Epoch 32/399\n",
      "----------\n",
      "tensor(5912., dtype=torch.float64) 7144\n",
      "train Loss: 0.3959 Acc: 0.8275\n",
      "tensor(1472., dtype=torch.float64) 1785\n",
      "val Loss: 0.3923 Acc: 0.8246\n",
      "Epoch complete in 0.4s\n",
      "\n",
      "Validation loss decreased (0.394169 --> 0.392330).  Saving model ...\n",
      "Epoch 33/399\n",
      "----------\n",
      "tensor(5924., dtype=torch.float64) 7144\n",
      "train Loss: 0.3973 Acc: 0.8292\n",
      "tensor(1462., dtype=torch.float64) 1785\n",
      "val Loss: 0.3937 Acc: 0.8190\n",
      "Epoch complete in 1.6s\n",
      "\n",
      "EarlyStopping counter: 1 out of 15\n",
      "Epoch 34/399\n",
      "----------\n",
      "tensor(5908., dtype=torch.float64) 7144\n",
      "train Loss: 0.3961 Acc: 0.8270\n",
      "tensor(1469., dtype=torch.float64) 1785\n",
      "val Loss: 0.3915 Acc: 0.8230\n",
      "Epoch complete in 0.4s\n",
      "\n",
      "Validation loss decreased (0.392330 --> 0.391539).  Saving model ...\n",
      "Epoch 35/399\n",
      "----------\n",
      "tensor(5944., dtype=torch.float64) 7144\n",
      "train Loss: 0.3949 Acc: 0.8320\n",
      "tensor(1477., dtype=torch.float64) 1785\n",
      "val Loss: 0.3909 Acc: 0.8275\n",
      "Epoch complete in 0.3s\n",
      "\n",
      "Validation loss decreased (0.391539 --> 0.390913).  Saving model ...\n",
      "Epoch 36/399\n",
      "----------\n",
      "tensor(5913., dtype=torch.float64) 7144\n",
      "train Loss: 0.3933 Acc: 0.8277\n",
      "tensor(1472., dtype=torch.float64) 1785\n",
      "val Loss: 0.3917 Acc: 0.8246\n",
      "Epoch complete in 0.3s\n",
      "\n",
      "EarlyStopping counter: 1 out of 15\n",
      "Epoch 37/399\n",
      "----------\n",
      "tensor(5928., dtype=torch.float64) 7144\n",
      "train Loss: 0.3972 Acc: 0.8298\n",
      "tensor(1476., dtype=torch.float64) 1785\n",
      "val Loss: 0.3904 Acc: 0.8269\n",
      "Epoch complete in 0.5s\n",
      "\n",
      "Validation loss decreased (0.390913 --> 0.390412).  Saving model ...\n",
      "Epoch 38/399\n",
      "----------\n",
      "tensor(5953., dtype=torch.float64) 7144\n",
      "train Loss: 0.3905 Acc: 0.8333\n",
      "tensor(1472., dtype=torch.float64) 1785\n",
      "val Loss: 0.3901 Acc: 0.8246\n",
      "Epoch complete in 0.3s\n",
      "\n",
      "Validation loss decreased (0.390412 --> 0.390090).  Saving model ...\n",
      "Epoch 39/399\n",
      "----------\n",
      "tensor(5944., dtype=torch.float64) 7144\n",
      "train Loss: 0.3934 Acc: 0.8320\n",
      "tensor(1471., dtype=torch.float64) 1785\n",
      "val Loss: 0.3896 Acc: 0.8241\n",
      "Epoch complete in 1.6s\n",
      "\n",
      "Validation loss decreased (0.390090 --> 0.389601).  Saving model ...\n",
      "Epoch 40/399\n",
      "----------\n",
      "tensor(5914., dtype=torch.float64) 7144\n",
      "train Loss: 0.3925 Acc: 0.8278\n",
      "tensor(1470., dtype=torch.float64) 1785\n",
      "val Loss: 0.3895 Acc: 0.8235\n",
      "Epoch complete in 0.5s\n",
      "\n",
      "Validation loss decreased (0.389601 --> 0.389473).  Saving model ...\n",
      "Epoch 41/399\n",
      "----------\n",
      "tensor(5959., dtype=torch.float64) 7144\n",
      "train Loss: 0.3868 Acc: 0.8341\n",
      "tensor(1470., dtype=torch.float64) 1785\n",
      "val Loss: 0.3896 Acc: 0.8235\n",
      "Epoch complete in 0.4s\n",
      "\n",
      "EarlyStopping counter: 1 out of 15\n",
      "Epoch 42/399\n",
      "----------\n",
      "tensor(5911., dtype=torch.float64) 7144\n",
      "train Loss: 0.3882 Acc: 0.8274\n",
      "tensor(1474., dtype=torch.float64) 1785\n",
      "val Loss: 0.3891 Acc: 0.8258\n",
      "Epoch complete in 0.3s\n",
      "\n",
      "Validation loss decreased (0.389473 --> 0.389067).  Saving model ...\n",
      "Epoch 43/399\n",
      "----------\n",
      "tensor(5929., dtype=torch.float64) 7144\n",
      "train Loss: 0.3864 Acc: 0.8299\n",
      "tensor(1476., dtype=torch.float64) 1785\n",
      "val Loss: 0.3894 Acc: 0.8269\n",
      "Epoch complete in 0.6s\n",
      "\n",
      "EarlyStopping counter: 1 out of 15\n",
      "Epoch 44/399\n",
      "----------\n",
      "tensor(5936., dtype=torch.float64) 7144\n",
      "train Loss: 0.3918 Acc: 0.8309\n",
      "tensor(1479., dtype=torch.float64) 1785\n",
      "val Loss: 0.3898 Acc: 0.8286\n",
      "Epoch complete in 0.3s\n",
      "\n",
      "EarlyStopping counter: 2 out of 15\n",
      "Epoch 45/399\n",
      "----------\n",
      "tensor(5925., dtype=torch.float64) 7144\n",
      "train Loss: 0.3870 Acc: 0.8294\n",
      "tensor(1481., dtype=torch.float64) 1785\n",
      "val Loss: 0.3879 Acc: 0.8297\n",
      "Epoch complete in 0.3s\n",
      "\n",
      "Validation loss decreased (0.389067 --> 0.387944).  Saving model ...\n",
      "Epoch 46/399\n",
      "----------\n",
      "tensor(5995., dtype=torch.float64) 7144\n",
      "train Loss: 0.3786 Acc: 0.8392\n",
      "tensor(1476., dtype=torch.float64) 1785\n",
      "val Loss: 0.3892 Acc: 0.8269\n",
      "Epoch complete in 0.3s\n",
      "\n",
      "EarlyStopping counter: 1 out of 15\n",
      "Epoch 47/399\n",
      "----------\n",
      "tensor(5968., dtype=torch.float64) 7144\n",
      "train Loss: 0.3814 Acc: 0.8354\n",
      "tensor(1476., dtype=torch.float64) 1785\n",
      "val Loss: 0.3886 Acc: 0.8269\n",
      "Epoch complete in 0.4s\n",
      "\n",
      "EarlyStopping counter: 2 out of 15\n",
      "Epoch 48/399\n",
      "----------\n",
      "tensor(5942., dtype=torch.float64) 7144\n",
      "train Loss: 0.3874 Acc: 0.8317\n",
      "tensor(1476., dtype=torch.float64) 1785\n",
      "val Loss: 0.3876 Acc: 0.8269\n",
      "Epoch complete in 0.5s\n",
      "\n",
      "Validation loss decreased (0.387944 --> 0.387578).  Saving model ...\n",
      "Epoch 49/399\n",
      "----------\n",
      "tensor(5975., dtype=torch.float64) 7144\n",
      "train Loss: 0.3810 Acc: 0.8364\n",
      "tensor(1478., dtype=torch.float64) 1785\n",
      "val Loss: 0.3870 Acc: 0.8280\n",
      "Epoch complete in 0.3s\n",
      "\n",
      "Validation loss decreased (0.387578 --> 0.387028).  Saving model ...\n",
      "Epoch 50/399\n",
      "----------\n",
      "tensor(5977., dtype=torch.float64) 7144\n",
      "train Loss: 0.3810 Acc: 0.8366\n",
      "tensor(1475., dtype=torch.float64) 1785\n",
      "val Loss: 0.3890 Acc: 0.8263\n",
      "Epoch complete in 0.4s\n",
      "\n",
      "EarlyStopping counter: 1 out of 15\n",
      "Epoch 51/399\n",
      "----------\n",
      "tensor(6001., dtype=torch.float64) 7144\n",
      "train Loss: 0.3772 Acc: 0.8400\n",
      "tensor(1474., dtype=torch.float64) 1785\n",
      "val Loss: 0.3862 Acc: 0.8258\n",
      "Epoch complete in 0.7s\n",
      "\n",
      "Validation loss decreased (0.387028 --> 0.386182).  Saving model ...\n",
      "Epoch 52/399\n",
      "----------\n",
      "tensor(5971., dtype=torch.float64) 7144\n",
      "train Loss: 0.3798 Acc: 0.8358\n",
      "tensor(1480., dtype=torch.float64) 1785\n",
      "val Loss: 0.3854 Acc: 0.8291\n",
      "Epoch complete in 0.3s\n",
      "\n",
      "Validation loss decreased (0.386182 --> 0.385390).  Saving model ...\n",
      "Epoch 53/399\n",
      "----------\n",
      "tensor(5988., dtype=torch.float64) 7144\n",
      "train Loss: 0.3761 Acc: 0.8382\n",
      "tensor(1466., dtype=torch.float64) 1785\n",
      "val Loss: 0.3853 Acc: 0.8213\n",
      "Epoch complete in 0.3s\n",
      "\n",
      "Validation loss decreased (0.385390 --> 0.385297).  Saving model ...\n",
      "Epoch 54/399\n",
      "----------\n",
      "tensor(6008., dtype=torch.float64) 7144\n",
      "train Loss: 0.3731 Acc: 0.8410\n",
      "tensor(1472., dtype=torch.float64) 1785\n",
      "val Loss: 0.3863 Acc: 0.8246\n",
      "Epoch complete in 0.3s\n",
      "\n",
      "EarlyStopping counter: 1 out of 15\n",
      "Epoch 55/399\n",
      "----------\n",
      "tensor(5960., dtype=torch.float64) 7144\n",
      "train Loss: 0.3768 Acc: 0.8343\n",
      "tensor(1473., dtype=torch.float64) 1785\n",
      "val Loss: 0.3850 Acc: 0.8252\n",
      "Epoch complete in 0.4s\n",
      "\n",
      "Validation loss decreased (0.385297 --> 0.384990).  Saving model ...\n",
      "Epoch 56/399\n",
      "----------\n",
      "tensor(5989., dtype=torch.float64) 7144\n",
      "train Loss: 0.3754 Acc: 0.8383\n",
      "tensor(1468., dtype=torch.float64) 1785\n",
      "val Loss: 0.3855 Acc: 0.8224\n",
      "Epoch complete in 0.7s\n",
      "\n",
      "EarlyStopping counter: 1 out of 15\n",
      "Epoch 57/399\n",
      "----------\n",
      "tensor(6007., dtype=torch.float64) 7144\n",
      "train Loss: 0.3717 Acc: 0.8408\n",
      "tensor(1471., dtype=torch.float64) 1785\n",
      "val Loss: 0.3860 Acc: 0.8241\n",
      "Epoch complete in 0.7s\n",
      "\n",
      "EarlyStopping counter: 2 out of 15\n",
      "Epoch 58/399\n",
      "----------\n",
      "tensor(6009., dtype=torch.float64) 7144\n",
      "train Loss: 0.3707 Acc: 0.8411\n",
      "tensor(1470., dtype=torch.float64) 1785\n",
      "val Loss: 0.3851 Acc: 0.8235\n",
      "Epoch complete in 0.3s\n",
      "\n",
      "EarlyStopping counter: 3 out of 15\n",
      "Epoch 59/399\n",
      "----------\n",
      "tensor(5990., dtype=torch.float64) 7144\n",
      "train Loss: 0.3726 Acc: 0.8385\n",
      "tensor(1467., dtype=torch.float64) 1785\n",
      "val Loss: 0.3856 Acc: 0.8218\n",
      "Epoch complete in 0.3s\n",
      "\n",
      "EarlyStopping counter: 4 out of 15\n",
      "Epoch 60/399\n",
      "----------\n",
      "tensor(6001., dtype=torch.float64) 7144\n",
      "train Loss: 0.3750 Acc: 0.8400\n",
      "tensor(1472., dtype=torch.float64) 1785\n",
      "val Loss: 0.3865 Acc: 0.8246\n",
      "Epoch complete in 0.3s\n",
      "\n",
      "EarlyStopping counter: 5 out of 15\n",
      "Epoch 61/399\n",
      "----------\n",
      "tensor(5995., dtype=torch.float64) 7144\n",
      "train Loss: 0.3718 Acc: 0.8392\n",
      "tensor(1469., dtype=torch.float64) 1785\n",
      "val Loss: 0.3858 Acc: 0.8230\n",
      "Epoch complete in 0.3s\n",
      "\n",
      "EarlyStopping counter: 6 out of 15\n",
      "Epoch 62/399\n",
      "----------\n",
      "tensor(6016., dtype=torch.float64) 7144\n",
      "train Loss: 0.3703 Acc: 0.8421\n",
      "tensor(1475., dtype=torch.float64) 1785\n",
      "val Loss: 0.3858 Acc: 0.8263\n",
      "Epoch complete in 0.3s\n",
      "\n",
      "EarlyStopping counter: 7 out of 15\n",
      "Epoch 63/399\n",
      "----------\n",
      "tensor(5998., dtype=torch.float64) 7144\n",
      "train Loss: 0.3692 Acc: 0.8396\n",
      "tensor(1468., dtype=torch.float64) 1785\n",
      "val Loss: 0.3853 Acc: 0.8224\n",
      "Epoch complete in 0.3s\n",
      "\n",
      "EarlyStopping counter: 8 out of 15\n",
      "Epoch 64/399\n",
      "----------\n",
      "tensor(6015., dtype=torch.float64) 7144\n",
      "train Loss: 0.3676 Acc: 0.8420\n",
      "tensor(1468., dtype=torch.float64) 1785\n",
      "val Loss: 0.3857 Acc: 0.8224\n",
      "Epoch complete in 0.3s\n",
      "\n",
      "EarlyStopping counter: 9 out of 15\n",
      "Epoch 65/399\n",
      "----------\n",
      "tensor(5984., dtype=torch.float64) 7144\n",
      "train Loss: 0.3708 Acc: 0.8376\n",
      "tensor(1464., dtype=torch.float64) 1785\n",
      "val Loss: 0.3860 Acc: 0.8202\n",
      "Epoch complete in 0.3s\n",
      "\n",
      "EarlyStopping counter: 10 out of 15\n",
      "Epoch 66/399\n",
      "----------\n",
      "tensor(6003., dtype=torch.float64) 7144\n",
      "train Loss: 0.3671 Acc: 0.8403\n",
      "tensor(1469., dtype=torch.float64) 1785\n",
      "val Loss: 0.3851 Acc: 0.8230\n",
      "Epoch complete in 0.3s\n",
      "\n",
      "EarlyStopping counter: 11 out of 15\n",
      "Epoch 67/399\n",
      "----------\n",
      "tensor(6027., dtype=torch.float64) 7144\n",
      "train Loss: 0.3636 Acc: 0.8436\n",
      "tensor(1469., dtype=torch.float64) 1785\n",
      "val Loss: 0.3850 Acc: 0.8230\n",
      "Epoch complete in 0.3s\n",
      "\n",
      "EarlyStopping counter: 12 out of 15\n",
      "Epoch 68/399\n",
      "----------\n",
      "tensor(6051., dtype=torch.float64) 7144\n",
      "train Loss: 0.3577 Acc: 0.8470\n",
      "tensor(1468., dtype=torch.float64) 1785\n",
      "val Loss: 0.3845 Acc: 0.8224\n",
      "Epoch complete in 0.3s\n",
      "\n",
      "Validation loss decreased (0.384990 --> 0.384505).  Saving model ...\n",
      "Epoch 69/399\n",
      "----------\n",
      "tensor(6016., dtype=torch.float64) 7144\n",
      "train Loss: 0.3632 Acc: 0.8421\n",
      "tensor(1468., dtype=torch.float64) 1785\n",
      "val Loss: 0.3843 Acc: 0.8224\n",
      "Epoch complete in 0.3s\n",
      "\n",
      "Validation loss decreased (0.384505 --> 0.384282).  Saving model ...\n",
      "Epoch 70/399\n",
      "----------\n",
      "tensor(6038., dtype=torch.float64) 7144\n",
      "train Loss: 0.3617 Acc: 0.8452\n",
      "tensor(1470., dtype=torch.float64) 1785\n",
      "val Loss: 0.3845 Acc: 0.8235\n",
      "Epoch complete in 0.3s\n",
      "\n",
      "EarlyStopping counter: 1 out of 15\n",
      "Epoch 71/399\n",
      "----------\n",
      "tensor(6034., dtype=torch.float64) 7144\n",
      "train Loss: 0.3618 Acc: 0.8446\n",
      "tensor(1466., dtype=torch.float64) 1785\n",
      "val Loss: 0.3843 Acc: 0.8213\n",
      "Epoch complete in 0.3s\n",
      "\n",
      "EarlyStopping counter: 2 out of 15\n",
      "Epoch 72/399\n",
      "----------\n",
      "tensor(6026., dtype=torch.float64) 7144\n",
      "train Loss: 0.3655 Acc: 0.8435\n",
      "tensor(1466., dtype=torch.float64) 1785\n",
      "val Loss: 0.3844 Acc: 0.8213\n",
      "Epoch complete in 0.3s\n",
      "\n",
      "EarlyStopping counter: 3 out of 15\n",
      "Epoch 73/399\n",
      "----------\n",
      "tensor(6041., dtype=torch.float64) 7144\n",
      "train Loss: 0.3577 Acc: 0.8456\n",
      "tensor(1466., dtype=torch.float64) 1785\n",
      "val Loss: 0.3844 Acc: 0.8213\n",
      "Epoch complete in 0.3s\n",
      "\n",
      "EarlyStopping counter: 4 out of 15\n",
      "Epoch 74/399\n",
      "----------\n",
      "tensor(6022., dtype=torch.float64) 7144\n",
      "train Loss: 0.3637 Acc: 0.8429\n",
      "tensor(1466., dtype=torch.float64) 1785\n",
      "val Loss: 0.3844 Acc: 0.8213\n",
      "Epoch complete in 0.4s\n",
      "\n",
      "EarlyStopping counter: 5 out of 15\n",
      "Epoch 75/399\n",
      "----------\n",
      "tensor(6026., dtype=torch.float64) 7144\n",
      "train Loss: 0.3647 Acc: 0.8435\n",
      "tensor(1466., dtype=torch.float64) 1785\n",
      "val Loss: 0.3843 Acc: 0.8213\n",
      "Epoch complete in 0.3s\n",
      "\n",
      "EarlyStopping counter: 6 out of 15\n",
      "Epoch 76/399\n",
      "----------\n",
      "tensor(6021., dtype=torch.float64) 7144\n",
      "train Loss: 0.3651 Acc: 0.8428\n",
      "tensor(1466., dtype=torch.float64) 1785\n",
      "val Loss: 0.3844 Acc: 0.8213\n",
      "Epoch complete in 0.3s\n",
      "\n",
      "EarlyStopping counter: 7 out of 15\n",
      "Epoch 77/399\n",
      "----------\n",
      "tensor(6050., dtype=torch.float64) 7144\n",
      "train Loss: 0.3618 Acc: 0.8469\n",
      "tensor(1464., dtype=torch.float64) 1785\n",
      "val Loss: 0.3845 Acc: 0.8202\n",
      "Epoch complete in 0.4s\n",
      "\n",
      "EarlyStopping counter: 8 out of 15\n",
      "Epoch 78/399\n",
      "----------\n",
      "tensor(6060., dtype=torch.float64) 7144\n",
      "train Loss: 0.3587 Acc: 0.8483\n",
      "tensor(1465., dtype=torch.float64) 1785\n",
      "val Loss: 0.3844 Acc: 0.8207\n",
      "Epoch complete in 0.5s\n",
      "\n",
      "EarlyStopping counter: 9 out of 15\n",
      "Epoch 79/399\n",
      "----------\n",
      "tensor(6042., dtype=torch.float64) 7144\n",
      "train Loss: 0.3622 Acc: 0.8457\n",
      "tensor(1465., dtype=torch.float64) 1785\n",
      "val Loss: 0.3845 Acc: 0.8207\n",
      "Epoch complete in 0.3s\n",
      "\n",
      "EarlyStopping counter: 10 out of 15\n",
      "Epoch 80/399\n",
      "----------\n",
      "tensor(6052., dtype=torch.float64) 7144\n",
      "train Loss: 0.3603 Acc: 0.8471\n",
      "tensor(1466., dtype=torch.float64) 1785\n",
      "val Loss: 0.3844 Acc: 0.8213\n",
      "Epoch complete in 0.4s\n",
      "\n",
      "EarlyStopping counter: 11 out of 15\n",
      "Epoch 81/399\n",
      "----------\n",
      "tensor(6011., dtype=torch.float64) 7144\n",
      "train Loss: 0.3634 Acc: 0.8414\n",
      "tensor(1465., dtype=torch.float64) 1785\n",
      "val Loss: 0.3843 Acc: 0.8207\n",
      "Epoch complete in 0.3s\n",
      "\n",
      "EarlyStopping counter: 12 out of 15\n",
      "Epoch 82/399\n",
      "----------\n",
      "tensor(6050., dtype=torch.float64) 7144\n",
      "train Loss: 0.3607 Acc: 0.8469\n",
      "tensor(1463., dtype=torch.float64) 1785\n",
      "val Loss: 0.3843 Acc: 0.8196\n",
      "Epoch complete in 0.3s\n",
      "\n",
      "EarlyStopping counter: 13 out of 15\n",
      "Epoch 83/399\n",
      "----------\n",
      "tensor(6034., dtype=torch.float64) 7144\n",
      "train Loss: 0.3607 Acc: 0.8446\n",
      "tensor(1463., dtype=torch.float64) 1785\n",
      "val Loss: 0.3843 Acc: 0.8196\n",
      "Epoch complete in 0.3s\n",
      "\n",
      "EarlyStopping counter: 14 out of 15\n",
      "Epoch 84/399\n",
      "----------\n",
      "tensor(6010., dtype=torch.float64) 7144\n",
      "train Loss: 0.3647 Acc: 0.8413\n",
      "tensor(1463., dtype=torch.float64) 1785\n",
      "val Loss: 0.3843 Acc: 0.8196\n",
      "Epoch complete in 0.3s\n",
      "\n",
      "EarlyStopping counter: 15 out of 15\n",
      "Early stopping\n",
      "Training complete in 0m 34s\n",
      "Best val Acc: 0.829700\n"
     ]
    }
   ],
   "source": [
    "model = Net2()\n",
    "\n",
    "###  Define loss function and optimizer ### \n",
    "criterion = nn.CrossEntropyLoss()\n",
    "optimizer = optim.Adam(model.parameters(), lr=LR)\n",
    "lr_sched = torch.optim.lr_scheduler.ReduceLROnPlateau(optimizer, factor=0.5, patience=3, threshold=1e-4) if SCHEDULER else None\n",
    "\n",
    "# Define dictionary for training info\n",
    "history_training = {'train_loss': [],\n",
    "                    'val_loss': [],\n",
    "                    'train_acc': [],\n",
    "                    'val_acc': []}\n",
    "\n",
    "\n",
    "### Training ###\n",
    "model, history_training = train_model(model=model, hist=history_training, criterion=criterion, \n",
    "                                      optimizer=optimizer, dataloaders=dataloaders, dataset_sizes=dataset_sizes, \n",
    "                                      scheduler=lr_sched, num_epochs=EPOCHS, estop=EARLYSTOP, patience_es=15,device=DEVICE)"
   ]
  },
  {
   "cell_type": "code",
   "execution_count": 127,
   "metadata": {},
   "outputs": [
    {
     "name": "stdout",
     "output_type": "stream",
     "text": [
      "\n",
      "\n",
      "**TESTING**\n",
      "\n",
      "\n",
      "Test stats -  Loss: 0.3976 Acc: 82.67%\n",
      "Inference on Testset complete in 0.7s\n",
      "\n"
     ]
    }
   ],
   "source": [
    "### Testing ###\n",
    "history_training = test_model(model=model, hist=history_training, criterion=criterion, \n",
    "                              dataloaders=dataloaders, dataset_sizes=dataset_sizes, device=DEVICE)"
   ]
  },
  {
   "cell_type": "code",
   "execution_count": 128,
   "metadata": {},
   "outputs": [
    {
     "name": "stdout",
     "output_type": "stream",
     "text": [
      "Training graph saved at figures/bank/Neural Networks_losses&acc__testAcc=0.8267.png\n"
     ]
    },
    {
     "data": {
      "image/png": "[encoded data removed]",
      "text/plain": [
       "<Figure size 1080x360 with 2 Axes>"
      ]
     },
     "metadata": {
      "needs_background": "light"
     },
     "output_type": "display_data"
    }
   ],
   "source": [
    "### Plotting the losses ###\n",
    "plot_training(hist=history_training, graphs_path=GRAPHS_PATH, \n",
    "              model_type=MODEL_TYPE, do_save=SAVING)"
   ]
  },
  {
   "cell_type": "code",
   "execution_count": 129,
   "metadata": {},
   "outputs": [
    {
     "name": "stdout",
     "output_type": "stream",
     "text": [
      "Confusion Matrix saved at figures/bank/Neural Networks_CM__testAcc=0.8267.png\n"
     ]
    },
    {
     "data": {
      "image/png": "[encoded data removed]",
      "text/plain": [
       "<Figure size 720x504 with 2 Axes>"
      ]
     },
     "metadata": {
      "needs_background": "light"
     },
     "output_type": "display_data"
    }
   ],
   "source": [
    "### Plotting the CM ###\n",
    "plot_cm(hist=history_training, graphs_path=GRAPHS_PATH, \n",
    "              model_type=MODEL_TYPE, do_save=SAVING)"
   ]
  },
  {
   "cell_type": "code",
   "execution_count": null,
   "metadata": {},
   "outputs": [],
   "source": []
  },
  {
   "cell_type": "code",
   "execution_count": null,
   "metadata": {},
   "outputs": [],
   "source": []
  },
  {
   "cell_type": "markdown",
   "metadata": {},
   "source": [
    "# ROC results\n",
    "\n",
    "https://scikit-learn.org/stable/auto_examples/model_selection/plot_roc.html#receiver-operating-characteristic-roc\n",
    "\n",
    "Implement Macro F1"
   ]
  },
  {
   "cell_type": "code",
   "execution_count": 63,
   "metadata": {},
   "outputs": [],
   "source": [
    "nb_classes = len(set(train_csv['deposit']))\n",
    "\n",
    "def plot_ROC(y_test, y_pred_proba, model_name=\"model_name\"):\n",
    "    print(f\"==============\\n{model_name}\\n==============\\n\")\n",
    "\n",
    "    # Adapt array for sklearn's ros function\n",
    "    y_score = np.where(y_pred_proba[:,1] > 0.5, 1, 0)\n",
    "\n",
    "    # ROC values\n",
    "    fp_rate, tp_rate, thresholds = roc_curve(y_test, y_score)\n",
    "    roc_auc = auc(fp_rate, tp_rate)\n",
    "\n",
    "    y_pred = np.array([np.argmax(x) for x in y_pred_proba])\n",
    "    print(f\"Overall accuracy: {round(accuracy_score(y_test, y_pred)*100,2)}%\\n\")\n",
    "\n",
    "    plt.plot(fp_rate, tp_rate, color='darkorange',\n",
    "             lw=2, label='ROC curve (area = %0.2f)' % roc_auc)\n",
    "    plt.plot([0, 1], [0, 1], linestyle='--')\n",
    "    plt.xlim([0.0, 1.0])\n",
    "    plt.ylim([0.0, 1.05])\n",
    "    plt.ylabel('True Positive Rate')\n",
    "    plt.xlabel('False Positive Rate')\n",
    "    plt.title(f'Receiver operating characteristic for {model_name}')\n",
    "    plt.legend(loc = 'lower right')\n",
    "    plt.savefig(FIG_PATH+f'{model_name}.pdf')\n",
    "\n",
    "    plt.show()"
   ]
  },
  {
   "cell_type": "code",
   "execution_count": 64,
   "metadata": {},
   "outputs": [
    {
     "name": "stdout",
     "output_type": "stream",
     "text": [
      "==============\n",
      "decision_trees\n",
      "==============\n",
      "\n",
      "Overall accuracy: 79.89%\n",
      "\n"
     ]
    },
    {
     "data": {
      "image/png": "[encoded data removed]",
      "text/plain": [
       "<Figure size 432x288 with 1 Axes>"
      ]
     },
     "metadata": {
      "needs_background": "light"
     },
     "output_type": "display_data"
    }
   ],
   "source": [
    "plot_ROC(y_test, y_pred_proba_trees, model_name=\"decision_trees\")"
   ]
  },
  {
   "cell_type": "code",
   "execution_count": 65,
   "metadata": {},
   "outputs": [
    {
     "name": "stdout",
     "output_type": "stream",
     "text": [
      "==============\n",
      "adaboost\n",
      "==============\n",
      "\n",
      "Overall accuracy: 80.92%\n",
      "\n"
     ]
    },
    {
     "data": {
      "image/png": "[encoded data removed]",
      "text/plain": [
       "<Figure size 432x288 with 1 Axes>"
      ]
     },
     "metadata": {
      "needs_background": "light"
     },
     "output_type": "display_data"
    }
   ],
   "source": [
    "plot_ROC(y_test, y_pred_proba_boost, model_name=\"adaboost\")"
   ]
  },
  {
   "cell_type": "code",
   "execution_count": null,
   "metadata": {},
   "outputs": [],
   "source": []
  },
  {
   "cell_type": "code",
   "execution_count": null,
   "metadata": {},
   "outputs": [],
   "source": []
  },
  {
   "cell_type": "code",
   "execution_count": null,
   "metadata": {},
   "outputs": [],
   "source": []
  }
 ],
 "metadata": {
  "kernelspec": {
   "display_name": "Python 3",
   "language": "python",
   "name": "python3"
  },
  "language_info": {
   "codemirror_mode": {
    "name": "ipython",
    "version": 3
   },
   "file_extension": ".py",
   "mimetype": "text/x-python",
   "name": "python",
   "nbconvert_exporter": "python",
   "pygments_lexer": "ipython3",
   "version": "3.7.9"
  }
 },
 "nbformat": 4,
 "nbformat_minor": 4
}
