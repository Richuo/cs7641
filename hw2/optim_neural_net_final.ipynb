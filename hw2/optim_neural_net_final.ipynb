{
 "cells": [
  {
   "cell_type": "markdown",
   "metadata": {},
   "source": [
    "# Randomized Optimization (Neural Network's weights Optimization)\n",
    "\n",
    "Author: Richard Huang\n",
    "\n",
    "Fall 2020"
   ]
  },
  {
   "cell_type": "code",
   "execution_count": 1,
   "metadata": {},
   "outputs": [],
   "source": [
    "import time\n",
    "import numpy as np \n",
    "import pandas as pd\n",
    "\n",
    "from numpy.random import seed\n",
    "\n",
    "import matplotlib.pyplot as plt\n",
    "\n",
    "from sklearn.model_selection import train_test_split\n",
    "from sklearn.model_selection import StratifiedKFold\n",
    "from sklearn.preprocessing import LabelEncoder\n",
    "from sklearn.preprocessing import StandardScaler\n",
    "from sklearn.metrics import accuracy_score\n",
    "from sklearn.metrics import mean_squared_error\n",
    "from sklearn.metrics import classification_report\n",
    "from sklearn.metrics import confusion_matrix\n",
    "from sklearn.metrics import log_loss\n",
    "\n",
    "import mlrose_hiive2"
   ]
  },
  {
   "cell_type": "code",
   "execution_count": 2,
   "metadata": {},
   "outputs": [],
   "source": [
    "INPUT_DATA = 'bank_marketing_data/'\n",
    "TRAIN_CSV = 'bank.csv'\n",
    "\n",
    "GRAPHS_PATH = \"graphs/\"\n",
    "\n",
    "RANDOM_STATE = 17"
   ]
  },
  {
   "cell_type": "code",
   "execution_count": 3,
   "metadata": {},
   "outputs": [],
   "source": [
    "# Hyper-parameters\n",
    "HIDDEN_NODES = [32, 16]\n",
    "NB_ITERATIONS = 4000"
   ]
  },
  {
   "cell_type": "markdown",
   "metadata": {},
   "source": [
    "# Data Pre-processing"
   ]
  },
  {
   "cell_type": "code",
   "execution_count": 4,
   "metadata": {},
   "outputs": [
    {
     "name": "stdout",
     "output_type": "stream",
     "text": [
      "(11162, 17)\n"
     ]
    },
    {
     "data": {
      "text/html": [
       "<div>\n",
       "<style scoped>\n",
       "    .dataframe tbody tr th:only-of-type {\n",
       "        vertical-align: middle;\n",
       "    }\n",
       "\n",
       "    .dataframe tbody tr th {\n",
       "        vertical-align: top;\n",
       "    }\n",
       "\n",
       "    .dataframe thead th {\n",
       "        text-align: right;\n",
       "    }\n",
       "</style>\n",
       "<table border=\"1\" class=\"dataframe\">\n",
       "  <thead>\n",
       "    <tr style=\"text-align: right;\">\n",
       "      <th></th>\n",
       "      <th>age</th>\n",
       "      <th>job</th>\n",
       "      <th>marital</th>\n",
       "      <th>education</th>\n",
       "      <th>default</th>\n",
       "      <th>balance</th>\n",
       "      <th>housing</th>\n",
       "      <th>loan</th>\n",
       "      <th>contact</th>\n",
       "      <th>day</th>\n",
       "      <th>month</th>\n",
       "      <th>duration</th>\n",
       "      <th>campaign</th>\n",
       "      <th>pdays</th>\n",
       "      <th>previous</th>\n",
       "      <th>poutcome</th>\n",
       "      <th>deposit</th>\n",
       "    </tr>\n",
       "  </thead>\n",
       "  <tbody>\n",
       "    <tr>\n",
       "      <th>0</th>\n",
       "      <td>59</td>\n",
       "      <td>admin.</td>\n",
       "      <td>married</td>\n",
       "      <td>secondary</td>\n",
       "      <td>no</td>\n",
       "      <td>2343</td>\n",
       "      <td>yes</td>\n",
       "      <td>no</td>\n",
       "      <td>unknown</td>\n",
       "      <td>5</td>\n",
       "      <td>may</td>\n",
       "      <td>1042</td>\n",
       "      <td>1</td>\n",
       "      <td>-1</td>\n",
       "      <td>0</td>\n",
       "      <td>unknown</td>\n",
       "      <td>yes</td>\n",
       "    </tr>\n",
       "    <tr>\n",
       "      <th>1</th>\n",
       "      <td>56</td>\n",
       "      <td>admin.</td>\n",
       "      <td>married</td>\n",
       "      <td>secondary</td>\n",
       "      <td>no</td>\n",
       "      <td>45</td>\n",
       "      <td>no</td>\n",
       "      <td>no</td>\n",
       "      <td>unknown</td>\n",
       "      <td>5</td>\n",
       "      <td>may</td>\n",
       "      <td>1467</td>\n",
       "      <td>1</td>\n",
       "      <td>-1</td>\n",
       "      <td>0</td>\n",
       "      <td>unknown</td>\n",
       "      <td>yes</td>\n",
       "    </tr>\n",
       "    <tr>\n",
       "      <th>2</th>\n",
       "      <td>41</td>\n",
       "      <td>technician</td>\n",
       "      <td>married</td>\n",
       "      <td>secondary</td>\n",
       "      <td>no</td>\n",
       "      <td>1270</td>\n",
       "      <td>yes</td>\n",
       "      <td>no</td>\n",
       "      <td>unknown</td>\n",
       "      <td>5</td>\n",
       "      <td>may</td>\n",
       "      <td>1389</td>\n",
       "      <td>1</td>\n",
       "      <td>-1</td>\n",
       "      <td>0</td>\n",
       "      <td>unknown</td>\n",
       "      <td>yes</td>\n",
       "    </tr>\n",
       "    <tr>\n",
       "      <th>3</th>\n",
       "      <td>55</td>\n",
       "      <td>services</td>\n",
       "      <td>married</td>\n",
       "      <td>secondary</td>\n",
       "      <td>no</td>\n",
       "      <td>2476</td>\n",
       "      <td>yes</td>\n",
       "      <td>no</td>\n",
       "      <td>unknown</td>\n",
       "      <td>5</td>\n",
       "      <td>may</td>\n",
       "      <td>579</td>\n",
       "      <td>1</td>\n",
       "      <td>-1</td>\n",
       "      <td>0</td>\n",
       "      <td>unknown</td>\n",
       "      <td>yes</td>\n",
       "    </tr>\n",
       "    <tr>\n",
       "      <th>4</th>\n",
       "      <td>54</td>\n",
       "      <td>admin.</td>\n",
       "      <td>married</td>\n",
       "      <td>tertiary</td>\n",
       "      <td>no</td>\n",
       "      <td>184</td>\n",
       "      <td>no</td>\n",
       "      <td>no</td>\n",
       "      <td>unknown</td>\n",
       "      <td>5</td>\n",
       "      <td>may</td>\n",
       "      <td>673</td>\n",
       "      <td>2</td>\n",
       "      <td>-1</td>\n",
       "      <td>0</td>\n",
       "      <td>unknown</td>\n",
       "      <td>yes</td>\n",
       "    </tr>\n",
       "  </tbody>\n",
       "</table>\n",
       "</div>"
      ],
      "text/plain": [
       "   age         job  marital  education default  balance housing loan  contact  \\\n",
       "0   59      admin.  married  secondary      no     2343     yes   no  unknown   \n",
       "1   56      admin.  married  secondary      no       45      no   no  unknown   \n",
       "2   41  technician  married  secondary      no     1270     yes   no  unknown   \n",
       "3   55    services  married  secondary      no     2476     yes   no  unknown   \n",
       "4   54      admin.  married   tertiary      no      184      no   no  unknown   \n",
       "\n",
       "   day month  duration  campaign  pdays  previous poutcome deposit  \n",
       "0    5   may      1042         1     -1         0  unknown     yes  \n",
       "1    5   may      1467         1     -1         0  unknown     yes  \n",
       "2    5   may      1389         1     -1         0  unknown     yes  \n",
       "3    5   may       579         1     -1         0  unknown     yes  \n",
       "4    5   may       673         2     -1         0  unknown     yes  "
      ]
     },
     "execution_count": 4,
     "metadata": {},
     "output_type": "execute_result"
    }
   ],
   "source": [
    "train_csv = pd.read_csv(INPUT_DATA+TRAIN_CSV)\n",
    "print(train_csv.shape)\n",
    "train_csv.head()"
   ]
  },
  {
   "cell_type": "code",
   "execution_count": 5,
   "metadata": {},
   "outputs": [
    {
     "name": "stdout",
     "output_type": "stream",
     "text": [
      "16\n"
     ]
    }
   ],
   "source": [
    "features = [col for col in train_csv.columns if col not in ['deposit']]\n",
    "print(len(features))"
   ]
  },
  {
   "cell_type": "code",
   "execution_count": 6,
   "metadata": {},
   "outputs": [
    {
     "name": "stdout",
     "output_type": "stream",
     "text": [
      "11162\n"
     ]
    }
   ],
   "source": [
    "train_csv['deposit'] = train_csv['deposit'].replace({'no': 0, 'yes':1}).astype(int)\n",
    "target_values = train_csv['deposit'].values\n",
    "print(len(target_values))"
   ]
  },
  {
   "cell_type": "markdown",
   "metadata": {},
   "source": [
    "## Label encoding"
   ]
  },
  {
   "cell_type": "code",
   "execution_count": 7,
   "metadata": {},
   "outputs": [
    {
     "name": "stdout",
     "output_type": "stream",
     "text": [
      "(11162, 9)\n"
     ]
    },
    {
     "data": {
      "text/html": [
       "<div>\n",
       "<style scoped>\n",
       "    .dataframe tbody tr th:only-of-type {\n",
       "        vertical-align: middle;\n",
       "    }\n",
       "\n",
       "    .dataframe tbody tr th {\n",
       "        vertical-align: top;\n",
       "    }\n",
       "\n",
       "    .dataframe thead th {\n",
       "        text-align: right;\n",
       "    }\n",
       "</style>\n",
       "<table border=\"1\" class=\"dataframe\">\n",
       "  <thead>\n",
       "    <tr style=\"text-align: right;\">\n",
       "      <th></th>\n",
       "      <th>contact</th>\n",
       "      <th>job</th>\n",
       "      <th>poutcome</th>\n",
       "      <th>loan</th>\n",
       "      <th>marital</th>\n",
       "      <th>default</th>\n",
       "      <th>housing</th>\n",
       "      <th>education</th>\n",
       "      <th>month</th>\n",
       "    </tr>\n",
       "  </thead>\n",
       "  <tbody>\n",
       "    <tr>\n",
       "      <th>0</th>\n",
       "      <td>unknown</td>\n",
       "      <td>admin.</td>\n",
       "      <td>unknown</td>\n",
       "      <td>no</td>\n",
       "      <td>married</td>\n",
       "      <td>no</td>\n",
       "      <td>yes</td>\n",
       "      <td>secondary</td>\n",
       "      <td>may</td>\n",
       "    </tr>\n",
       "    <tr>\n",
       "      <th>1</th>\n",
       "      <td>unknown</td>\n",
       "      <td>admin.</td>\n",
       "      <td>unknown</td>\n",
       "      <td>no</td>\n",
       "      <td>married</td>\n",
       "      <td>no</td>\n",
       "      <td>no</td>\n",
       "      <td>secondary</td>\n",
       "      <td>may</td>\n",
       "    </tr>\n",
       "    <tr>\n",
       "      <th>2</th>\n",
       "      <td>unknown</td>\n",
       "      <td>technician</td>\n",
       "      <td>unknown</td>\n",
       "      <td>no</td>\n",
       "      <td>married</td>\n",
       "      <td>no</td>\n",
       "      <td>yes</td>\n",
       "      <td>secondary</td>\n",
       "      <td>may</td>\n",
       "    </tr>\n",
       "    <tr>\n",
       "      <th>3</th>\n",
       "      <td>unknown</td>\n",
       "      <td>services</td>\n",
       "      <td>unknown</td>\n",
       "      <td>no</td>\n",
       "      <td>married</td>\n",
       "      <td>no</td>\n",
       "      <td>yes</td>\n",
       "      <td>secondary</td>\n",
       "      <td>may</td>\n",
       "    </tr>\n",
       "    <tr>\n",
       "      <th>4</th>\n",
       "      <td>unknown</td>\n",
       "      <td>admin.</td>\n",
       "      <td>unknown</td>\n",
       "      <td>no</td>\n",
       "      <td>married</td>\n",
       "      <td>no</td>\n",
       "      <td>no</td>\n",
       "      <td>tertiary</td>\n",
       "      <td>may</td>\n",
       "    </tr>\n",
       "  </tbody>\n",
       "</table>\n",
       "</div>"
      ],
      "text/plain": [
       "   contact         job poutcome loan  marital default housing  education month\n",
       "0  unknown      admin.  unknown   no  married      no     yes  secondary   may\n",
       "1  unknown      admin.  unknown   no  married      no      no  secondary   may\n",
       "2  unknown  technician  unknown   no  married      no     yes  secondary   may\n",
       "3  unknown    services  unknown   no  married      no     yes  secondary   may\n",
       "4  unknown      admin.  unknown   no  married      no      no   tertiary   may"
      ]
     },
     "execution_count": 7,
     "metadata": {},
     "output_type": "execute_result"
    }
   ],
   "source": [
    "non_numerical_features = list(set(features) - set(train_csv._get_numeric_data().columns))\n",
    "non_num_csv = train_csv[non_numerical_features]\n",
    "print(non_num_csv.shape)\n",
    "non_num_csv.head()"
   ]
  },
  {
   "cell_type": "code",
   "execution_count": 8,
   "metadata": {},
   "outputs": [
    {
     "name": "stdout",
     "output_type": "stream",
     "text": [
      "{'telephone', 'cellular', 'unknown'}\n",
      "{'retired', 'housemaid', 'student', 'blue-collar', 'technician', 'unemployed', 'self-employed', 'entrepreneur', 'management', 'services', 'unknown', 'admin.'}\n",
      "{'failure', 'unknown', 'success', 'other'}\n",
      "{'yes', 'no'}\n",
      "{'single', 'married', 'divorced'}\n",
      "{'yes', 'no'}\n",
      "{'yes', 'no'}\n",
      "{'secondary', 'tertiary', 'unknown', 'primary'}\n",
      "{'aug', 'oct', 'sep', 'may', 'jul', 'dec', 'jun', 'apr', 'nov', 'feb', 'jan', 'mar'}\n"
     ]
    }
   ],
   "source": [
    "for col in non_numerical_features:\n",
    "    print(set(non_num_csv[col]))"
   ]
  },
  {
   "cell_type": "markdown",
   "metadata": {},
   "source": [
    "For the columns 'default', 'housing' and 'loan', since we have some yes and no values, we have to attribute no to 0 and yes to 1.\n",
    "For the others, we can encode the labels as usual."
   ]
  },
  {
   "cell_type": "code",
   "execution_count": 9,
   "metadata": {},
   "outputs": [
    {
     "data": {
      "text/html": [
       "<div>\n",
       "<style scoped>\n",
       "    .dataframe tbody tr th:only-of-type {\n",
       "        vertical-align: middle;\n",
       "    }\n",
       "\n",
       "    .dataframe tbody tr th {\n",
       "        vertical-align: top;\n",
       "    }\n",
       "\n",
       "    .dataframe thead th {\n",
       "        text-align: right;\n",
       "    }\n",
       "</style>\n",
       "<table border=\"1\" class=\"dataframe\">\n",
       "  <thead>\n",
       "    <tr style=\"text-align: right;\">\n",
       "      <th></th>\n",
       "      <th>contact</th>\n",
       "      <th>job</th>\n",
       "      <th>poutcome</th>\n",
       "      <th>loan</th>\n",
       "      <th>marital</th>\n",
       "      <th>default</th>\n",
       "      <th>housing</th>\n",
       "      <th>education</th>\n",
       "      <th>month</th>\n",
       "    </tr>\n",
       "  </thead>\n",
       "  <tbody>\n",
       "    <tr>\n",
       "      <th>0</th>\n",
       "      <td>unknown</td>\n",
       "      <td>admin.</td>\n",
       "      <td>unknown</td>\n",
       "      <td>0</td>\n",
       "      <td>married</td>\n",
       "      <td>0</td>\n",
       "      <td>1</td>\n",
       "      <td>secondary</td>\n",
       "      <td>may</td>\n",
       "    </tr>\n",
       "    <tr>\n",
       "      <th>1</th>\n",
       "      <td>unknown</td>\n",
       "      <td>admin.</td>\n",
       "      <td>unknown</td>\n",
       "      <td>0</td>\n",
       "      <td>married</td>\n",
       "      <td>0</td>\n",
       "      <td>0</td>\n",
       "      <td>secondary</td>\n",
       "      <td>may</td>\n",
       "    </tr>\n",
       "    <tr>\n",
       "      <th>2</th>\n",
       "      <td>unknown</td>\n",
       "      <td>technician</td>\n",
       "      <td>unknown</td>\n",
       "      <td>0</td>\n",
       "      <td>married</td>\n",
       "      <td>0</td>\n",
       "      <td>1</td>\n",
       "      <td>secondary</td>\n",
       "      <td>may</td>\n",
       "    </tr>\n",
       "    <tr>\n",
       "      <th>3</th>\n",
       "      <td>unknown</td>\n",
       "      <td>services</td>\n",
       "      <td>unknown</td>\n",
       "      <td>0</td>\n",
       "      <td>married</td>\n",
       "      <td>0</td>\n",
       "      <td>1</td>\n",
       "      <td>secondary</td>\n",
       "      <td>may</td>\n",
       "    </tr>\n",
       "    <tr>\n",
       "      <th>4</th>\n",
       "      <td>unknown</td>\n",
       "      <td>admin.</td>\n",
       "      <td>unknown</td>\n",
       "      <td>0</td>\n",
       "      <td>married</td>\n",
       "      <td>0</td>\n",
       "      <td>0</td>\n",
       "      <td>tertiary</td>\n",
       "      <td>may</td>\n",
       "    </tr>\n",
       "  </tbody>\n",
       "</table>\n",
       "</div>"
      ],
      "text/plain": [
       "   contact         job poutcome  loan  marital  default  housing  education  \\\n",
       "0  unknown      admin.  unknown     0  married        0        1  secondary   \n",
       "1  unknown      admin.  unknown     0  married        0        0  secondary   \n",
       "2  unknown  technician  unknown     0  married        0        1  secondary   \n",
       "3  unknown    services  unknown     0  married        0        1  secondary   \n",
       "4  unknown      admin.  unknown     0  married        0        0   tertiary   \n",
       "\n",
       "  month  \n",
       "0   may  \n",
       "1   may  \n",
       "2   may  \n",
       "3   may  \n",
       "4   may  "
      ]
     },
     "execution_count": 9,
     "metadata": {},
     "output_type": "execute_result"
    }
   ],
   "source": [
    "yes_no_columns = ['default', 'housing', 'loan']\n",
    "yes_no_features = [x for x in non_numerical_features if x in yes_no_columns]\n",
    "train_csv[yes_no_features] = train_csv[yes_no_features].replace({'no': 0, 'yes':1}).astype(int)\n",
    "train_csv[non_numerical_features].head()"
   ]
  },
  {
   "cell_type": "code",
   "execution_count": 10,
   "metadata": {},
   "outputs": [
    {
     "data": {
      "text/html": [
       "<div>\n",
       "<style scoped>\n",
       "    .dataframe tbody tr th:only-of-type {\n",
       "        vertical-align: middle;\n",
       "    }\n",
       "\n",
       "    .dataframe tbody tr th {\n",
       "        vertical-align: top;\n",
       "    }\n",
       "\n",
       "    .dataframe thead th {\n",
       "        text-align: right;\n",
       "    }\n",
       "</style>\n",
       "<table border=\"1\" class=\"dataframe\">\n",
       "  <thead>\n",
       "    <tr style=\"text-align: right;\">\n",
       "      <th></th>\n",
       "      <th>contact</th>\n",
       "      <th>job</th>\n",
       "      <th>poutcome</th>\n",
       "      <th>loan</th>\n",
       "      <th>marital</th>\n",
       "      <th>default</th>\n",
       "      <th>housing</th>\n",
       "      <th>education</th>\n",
       "      <th>month</th>\n",
       "    </tr>\n",
       "  </thead>\n",
       "  <tbody>\n",
       "    <tr>\n",
       "      <th>0</th>\n",
       "      <td>2</td>\n",
       "      <td>0</td>\n",
       "      <td>3</td>\n",
       "      <td>0</td>\n",
       "      <td>1</td>\n",
       "      <td>0</td>\n",
       "      <td>1</td>\n",
       "      <td>1</td>\n",
       "      <td>8</td>\n",
       "    </tr>\n",
       "    <tr>\n",
       "      <th>1</th>\n",
       "      <td>2</td>\n",
       "      <td>0</td>\n",
       "      <td>3</td>\n",
       "      <td>0</td>\n",
       "      <td>1</td>\n",
       "      <td>0</td>\n",
       "      <td>0</td>\n",
       "      <td>1</td>\n",
       "      <td>8</td>\n",
       "    </tr>\n",
       "    <tr>\n",
       "      <th>2</th>\n",
       "      <td>2</td>\n",
       "      <td>9</td>\n",
       "      <td>3</td>\n",
       "      <td>0</td>\n",
       "      <td>1</td>\n",
       "      <td>0</td>\n",
       "      <td>1</td>\n",
       "      <td>1</td>\n",
       "      <td>8</td>\n",
       "    </tr>\n",
       "    <tr>\n",
       "      <th>3</th>\n",
       "      <td>2</td>\n",
       "      <td>7</td>\n",
       "      <td>3</td>\n",
       "      <td>0</td>\n",
       "      <td>1</td>\n",
       "      <td>0</td>\n",
       "      <td>1</td>\n",
       "      <td>1</td>\n",
       "      <td>8</td>\n",
       "    </tr>\n",
       "    <tr>\n",
       "      <th>4</th>\n",
       "      <td>2</td>\n",
       "      <td>0</td>\n",
       "      <td>3</td>\n",
       "      <td>0</td>\n",
       "      <td>1</td>\n",
       "      <td>0</td>\n",
       "      <td>0</td>\n",
       "      <td>2</td>\n",
       "      <td>8</td>\n",
       "    </tr>\n",
       "  </tbody>\n",
       "</table>\n",
       "</div>"
      ],
      "text/plain": [
       "   contact  job  poutcome  loan  marital  default  housing  education  month\n",
       "0        2    0         3     0        1        0        1          1      8\n",
       "1        2    0         3     0        1        0        0          1      8\n",
       "2        2    9         3     0        1        0        1          1      8\n",
       "3        2    7         3     0        1        0        1          1      8\n",
       "4        2    0         3     0        1        0        0          2      8"
      ]
     },
     "execution_count": 10,
     "metadata": {},
     "output_type": "execute_result"
    }
   ],
   "source": [
    "other_columns = [col for col in non_numerical_features if col not in yes_no_columns]\n",
    "for col in other_columns:\n",
    "    label_encod = LabelEncoder()\n",
    "    label_encod.fit(list(train_csv[col].values))\n",
    "    train_csv[col] = label_encod.transform(train_csv[col].astype(str))\n",
    "\n",
    "train_csv[non_numerical_features].head()"
   ]
  },
  {
   "cell_type": "markdown",
   "metadata": {},
   "source": [
    "### Check NaN values"
   ]
  },
  {
   "cell_type": "code",
   "execution_count": 11,
   "metadata": {},
   "outputs": [
    {
     "name": "stdout",
     "output_type": "stream",
     "text": [
      "0 rows have nan values.\n"
     ]
    },
    {
     "data": {
      "text/html": [
       "<div>\n",
       "<style scoped>\n",
       "    .dataframe tbody tr th:only-of-type {\n",
       "        vertical-align: middle;\n",
       "    }\n",
       "\n",
       "    .dataframe tbody tr th {\n",
       "        vertical-align: top;\n",
       "    }\n",
       "\n",
       "    .dataframe thead th {\n",
       "        text-align: right;\n",
       "    }\n",
       "</style>\n",
       "<table border=\"1\" class=\"dataframe\">\n",
       "  <thead>\n",
       "    <tr style=\"text-align: right;\">\n",
       "      <th></th>\n",
       "      <th>Count</th>\n",
       "    </tr>\n",
       "  </thead>\n",
       "  <tbody>\n",
       "    <tr>\n",
       "      <th>age</th>\n",
       "      <td>0.0</td>\n",
       "    </tr>\n",
       "    <tr>\n",
       "      <th>day</th>\n",
       "      <td>0.0</td>\n",
       "    </tr>\n",
       "    <tr>\n",
       "      <th>poutcome</th>\n",
       "      <td>0.0</td>\n",
       "    </tr>\n",
       "    <tr>\n",
       "      <th>previous</th>\n",
       "      <td>0.0</td>\n",
       "    </tr>\n",
       "    <tr>\n",
       "      <th>pdays</th>\n",
       "      <td>0.0</td>\n",
       "    </tr>\n",
       "    <tr>\n",
       "      <th>campaign</th>\n",
       "      <td>0.0</td>\n",
       "    </tr>\n",
       "    <tr>\n",
       "      <th>duration</th>\n",
       "      <td>0.0</td>\n",
       "    </tr>\n",
       "    <tr>\n",
       "      <th>month</th>\n",
       "      <td>0.0</td>\n",
       "    </tr>\n",
       "    <tr>\n",
       "      <th>contact</th>\n",
       "      <td>0.0</td>\n",
       "    </tr>\n",
       "    <tr>\n",
       "      <th>job</th>\n",
       "      <td>0.0</td>\n",
       "    </tr>\n",
       "  </tbody>\n",
       "</table>\n",
       "</div>"
      ],
      "text/plain": [
       "          Count\n",
       "age         0.0\n",
       "day         0.0\n",
       "poutcome    0.0\n",
       "previous    0.0\n",
       "pdays       0.0\n",
       "campaign    0.0\n",
       "duration    0.0\n",
       "month       0.0\n",
       "contact     0.0\n",
       "job         0.0"
      ]
     },
     "execution_count": 11,
     "metadata": {},
     "output_type": "execute_result"
    }
   ],
   "source": [
    "nan_array = train_csv.isnull().sum().values/train_csv.shape[0]*100\n",
    "df_nan = pd.DataFrame(nan_array, columns=['Count'], index=train_csv.columns)\n",
    "df_nan = df_nan.sort_values(by=['Count'], ascending=False)\n",
    "counter_nan = df_nan[df_nan['Count']>0].shape[0]\n",
    "\n",
    "print(f'{counter_nan} rows have nan values.')\n",
    "df_nan.head(10)"
   ]
  },
  {
   "cell_type": "markdown",
   "metadata": {},
   "source": [
    "## Scale and change dtype"
   ]
  },
  {
   "cell_type": "code",
   "execution_count": 12,
   "metadata": {},
   "outputs": [],
   "source": [
    "threshold_cate = 25\n",
    "\n",
    "col_continuous = []\n",
    "col_categorical = []\n",
    "\n",
    "for col in features:\n",
    "    new_col = sorted(list(set(train_csv[col])))\n",
    "    #print()\n",
    "    #print(col)\n",
    "    #print(new_col)\n",
    "    min_col = np.min(new_col)\n",
    "    max_col = np.max(new_col)\n",
    "\n",
    "    if max_col > threshold_cate or col in ['age']:\n",
    "        col_continuous.append(col)\n",
    "        continue\n",
    "\n",
    "    col_categorical.append(col)"
   ]
  },
  {
   "cell_type": "code",
   "execution_count": 13,
   "metadata": {},
   "outputs": [
    {
     "data": {
      "text/html": [
       "<div>\n",
       "<style scoped>\n",
       "    .dataframe tbody tr th:only-of-type {\n",
       "        vertical-align: middle;\n",
       "    }\n",
       "\n",
       "    .dataframe tbody tr th {\n",
       "        vertical-align: top;\n",
       "    }\n",
       "\n",
       "    .dataframe thead th {\n",
       "        text-align: right;\n",
       "    }\n",
       "</style>\n",
       "<table border=\"1\" class=\"dataframe\">\n",
       "  <thead>\n",
       "    <tr style=\"text-align: right;\">\n",
       "      <th></th>\n",
       "      <th>age</th>\n",
       "      <th>balance</th>\n",
       "      <th>day</th>\n",
       "      <th>duration</th>\n",
       "      <th>campaign</th>\n",
       "      <th>pdays</th>\n",
       "      <th>previous</th>\n",
       "    </tr>\n",
       "  </thead>\n",
       "  <tbody>\n",
       "    <tr>\n",
       "      <th>0</th>\n",
       "      <td>59</td>\n",
       "      <td>2343</td>\n",
       "      <td>5</td>\n",
       "      <td>1042</td>\n",
       "      <td>1</td>\n",
       "      <td>-1</td>\n",
       "      <td>0</td>\n",
       "    </tr>\n",
       "    <tr>\n",
       "      <th>1</th>\n",
       "      <td>56</td>\n",
       "      <td>45</td>\n",
       "      <td>5</td>\n",
       "      <td>1467</td>\n",
       "      <td>1</td>\n",
       "      <td>-1</td>\n",
       "      <td>0</td>\n",
       "    </tr>\n",
       "    <tr>\n",
       "      <th>2</th>\n",
       "      <td>41</td>\n",
       "      <td>1270</td>\n",
       "      <td>5</td>\n",
       "      <td>1389</td>\n",
       "      <td>1</td>\n",
       "      <td>-1</td>\n",
       "      <td>0</td>\n",
       "    </tr>\n",
       "    <tr>\n",
       "      <th>3</th>\n",
       "      <td>55</td>\n",
       "      <td>2476</td>\n",
       "      <td>5</td>\n",
       "      <td>579</td>\n",
       "      <td>1</td>\n",
       "      <td>-1</td>\n",
       "      <td>0</td>\n",
       "    </tr>\n",
       "    <tr>\n",
       "      <th>4</th>\n",
       "      <td>54</td>\n",
       "      <td>184</td>\n",
       "      <td>5</td>\n",
       "      <td>673</td>\n",
       "      <td>2</td>\n",
       "      <td>-1</td>\n",
       "      <td>0</td>\n",
       "    </tr>\n",
       "    <tr>\n",
       "      <th>...</th>\n",
       "      <td>...</td>\n",
       "      <td>...</td>\n",
       "      <td>...</td>\n",
       "      <td>...</td>\n",
       "      <td>...</td>\n",
       "      <td>...</td>\n",
       "      <td>...</td>\n",
       "    </tr>\n",
       "    <tr>\n",
       "      <th>11157</th>\n",
       "      <td>33</td>\n",
       "      <td>1</td>\n",
       "      <td>20</td>\n",
       "      <td>257</td>\n",
       "      <td>1</td>\n",
       "      <td>-1</td>\n",
       "      <td>0</td>\n",
       "    </tr>\n",
       "    <tr>\n",
       "      <th>11158</th>\n",
       "      <td>39</td>\n",
       "      <td>733</td>\n",
       "      <td>16</td>\n",
       "      <td>83</td>\n",
       "      <td>4</td>\n",
       "      <td>-1</td>\n",
       "      <td>0</td>\n",
       "    </tr>\n",
       "    <tr>\n",
       "      <th>11159</th>\n",
       "      <td>32</td>\n",
       "      <td>29</td>\n",
       "      <td>19</td>\n",
       "      <td>156</td>\n",
       "      <td>2</td>\n",
       "      <td>-1</td>\n",
       "      <td>0</td>\n",
       "    </tr>\n",
       "    <tr>\n",
       "      <th>11160</th>\n",
       "      <td>43</td>\n",
       "      <td>0</td>\n",
       "      <td>8</td>\n",
       "      <td>9</td>\n",
       "      <td>2</td>\n",
       "      <td>172</td>\n",
       "      <td>5</td>\n",
       "    </tr>\n",
       "    <tr>\n",
       "      <th>11161</th>\n",
       "      <td>34</td>\n",
       "      <td>0</td>\n",
       "      <td>9</td>\n",
       "      <td>628</td>\n",
       "      <td>1</td>\n",
       "      <td>-1</td>\n",
       "      <td>0</td>\n",
       "    </tr>\n",
       "  </tbody>\n",
       "</table>\n",
       "<p>11162 rows × 7 columns</p>\n",
       "</div>"
      ],
      "text/plain": [
       "       age  balance  day  duration  campaign  pdays  previous\n",
       "0       59     2343    5      1042         1     -1         0\n",
       "1       56       45    5      1467         1     -1         0\n",
       "2       41     1270    5      1389         1     -1         0\n",
       "3       55     2476    5       579         1     -1         0\n",
       "4       54      184    5       673         2     -1         0\n",
       "...    ...      ...  ...       ...       ...    ...       ...\n",
       "11157   33        1   20       257         1     -1         0\n",
       "11158   39      733   16        83         4     -1         0\n",
       "11159   32       29   19       156         2     -1         0\n",
       "11160   43        0    8         9         2    172         5\n",
       "11161   34        0    9       628         1     -1         0\n",
       "\n",
       "[11162 rows x 7 columns]"
      ]
     },
     "execution_count": 13,
     "metadata": {},
     "output_type": "execute_result"
    }
   ],
   "source": [
    "train_csv[col_continuous]"
   ]
  },
  {
   "cell_type": "code",
   "execution_count": 14,
   "metadata": {},
   "outputs": [],
   "source": [
    "scaler = StandardScaler()\n",
    "data2scale = train_csv[col_continuous]\n",
    "scaler.fit(data2scale)\n",
    "scaled_cols = scaler.transform(data2scale)\n",
    "train_csv[col_continuous] = scaled_cols"
   ]
  },
  {
   "cell_type": "code",
   "execution_count": 15,
   "metadata": {},
   "outputs": [],
   "source": [
    "# Put as int\n",
    "train_csv[col_categorical] = train_csv[col_categorical].astype('int')"
   ]
  },
  {
   "cell_type": "code",
   "execution_count": 16,
   "metadata": {},
   "outputs": [
    {
     "data": {
      "text/html": [
       "<div>\n",
       "<style scoped>\n",
       "    .dataframe tbody tr th:only-of-type {\n",
       "        vertical-align: middle;\n",
       "    }\n",
       "\n",
       "    .dataframe tbody tr th {\n",
       "        vertical-align: top;\n",
       "    }\n",
       "\n",
       "    .dataframe thead th {\n",
       "        text-align: right;\n",
       "    }\n",
       "</style>\n",
       "<table border=\"1\" class=\"dataframe\">\n",
       "  <thead>\n",
       "    <tr style=\"text-align: right;\">\n",
       "      <th></th>\n",
       "      <th>age</th>\n",
       "      <th>job</th>\n",
       "      <th>marital</th>\n",
       "      <th>education</th>\n",
       "      <th>default</th>\n",
       "      <th>balance</th>\n",
       "      <th>housing</th>\n",
       "      <th>loan</th>\n",
       "      <th>contact</th>\n",
       "      <th>day</th>\n",
       "      <th>month</th>\n",
       "      <th>duration</th>\n",
       "      <th>campaign</th>\n",
       "      <th>pdays</th>\n",
       "      <th>previous</th>\n",
       "      <th>poutcome</th>\n",
       "      <th>deposit</th>\n",
       "    </tr>\n",
       "  </thead>\n",
       "  <tbody>\n",
       "    <tr>\n",
       "      <th>0</th>\n",
       "      <td>1.491505</td>\n",
       "      <td>0</td>\n",
       "      <td>1</td>\n",
       "      <td>1</td>\n",
       "      <td>0</td>\n",
       "      <td>0.252525</td>\n",
       "      <td>1</td>\n",
       "      <td>0</td>\n",
       "      <td>2</td>\n",
       "      <td>-1.265746</td>\n",
       "      <td>8</td>\n",
       "      <td>1.930226</td>\n",
       "      <td>-0.554168</td>\n",
       "      <td>-0.481184</td>\n",
       "      <td>-0.36326</td>\n",
       "      <td>3</td>\n",
       "      <td>1</td>\n",
       "    </tr>\n",
       "    <tr>\n",
       "      <th>1</th>\n",
       "      <td>1.239676</td>\n",
       "      <td>0</td>\n",
       "      <td>1</td>\n",
       "      <td>1</td>\n",
       "      <td>0</td>\n",
       "      <td>-0.459974</td>\n",
       "      <td>0</td>\n",
       "      <td>0</td>\n",
       "      <td>2</td>\n",
       "      <td>-1.265746</td>\n",
       "      <td>8</td>\n",
       "      <td>3.154612</td>\n",
       "      <td>-0.554168</td>\n",
       "      <td>-0.481184</td>\n",
       "      <td>-0.36326</td>\n",
       "      <td>3</td>\n",
       "      <td>1</td>\n",
       "    </tr>\n",
       "    <tr>\n",
       "      <th>2</th>\n",
       "      <td>-0.019470</td>\n",
       "      <td>9</td>\n",
       "      <td>1</td>\n",
       "      <td>1</td>\n",
       "      <td>0</td>\n",
       "      <td>-0.080160</td>\n",
       "      <td>1</td>\n",
       "      <td>0</td>\n",
       "      <td>2</td>\n",
       "      <td>-1.265746</td>\n",
       "      <td>8</td>\n",
       "      <td>2.929901</td>\n",
       "      <td>-0.554168</td>\n",
       "      <td>-0.481184</td>\n",
       "      <td>-0.36326</td>\n",
       "      <td>3</td>\n",
       "      <td>1</td>\n",
       "    </tr>\n",
       "    <tr>\n",
       "      <th>3</th>\n",
       "      <td>1.155733</td>\n",
       "      <td>7</td>\n",
       "      <td>1</td>\n",
       "      <td>1</td>\n",
       "      <td>0</td>\n",
       "      <td>0.293762</td>\n",
       "      <td>1</td>\n",
       "      <td>0</td>\n",
       "      <td>2</td>\n",
       "      <td>-1.265746</td>\n",
       "      <td>8</td>\n",
       "      <td>0.596366</td>\n",
       "      <td>-0.554168</td>\n",
       "      <td>-0.481184</td>\n",
       "      <td>-0.36326</td>\n",
       "      <td>3</td>\n",
       "      <td>1</td>\n",
       "    </tr>\n",
       "    <tr>\n",
       "      <th>4</th>\n",
       "      <td>1.071790</td>\n",
       "      <td>0</td>\n",
       "      <td>1</td>\n",
       "      <td>2</td>\n",
       "      <td>0</td>\n",
       "      <td>-0.416876</td>\n",
       "      <td>0</td>\n",
       "      <td>0</td>\n",
       "      <td>2</td>\n",
       "      <td>-1.265746</td>\n",
       "      <td>8</td>\n",
       "      <td>0.867171</td>\n",
       "      <td>-0.186785</td>\n",
       "      <td>-0.481184</td>\n",
       "      <td>-0.36326</td>\n",
       "      <td>3</td>\n",
       "      <td>1</td>\n",
       "    </tr>\n",
       "  </tbody>\n",
       "</table>\n",
       "</div>"
      ],
      "text/plain": [
       "        age  job  marital  education  default   balance  housing  loan  \\\n",
       "0  1.491505    0        1          1        0  0.252525        1     0   \n",
       "1  1.239676    0        1          1        0 -0.459974        0     0   \n",
       "2 -0.019470    9        1          1        0 -0.080160        1     0   \n",
       "3  1.155733    7        1          1        0  0.293762        1     0   \n",
       "4  1.071790    0        1          2        0 -0.416876        0     0   \n",
       "\n",
       "   contact       day  month  duration  campaign     pdays  previous  poutcome  \\\n",
       "0        2 -1.265746      8  1.930226 -0.554168 -0.481184  -0.36326         3   \n",
       "1        2 -1.265746      8  3.154612 -0.554168 -0.481184  -0.36326         3   \n",
       "2        2 -1.265746      8  2.929901 -0.554168 -0.481184  -0.36326         3   \n",
       "3        2 -1.265746      8  0.596366 -0.554168 -0.481184  -0.36326         3   \n",
       "4        2 -1.265746      8  0.867171 -0.186785 -0.481184  -0.36326         3   \n",
       "\n",
       "   deposit  \n",
       "0        1  \n",
       "1        1  \n",
       "2        1  \n",
       "3        1  \n",
       "4        1  "
      ]
     },
     "execution_count": 16,
     "metadata": {},
     "output_type": "execute_result"
    }
   ],
   "source": [
    "train_csv.head()"
   ]
  },
  {
   "cell_type": "markdown",
   "metadata": {},
   "source": [
    "## Splitting the data\n",
    "\n",
    "TODO: \n",
    "- Implement Stratified KFold: https://scikit-learn.org/stable/modules/cross_validation.html#stratified-k-fold\n",
    "- Compare classical Stratified split with Stratified KFold split"
   ]
  },
  {
   "cell_type": "code",
   "execution_count": 17,
   "metadata": {},
   "outputs": [
    {
     "data": {
      "image/png": "[encoded data removed]",
      "text/plain": [
       "<Figure size 432x288 with 1 Axes>"
      ]
     },
     "metadata": {
      "needs_background": "light"
     },
     "output_type": "display_data"
    }
   ],
   "source": [
    "plt.title(\"Distribution of the classes\")\n",
    "plt.hist(train_csv[['deposit']].values)\n",
    "plt.show()"
   ]
  },
  {
   "cell_type": "code",
   "execution_count": 18,
   "metadata": {},
   "outputs": [
    {
     "name": "stdout",
     "output_type": "stream",
     "text": [
      "Train set shape: (7143, 17)\n",
      "Validation set shape: (1786, 17)\n",
      "Test set shape: (2233, 17)\n"
     ]
    }
   ],
   "source": [
    "training_df, test_df = train_test_split(train_csv, test_size=0.2, random_state=RANDOM_STATE, stratify=train_csv[['deposit']])\n",
    "train_df, val_df = train_test_split(training_df, test_size=0.2, random_state=RANDOM_STATE, stratify=training_df[['deposit']])\n",
    "\n",
    "print(\"Train set shape:\", train_df.shape)\n",
    "print(\"Validation set shape:\", val_df.shape)\n",
    "print(\"Test set shape:\", test_df.shape)"
   ]
  },
  {
   "cell_type": "code",
   "execution_count": 19,
   "metadata": {},
   "outputs": [],
   "source": [
    "x_training = np.array(training_df[features])\n",
    "y_training = np.array(training_df['deposit'])\n",
    "\n",
    "x_train = np.array(train_df[features])\n",
    "y_train = np.array(train_df['deposit'])\n",
    "\n",
    "x_val = np.array(val_df[features])\n",
    "y_val = np.array(val_df['deposit'])\n",
    "\n",
    "x_test = np.array(test_df[features])\n",
    "y_test = np.array(test_df['deposit'])"
   ]
  },
  {
   "cell_type": "markdown",
   "metadata": {},
   "source": [
    "<a id='6'></a>\n",
    "# Neural Network "
   ]
  },
  {
   "cell_type": "markdown",
   "metadata": {},
   "source": [
    "## Backpropagation"
   ]
  },
  {
   "cell_type": "code",
   "execution_count": 20,
   "metadata": {},
   "outputs": [],
   "source": [
    "import torch\n",
    "import torch.nn as nn\n",
    "from torch.nn import functional as F\n",
    "import torch.optim as optim\n",
    "from torch.optim import lr_scheduler"
   ]
  },
  {
   "cell_type": "markdown",
   "metadata": {},
   "source": [
    "### Dataloader for Pytorch"
   ]
  },
  {
   "cell_type": "code",
   "execution_count": 21,
   "metadata": {},
   "outputs": [],
   "source": [
    "class TrainDataset(torch.utils.data.Dataset):\n",
    "    def __init__(self, trn_X, trn_y):\n",
    "        self.trn_X = trn_X\n",
    "        self.trn_y = trn_y\n",
    "\n",
    "    def __len__(self):\n",
    "        return self.trn_X.shape[0]\n",
    "\n",
    "    def __getitem__(self, idx):\n",
    "        return self.trn_X[idx,:], self.trn_y[idx]\n",
    "    \n",
    "class ValidDataset(torch.utils.data.Dataset):\n",
    "    def __init__(self, val_X, val_y):\n",
    "        self.val_X = val_X\n",
    "        self.val_y = val_y\n",
    "        \n",
    "    def __len__(self):\n",
    "        return self.val_X.shape[0]\n",
    "        \n",
    "    def __getitem__(self, idx):\n",
    "        return self.val_X[idx,:], self.val_y[idx]\n",
    "\n",
    "class TestDataset(torch.utils.data.Dataset):\n",
    "    def __init__(self, test_X, test_y):\n",
    "        self.test_X = test_X\n",
    "        self.test_y = test_y\n",
    "        \n",
    "    def __len__(self):\n",
    "        return self.test_X.shape[0]\n",
    "\n",
    "    def __getitem__(self, idx):\n",
    "        return self.test_X[idx,:], self.test_y[idx]"
   ]
  },
  {
   "cell_type": "code",
   "execution_count": 22,
   "metadata": {},
   "outputs": [],
   "source": [
    "def create_dataloaders(x_train, y_train, x_val, y_val, x_test, y_test, device, batch_size):\n",
    "    trn_X, trn_y = torch.tensor(x_train.astype(np.float32)).to(device), torch.tensor(y_train).to(device).long()\n",
    "    val_X, val_y = torch.tensor(x_val.astype(np.float32)).to(device), torch.tensor(y_val).to(device).long()\n",
    "    test_X, test_y = torch.tensor(x_test.astype(np.float32)).to(device), torch.tensor(y_test).to(device).long()\n",
    "    train_set = TrainDataset(trn_X, trn_y)\n",
    "    val_set = ValidDataset(val_X, val_y)\n",
    "    test_set = TestDataset(test_X, test_y)\n",
    "    dataloaders_length = [len(train_set), len(val_set), len(test_set)]\n",
    "\n",
    "    trainloader = torch.utils.data.DataLoader(train_set, batch_size=batch_size)\n",
    "    validationloader = torch.utils.data.DataLoader(val_set, batch_size=batch_size)\n",
    "    testloader = torch.utils.data.DataLoader(test_set, batch_size=1)\n",
    "\n",
    "    dataloaders = {\"train\": trainloader,\n",
    "                   \"val\": validationloader,\n",
    "                   \"test\": testloader}\n",
    "\n",
    "    dataset_sizes = {\"train\": dataloaders_length[0],\n",
    "                     \"val\": dataloaders_length[1],\n",
    "                     \"test\": dataloaders_length[2]}\n",
    "\n",
    "    return (dataloaders, dataset_sizes)"
   ]
  },
  {
   "cell_type": "markdown",
   "metadata": {},
   "source": [
    "### Training functions for Pytorch"
   ]
  },
  {
   "cell_type": "code",
   "execution_count": 23,
   "metadata": {},
   "outputs": [],
   "source": [
    "from utils import EarlyStopping, plot_training, plot_cm\n",
    "from main_training import train_model, test_model"
   ]
  },
  {
   "cell_type": "code",
   "execution_count": 24,
   "metadata": {},
   "outputs": [],
   "source": [
    "DEVICE = 'cpu'\n",
    "MODEL_TYPE = \"Neural Networks\"\n",
    "SAVING = True\n",
    "\n",
    "BATCH_SIZE = 8\n",
    "EPOCHS = 1\n",
    "LR = 1e-3\n",
    "EARLYSTOP = False\n",
    "SCHEDULER = False"
   ]
  },
  {
   "cell_type": "code",
   "execution_count": 44,
   "metadata": {},
   "outputs": [
    {
     "name": "stdout",
     "output_type": "stream",
     "text": [
      "Net2(\n",
      "  (fc1): Linear(in_features=16, out_features=32, bias=True)\n",
      "  (fc2): Linear(in_features=32, out_features=16, bias=True)\n",
      "  (fc3): Linear(in_features=16, out_features=2, bias=True)\n",
      "  (dropout): Dropout(p=0, inplace=False)\n",
      ")\n"
     ]
    }
   ],
   "source": [
    "class Net2(nn.Module):\n",
    "    def __init__(self):\n",
    "        super(Net2, self).__init__()\n",
    "        self.fc1 = nn.Linear(len(features), 32)\n",
    "        self.fc2 = nn.Linear(32, 16)\n",
    "        self.fc3 = nn.Linear(16, 2)\n",
    "        self.dropout = nn.Dropout(0)\n",
    "\n",
    "    def forward(self, x):\n",
    "        x = F.relu(self.fc1(x))\n",
    "        x = self.dropout(x)\n",
    "        x = F.relu(self.fc2(x))\n",
    "        x = self.dropout(x)\n",
    "        x = self.fc3(x)\n",
    "        return x\n",
    "model = Net2()\n",
    "print(model)"
   ]
  },
  {
   "cell_type": "code",
   "execution_count": 45,
   "metadata": {},
   "outputs": [],
   "source": [
    "dataloaders, dataset_sizes = create_dataloaders(x_train, y_train, x_val, y_val, x_test, y_test, \n",
    "                                                device=DEVICE, batch_size=BATCH_SIZE)"
   ]
  },
  {
   "cell_type": "code",
   "execution_count": 46,
   "metadata": {},
   "outputs": [
    {
     "name": "stdout",
     "output_type": "stream",
     "text": [
      "Wall time: 8min 6s\n"
     ]
    }
   ],
   "source": [
    "%%time\n",
    "model = Net2()\n",
    "\n",
    "###  Define loss function and optimizer ### \n",
    "criterion = nn.CrossEntropyLoss()\n",
    "optimizer = optim.Adam(model.parameters(), lr=LR)\n",
    "\n",
    "# Define dictionary for training info\n",
    "history_training = {'train_loss': [],\n",
    "                    'val_loss': [],\n",
    "                    'train_acc': [],\n",
    "                    'val_acc': [], \n",
    "                    'train_ite': [], \n",
    "                    'test_ite': []}\n",
    "\n",
    "\n",
    "### Training ###\n",
    "model, history_training = train_model(model=model, hist=history_training, criterion=criterion, \n",
    "                                      optimizer=optimizer, dataloaders=dataloaders, dataset_sizes=dataset_sizes, \n",
    "                                      max_iterations=NB_ITERATIONS, patience_es=15,device=DEVICE)"
   ]
  },
  {
   "cell_type": "code",
   "execution_count": 47,
   "metadata": {},
   "outputs": [
    {
     "name": "stdout",
     "output_type": "stream",
     "text": [
      "\n",
      "\n",
      "**TESTING**\n",
      "\n",
      "\n",
      "Test stats -  Loss: 0.4550 Acc: 79.09%\n",
      "Inference on Testset complete in 0.7s\n",
      "\n"
     ]
    }
   ],
   "source": [
    "### Testing ###\n",
    "history_training = test_model(model=model, hist=history_training, criterion=criterion, \n",
    "                              dataloaders=dataloaders, dataset_sizes=dataset_sizes, device=DEVICE)"
   ]
  },
  {
   "cell_type": "code",
   "execution_count": 48,
   "metadata": {},
   "outputs": [],
   "source": [
    "train_loss_bp = [x[0] for x in history_training[\"train_ite\"]]\n",
    "train_acc_bp = [x[1] for x in history_training[\"train_ite\"]]\n",
    "\n",
    "test_loss_bp = [x[0] for x in history_training[\"test_ite\"]]\n",
    "test_acc_bp = [x[1] for x in history_training[\"test_ite\"]]\n",
    "\n",
    "times_bp = [x[2] for x in history_training[\"train_ite\"]]\n",
    "\n",
    "iterations_bp = np.arange(len(train_loss_bp))*BATCH_SIZE + BATCH_SIZE"
   ]
  },
  {
   "cell_type": "markdown",
   "metadata": {},
   "source": [
    "## RHC, SA, GA"
   ]
  },
  {
   "cell_type": "code",
   "execution_count": 61,
   "metadata": {},
   "outputs": [],
   "source": [
    "# Initialize neural network object and fit object\n",
    "\n",
    "# RHC\n",
    "nn_model_rhc = mlrose_hiive2.NeuralNetwork(hidden_nodes=HIDDEN_NODES, activation = 'relu',\n",
    "                                           algorithm = 'random_hill_climb', \n",
    "                                           max_iters = NB_ITERATIONS,\n",
    "                                           bias = True, is_classifier = True, learning_rate = 0.1,\n",
    "                                           early_stopping = True, clip_max = 1, max_attempts = NB_ITERATIONS,\n",
    "                                           random_state=RANDOM_STATE, curve = True)\n",
    "\n",
    "# SA\n",
    "nn_model_sa = mlrose_hiive2.NeuralNetwork(hidden_nodes=HIDDEN_NODES, activation = 'relu',\n",
    "                                          algorithm='simulated_annealing', schedule=mlrose_hiive2.ExpDecay(init_temp=1, exp_const=0.05, min_temp=0.001),\n",
    "                                          max_iters = NB_ITERATIONS,\n",
    "                                          bias = True, is_classifier = True, learning_rate = 0.1,\n",
    "                                          early_stopping = True, clip_max = 1, max_attempts = NB_ITERATIONS,\n",
    "                                          random_state=RANDOM_STATE, curve = True)\n",
    "\n",
    "# GA\n",
    "nn_model_ga = mlrose_hiive2.NeuralNetwork(hidden_nodes=HIDDEN_NODES, activation = 'relu',\n",
    "                                          algorithm = 'genetic_alg', pop_size = 20, mutation_prob = 0.1,\n",
    "                                          max_iters = NB_ITERATIONS,\n",
    "                                          bias = True, is_classifier = True, learning_rate = 0.1,\n",
    "                                          early_stopping = True, clip_max = 1, max_attempts = NB_ITERATIONS,\n",
    "                                          random_state=RANDOM_STATE, curve = True)"
   ]
  },
  {
   "cell_type": "code",
   "execution_count": 62,
   "metadata": {},
   "outputs": [
    {
     "name": "stdout",
     "output_type": "stream",
     "text": [
      "RHC running time: 161.49520134925842\n",
      "SA running time: 143.59382033348083\n",
      "Wall time: 5min 5s\n"
     ]
    }
   ],
   "source": [
    "%%time\n",
    "start_timer = time.time()\n",
    "nn_model_rhc.fit(x_train, y_train,\n",
    "                 x_test = x_test, \n",
    "                 y_test = y_test)\n",
    "current_timer = time.time()\n",
    "print(\"RHC running time:\", current_timer-start_timer)\n",
    "start_timer = current_timer\n",
    "nn_model_sa.fit(x_train,y_train,\n",
    "                x_test = x_test, \n",
    "                y_test = y_test)\n",
    "current_timer = time.time()\n",
    "print(\"SA running time:\", current_timer-start_timer)\n",
    "start_timer = current_timer\n",
    "\n",
    "state_rhc, train_stats_rhc, test_stats_rhc, times_rhc, iterations_rhc = nn_model_rhc.state, nn_model_rhc.train_stats, nn_model_rhc.test_stats, nn_model_rhc.times, nn_model_rhc.iterations\n",
    "state_sa, train_stats_sa, test_stats_sa, times_sa, iterations_sa = nn_model_sa.state, nn_model_sa.train_stats, nn_model_sa.test_stats, nn_model_sa.times, nn_model_sa.iterations"
   ]
  },
  {
   "cell_type": "code",
   "execution_count": 63,
   "metadata": {},
   "outputs": [],
   "source": [
    "train_loss_rhc = [x[0] for x in train_stats_rhc]\n",
    "train_loss_sa = [x[0] for x in train_stats_sa]\n",
    "train_acc_rhc = [x[1] for x in train_stats_rhc]\n",
    "train_acc_sa = [x[1] for x in train_stats_sa]\n",
    "\n",
    "test_loss_rhc = [x[0] for x in test_stats_rhc]\n",
    "test_loss_sa = [x[0] for x in test_stats_sa]\n",
    "test_acc_rhc = [x[1] for x in test_stats_rhc]\n",
    "test_acc_sa = [x[1] for x in test_stats_sa]"
   ]
  },
  {
   "cell_type": "code",
   "execution_count": 32,
   "metadata": {},
   "outputs": [
    {
     "name": "stdout",
     "output_type": "stream",
     "text": [
      "GA running time: 896.895131111145\n",
      "Wall time: 14min 56s\n"
     ]
    }
   ],
   "source": [
    "%%time\n",
    "start_timer = time.time()\n",
    "nn_model_ga.fit(x_train,y_train,\n",
    "                x_test = x_test, \n",
    "                y_test = y_test)\n",
    "state_ga, train_stats_ga, test_stats_ga, times_ga, iterations_ga = nn_model_ga.state, nn_model_ga.train_stats, nn_model_ga.test_stats, nn_model_ga.times, nn_model_ga.iterations\n",
    "current_timer = time.time()\n",
    "print(\"GA running time:\", current_timer-start_timer)\n",
    "start_timer = current_timer"
   ]
  },
  {
   "cell_type": "code",
   "execution_count": 39,
   "metadata": {},
   "outputs": [],
   "source": [
    "train_loss_ga = [x[0] for x in train_stats_ga]\n",
    "train_acc_ga = [x[1] for x in train_stats_ga]\n",
    "\n",
    "test_loss_ga = [x[0] for x in test_stats_ga]\n",
    "test_acc_ga = [x[1] for x in test_stats_ga]"
   ]
  },
  {
   "cell_type": "markdown",
   "metadata": {},
   "source": [
    "# Results"
   ]
  },
  {
   "cell_type": "code",
   "execution_count": 64,
   "metadata": {},
   "outputs": [
    {
     "data": {
      "image/png": "[encoded data removed]",
      "text/plain": [
       "<Figure size 1080x360 with 2 Axes>"
      ]
     },
     "metadata": {
      "needs_background": "light"
     },
     "output_type": "display_data"
    }
   ],
   "source": [
    "fig=plt.figure(figsize=(15,5))\n",
    "ax1=fig.add_subplot(1,2,1)\n",
    "plt.plot(iterations_rhc, train_loss_rhc, label = 'RHC')\n",
    "plt.plot(iterations_sa, train_loss_sa, label = 'SA')\n",
    "plt.plot(iterations_ga, train_loss_ga, label = 'GA')\n",
    "plt.plot(iterations_bp, train_loss_bp, label = 'BP')\n",
    "plt.legend()\n",
    "plt.xlabel(\"Iterations\")\n",
    "plt.ylabel(\"Loss\")\n",
    "plt.title(\"Training loss per iteration\")\n",
    "ax2=fig.add_subplot(1,2,2)\n",
    "plt.plot(iterations_rhc, train_acc_rhc, label = 'RHC')\n",
    "plt.plot(iterations_sa, train_acc_sa, label = 'SA')\n",
    "plt.plot(iterations_ga, train_acc_ga, label = 'GA')\n",
    "plt.plot(iterations_bp, train_acc_bp, label = 'BP')\n",
    "plt.legend()\n",
    "plt.xlabel(\"Iterations\")\n",
    "plt.ylabel(\"Accuracy\")\n",
    "plt.title(\"Training accuracy per iteration\")\n",
    "save_graph_path = f\"{GRAPHS_PATH}Training_stats.png\"\n",
    "plt.savefig(save_graph_path)\n",
    "plt.show()"
   ]
  },
  {
   "cell_type": "code",
   "execution_count": 65,
   "metadata": {},
   "outputs": [
    {
     "data": {
      "image/png": "[encoded data removed]",
      "text/plain": [
       "<Figure size 1080x360 with 2 Axes>"
      ]
     },
     "metadata": {
      "needs_background": "light"
     },
     "output_type": "display_data"
    }
   ],
   "source": [
    "fig=plt.figure(figsize=(15,5))\n",
    "ax1=fig.add_subplot(1,2,1)\n",
    "plt.plot(iterations_rhc, test_loss_rhc, label = 'RHC')\n",
    "plt.plot(iterations_sa, test_loss_sa, label = 'SA')\n",
    "plt.plot(iterations_ga, test_loss_ga, label = 'GA')\n",
    "plt.plot(iterations_bp, test_loss_bp, label = 'BP')\n",
    "plt.legend()\n",
    "plt.xlabel(\"Iterations\")\n",
    "plt.ylabel(\"Loss\")\n",
    "plt.title(\"Test loss per iteration\")\n",
    "ax2=fig.add_subplot(1,2,2)\n",
    "plt.plot(iterations_rhc, test_acc_rhc, label = 'RHC')\n",
    "plt.plot(iterations_sa, test_acc_sa, label = 'SA')\n",
    "plt.plot(iterations_ga, test_acc_ga, label = 'GA')\n",
    "plt.plot(iterations_bp, test_acc_bp, label = 'BP')\n",
    "plt.legend()\n",
    "plt.xlabel(\"Iterations\")\n",
    "plt.ylabel(\"Accuracy\")\n",
    "plt.title(\"Test accuracy per iteration\")\n",
    "save_graph_path = f\"{GRAPHS_PATH}Test_stats.png\"\n",
    "plt.savefig(save_graph_path)\n",
    "plt.show()"
   ]
  },
  {
   "cell_type": "code",
   "execution_count": 66,
   "metadata": {},
   "outputs": [
    {
     "data": {
      "image/png": "[encoded data removed]",
      "text/plain": [
       "<Figure size 1080x360 with 1 Axes>"
      ]
     },
     "metadata": {
      "needs_background": "light"
     },
     "output_type": "display_data"
    }
   ],
   "source": [
    "fig=plt.figure(figsize=(15,5))\n",
    "ax=fig.add_subplot(1,1,1)\n",
    "plt.plot(iterations_rhc,times_rhc, label = 'RHC')\n",
    "plt.plot(iterations_sa,times_sa, label = 'SA')\n",
    "plt.plot(iterations_ga,times_ga, label = 'GA')\n",
    "plt.plot(iterations_bp,times_bp, label = 'BP')\n",
    "plt.xlabel(\"Iterations\")\n",
    "plt.ylabel(\"Running time\")\n",
    "plt.title(\"Running time per iteration\")\n",
    "plt.legend()\n",
    "save_graph_path = f\"{GRAPHS_PATH}Running_time_stats.png\"\n",
    "plt.savefig(save_graph_path)\n",
    "plt.show()"
   ]
  },
  {
   "cell_type": "code",
   "execution_count": 67,
   "metadata": {},
   "outputs": [
    {
     "name": "stdout",
     "output_type": "stream",
     "text": [
      "Average running time/iteration for RHC: 0.006697802104040981 seconds/iteration\n",
      "Average running time/iteration for SA: 0.00847346802679268 seconds/iteration\n",
      "Average running time/iteration for GA: 0.09999871437864007 seconds/iteration\n",
      "Average running time/iteration for BP: 0.06237577516768507 seconds/iteration\n"
     ]
    }
   ],
   "source": [
    "for algo, time_list in [('RHC', times_rhc), ('SA', times_sa), ('GA', times_ga), ('BP', times_bp)]:\n",
    "    print(f\"Average running time/iteration for {algo}: {np.mean(time_list)/NB_ITERATIONS} seconds/iteration\")"
   ]
  },
  {
   "cell_type": "code",
   "execution_count": 68,
   "metadata": {},
   "outputs": [
    {
     "name": "stdout",
     "output_type": "stream",
     "text": [
      "\n",
      "rhc\n",
      "best train_loss: 9.375812383725629 | best train_acc: 0.7285454290914182\n",
      "best test_loss: 9.80646202901229 | best test_acc: 0.716077026421854\n",
      "\n",
      "sa\n",
      "best train_loss: 10.231679690625846 | best train_acc: 0.7037659246815063\n",
      "best test_loss: 10.440628544990116 | best test_acc: 0.6977160770264218\n",
      "\n",
      "ga\n",
      "best train_loss: 9.32749331790798 | best train_acc: 0.7299454010919781\n",
      "best test_loss: 9.760053286540963 | best test_acc: 0.7174205105239588\n",
      "\n",
      "bp\n",
      "best train_loss: 7.054855827709759 | best train_acc: 0.7957\n",
      "best test_loss: 6.960442305332848 | best test_acc: 0.7985\n"
     ]
    }
   ],
   "source": [
    "for algo in ['rhc', 'sa', 'ga', 'bp']:\n",
    "    train_loss = eval(f'train_loss_{algo}')\n",
    "    train_acc = eval(f'train_acc_{algo}')\n",
    "    test_loss = eval(f'test_loss_{algo}')\n",
    "    test_acc = eval(f'test_acc_{algo}')\n",
    "    \n",
    "    print(f\"\\n{algo}\\nbest train_loss: {np.min(train_loss)} | best train_acc: {np.max(train_acc)}\")\n",
    "    print(f\"best test_loss: {np.min(test_loss)} | best test_acc: {np.max(test_acc)}\")"
   ]
  },
  {
   "cell_type": "code",
   "execution_count": null,
   "metadata": {},
   "outputs": [],
   "source": []
  },
  {
   "cell_type": "code",
   "execution_count": null,
   "metadata": {},
   "outputs": [],
   "source": []
  }
 ],
 "metadata": {
  "kernelspec": {
   "display_name": "Python 3",
   "language": "python",
   "name": "python3"
  },
  "language_info": {
   "codemirror_mode": {
    "name": "ipython",
    "version": 3
   },
   "file_extension": ".py",
   "mimetype": "text/x-python",
   "name": "python",
   "nbconvert_exporter": "python",
   "pygments_lexer": "ipython3",
   "version": "3.7.9"
  }
 },
 "nbformat": 4,
 "nbformat_minor": 4
}
